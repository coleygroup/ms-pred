{
 "cells": [
  {
   "cell_type": "code",
   "execution_count": null,
   "metadata": {},
   "outputs": [],
   "source": [
    "%load_ext autoreload\n",
    "%autoreload 2\n",
    "\n",
    "import copy\n",
    "import os\n",
    "import sys\n",
    "from pathlib import Path\n",
    "import subprocess\n",
    "from platformdirs import user_cache_dir\n",
    "\n",
    "import pandas as pd\n",
    "import numpy as np\n",
    "import matplotlib.pyplot as plt\n",
    "from rdkit import Chem\n",
    "from rdkit.Chem import Draw, AllChem\n",
    "\n",
    "import ms_pred.common as common\n",
    "from ms_pred.dag_pred.iceberg_elucidation import candidates_from_pubchem, iceberg_prediction, load_real_spec, load_pred_spec, elucidation_over_candidates, plot_top_mols, explain_peaks, modi_finder"
   ]
  },
  {
   "cell_type": "code",
   "execution_count": null,
   "metadata": {
    "collapsed": false,
    "jupyter": {
     "outputs_hidden": false
    }
   },
   "outputs": [],
   "source": [
    "%cd /home/roger/ms-pred"
   ]
  },
  {
   "cell_type": "markdown",
   "metadata": {
    "collapsed": false,
    "jupyter": {
     "outputs_hidden": false
    }
   },
   "source": [
    "# Global configs\n",
    "Please modify the following paths/configs accordingly; for `pythonpath` on molgpu, you can either\n",
    "1) set up your own ms-gen environment from source \n",
    "2) use Mrunali's pre-built environment, after telling conda to look in my folder with `conda config --add envs_dirs /home/mrunali/miniconda3/envs`\n",
    "3) Clone Mrunali's pre-built environment into your own environment with `conda --clone` and then source that instead. "
   ]
  },
  {
   "cell_type": "code",
   "execution_count": null,
   "metadata": {
    "collapsed": false,
    "jupyter": {
     "outputs_hidden": false
    }
   },
   "outputs": [],
   "source": [
    "config = dict(\n",
    "    python_path='/home/mrunali/miniconda3/envs/ms-gen/bin/python',\n",
    "    gen_ckpt='/home/runzhong/ms-models/iceberg_results_20240630/dag_nist20/split_1_rnd1/version_0/best.ckpt',\n",
    "    inten_ckpt='/home/runzhong/ms-models/iceberg_results_20240630/dag_inten_nist20/split_1_rnd1/version_0/best.ckpt',\n",
    "    cuda_devices=1,\n",
    "    batch_size=8,\n",
    "    num_workers=6,\n",
    "    sparse_k=100,\n",
    "    max_nodes=100,\n",
    "    threshold=0.0,\n",
    "    binned_out=False,\n",
    "    ppm=20,\n",
    "    num_bins=15000,\n",
    "    dist_func='entropy'\n",
    ")"
   ]
  },
  {
   "cell_type": "markdown",
   "metadata": {
    "collapsed": false,
    "jupyter": {
     "outputs_hidden": false
    }
   },
   "source": [
    "The following cell enables SA score. See instructions in [the rdkik blog](https://greglandrum.github.io/rdkit-blog/posts/2023-12-01-using_sascore_and_npscore.html)\n",
    "You can safely skip it if you are not setting ``sa_score=True`` in function ``plot_top_mols``"
   ]
  },
  {
   "cell_type": "code",
   "execution_count": null,
   "metadata": {
    "collapsed": false,
    "jupyter": {
     "outputs_hidden": false
    }
   },
   "outputs": [],
   "source": [
    "# sys.path.append(os.path.join(os.environ['CONDA_PREFIX'],'share','RDKit','Contrib'))\n",
    "sys.path.append(os.path.join('/home/roger/miniforge3/envs/ms-main','share','RDKit','Contrib'))\n",
    "from SA_Score import sascorer"
   ]
  },
  {
   "cell_type": "markdown",
   "metadata": {
    "collapsed": false,
    "jupyter": {
     "outputs_hidden": false
    }
   },
   "source": [
    "# Elucidation on Pesticide Degradation\n",
    "\n",
    "### Run SIRIUS to assign formula and adduct"
   ]
  },
  {
   "cell_type": "code",
   "execution_count": null,
   "metadata": {
    "collapsed": false,
    "jupyter": {
     "outputs_hidden": false
    }
   },
   "outputs": [],
   "source": [
    "inp_mgf = '/home/roger/ms_collaborators/Joules-Pesticide/sirius.mgf'\n",
    "candidates_csv = '/home/roger/ms_collaborators/Joules-Pesticide/chemical_transformation_predictions.csv'\n",
    "\n",
    "# load mgf and candidates\n",
    "all_specs = common.parse_spectra_mgf(inp_mgf)\n",
    "feat_id_to_specs = {\n",
    "    entry[0]['FEATURE_ID']: entry[1][0][1]\n",
    "    for entry in all_specs if entry[0]['MSLEVEL'] == '2'\n",
    "}\n",
    "all_candidates = pd.read_csv(candidates_csv)"
   ]
  },
  {
   "cell_type": "code",
   "execution_count": null,
   "metadata": {
    "collapsed": false,
    "jupyter": {
     "outputs_hidden": false
    }
   },
   "outputs": [],
   "source": [
    "# Run SIRIUS to explain formula\n",
    "profile = 'orbitrap'\n",
    "ppm_max = 5\n",
    "sirius_path = '/home/roger/miniforge3/envs/ms-main/bin/sirius'\n",
    "top_k_sirius_preds = 5\n",
    "\n",
    "def form_from_mgf(inp_mgf):\n",
    "    sirius_config_cmd = f'--ignore-formula --noCite formula ' \\\n",
    "                        f'-p {profile} --ppm-max={ppm_max} write-summaries'\n",
    "    exp_hash = common.md5(inp_mgf) + '||' + sirius_config_cmd\n",
    "    out_dir = Path(user_cache_dir(f\"ms-pred/sirius-out/{common.str_to_hash(exp_hash)}\"))\n",
    "    out_dir.mkdir(parents=True, exist_ok=True)\n",
    "\n",
    "    if not (out_dir / 'sirius_run_successful').exists():\n",
    "        sirius_command = (f'/home/roger/miniforge3/condabin/conda run -n ms-main '\n",
    "                          f'sirius -o {out_dir} '\n",
    "                          f'-i {inp_mgf} ' + sirius_config_cmd)\n",
    "        print(\"Running SIRIUS, command:\\n\" + sirius_command + \"\\n\")\n",
    "        run_result = subprocess.run(sirius_command, shell=True)\n",
    "\n",
    "        if run_result.returncode == 0:  # successful\n",
    "            (out_dir / 'sirius_run_successful').touch()\n",
    "\n",
    "    feature_id_to_form = {}\n",
    "    for per_cmpd_out_dir in out_dir.glob('*'):\n",
    "        feature_id = per_cmpd_out_dir.stem.split('_')[-1]\n",
    "        sirius_cands_path = per_cmpd_out_dir / 'formula_candidates.tsv'\n",
    "        if sirius_cands_path.exists():\n",
    "            adduct_and_form = []\n",
    "            df = pd.read_csv(sirius_cands_path, sep='\\t')\n",
    "            for idx, sirius_row in df.iterrows():\n",
    "                if idx >= top_k_sirius_preds:\n",
    "                    continue\n",
    "                adduct = sirius_row['adduct'].replace(\" \", \"\")\n",
    "                adduct_and_form.append(dict(rnk=idx+1, adduct=adduct, form=sirius_row['molecularFormula']))\n",
    "            feature_id_to_form[feature_id] = adduct_and_form\n",
    "    return feature_id_to_form"
   ]
  },
  {
   "cell_type": "code",
   "execution_count": null,
   "metadata": {
    "collapsed": false,
    "jupyter": {
     "outputs_hidden": false
    }
   },
   "outputs": [],
   "source": [
    "# Run SIRIUS\n",
    "feature_id_to_form = form_from_mgf(inp_mgf)\n",
    "\n",
    "# prepare entries\n",
    "feat_id_to_dict = {}\n",
    "for feature_id, all_info in feature_id_to_form.items():\n",
    "    adduct_to_smiles = {}\n",
    "    for info in all_info:\n",
    "        for cand_form, cand_smi in zip(all_candidates['formula'], all_candidates['smiles']):\n",
    "            diff = common.formula_difference(info['form'], cand_form)\n",
    "            if len(diff) == 0:  # same formula\n",
    "                if info['adduct'] in adduct_to_smiles:\n",
    "                    adduct_to_smiles[info['adduct']].append(cand_smi)\n",
    "                else:\n",
    "                    adduct_to_smiles[info['adduct']] = [cand_smi]\n",
    "    if len(adduct_to_smiles) > 0:\n",
    "        # remove duplicate inchikey\n",
    "        for adduct, smiles in adduct_to_smiles.items():\n",
    "            inchikeys = [common.inchikey_from_smiles(smi) for smi in smiles]\n",
    "            _, uniq_idx = np.unique(inchikeys, return_index=True)\n",
    "            adduct_to_smiles[adduct] = np.array(smiles)[uniq_idx].tolist()\n",
    "\n",
    "        feat_id_to_dict[feature_id] = {\n",
    "            'feature_id': feature_id,\n",
    "            'spec': {'nan': feat_id_to_specs[feature_id]},\n",
    "            'adduct_to_smiles': adduct_to_smiles,\n",
    "        }"
   ]
  },
  {
   "cell_type": "code",
   "execution_count": null,
   "metadata": {
    "collapsed": false
   },
   "outputs": [],
   "source": [
    "# write feature matchings for analysis\n",
    "row_to_match = {}\n",
    "for i in feat_id_to_dict.values():\n",
    "    for adduct, smis in i['adduct_to_smiles'].items():\n",
    "        for smi in smis:\n",
    "            for row_idx in all_candidates.index[all_candidates['smiles'] == smi]:\n",
    "                if row_idx not in row_to_match:\n",
    "                    row_to_match[row_idx] = f\"feat_id={i['feature_id']}, {adduct}\"\n",
    "                else:\n",
    "                    row_to_match[row_idx] += f\"; feat_id={i['feature_id']}, {adduct}\"\n",
    "all_candidates['matched features'] = row_to_match\n",
    "all_candidates.to_csv(candidates_csv + '2', index=False)\n",
    "all_candidates"
   ]
  },
  {
   "cell_type": "markdown",
   "metadata": {
    "collapsed": false
   },
   "source": [
    "### Run ICEBERG prediction"
   ]
  },
  {
   "cell_type": "code",
   "execution_count": null,
   "metadata": {
    "collapsed": false,
    "jupyter": {
     "outputs_hidden": false
    }
   },
   "outputs": [],
   "source": [
    "def pesticide_elucidation(info_dict, vis_peaks=False, energy=[30, 40, 60]):\n",
    "    pesticide_config = copy.deepcopy(config)\n",
    "    pesticide_config['nce'] = True # use nce for collision energy\n",
    "    pesticide_config['step_collision_energy'] = True  # step collision energy i.e. multiple spectrum are obtained then merged\n",
    "    pesticide_config['real_spec_type'] = 'raw'\n",
    "\n",
    "    for adduct, smiles in info_dict['adduct_to_smiles'].items():\n",
    "        pesticide_config['adduct'] = adduct\n",
    "\n",
    "        # Run ICEBERG to predict spectra\n",
    "        result_path, pmz = iceberg_prediction(smiles, energy, **pesticide_config)\n",
    "\n",
    "        # Compare spectrum similarity for elucidation\n",
    "        topk_results = elucidation_over_candidates(result_path, info_dict[\"spec\"], precursor_mass=pmz, mol_name=info_dict[\"feature_id\"], topk=15, **pesticide_config)\n",
    "\n",
    "        # Plot top results\n",
    "        img = plot_top_mols(topk_results)\n",
    "\n",
    "        # Visualize and explain peaks\n",
    "        if vis_peaks:\n",
    "            for smi, _, __ in topk_results:\n",
    "                explain_peaks(result_path, info_dict[\"spec\"], pmz, smi, num_peaks=10, **pesticide_config)\n",
    "\n",
    "        return img"
   ]
  },
  {
   "cell_type": "code",
   "execution_count": null,
   "metadata": {
    "collapsed": false,
    "jupyter": {
     "outputs_hidden": false
    }
   },
   "outputs": [],
   "source": [
    "pesticide_elucidation(feat_id_to_dict['1505'], True)"
   ]
  },
  {
   "cell_type": "markdown",
   "metadata": {
    "collapsed": false,
    "jupyter": {
     "outputs_hidden": false
    }
   },
   "source": [
    "# Reaction discovery"
   ]
  },
  {
   "cell_type": "code",
   "execution_count": null,
   "metadata": {
    "collapsed": false,
    "jupyter": {
     "outputs_hidden": false
    }
   },
   "outputs": [],
   "source": [
    "inp_mgf = '/home/roger/ms_collaborators/Bo-reaction-discovery/20240817_orbitrap_msms/sirius.mgf'\n",
    "all_specs = common.parse_spectra_mgf(inp_mgf)\n",
    "feat_id_to_specs = {\n",
    "    entry[0]['FEATURE_ID']: entry[1][0][1]\n",
    "    for entry in all_specs if entry[0]['MSLEVEL'] == '2'\n",
    "}"
   ]
  },
  {
   "cell_type": "code",
   "execution_count": null,
   "metadata": {
    "collapsed": false
   },
   "outputs": [],
   "source": [
    "# Run sirius\n",
    "feature_id_to_form = form_from_mgf(inp_mgf)\n",
    "feature_id_to_form['2171']"
   ]
  },
  {
   "cell_type": "code",
   "execution_count": null,
   "metadata": {
    "collapsed": false,
    "jupyter": {
     "outputs_hidden": false
    }
   },
   "outputs": [],
   "source": [
    "# visualize candidates\n",
    "import itertools\n",
    "cand_smiles = []\n",
    "for a, b, c in itertools.permutations(['(Cl)', '(Br)', '(O)'], 3):\n",
    "    smiles = f'C1{a}=CC=CC=C1/N=C(C=C)/CCC{b}C{c}'\n",
    "    cand_smiles.append(common.rm_stereo(smiles))\n",
    "# cand_smiles += candidates_from_pubchem('C13H15BrClNO').tolist()\n",
    "mols = [Chem.MolFromSmiles(smi) for smi in cand_smiles][:15]\n",
    "Draw.MolsToGridImage(mols, molsPerRow=5, subImgSize=(250,250), maxMols=len(mols))"
   ]
  },
  {
   "cell_type": "code",
   "execution_count": null,
   "metadata": {
    "collapsed": false,
    "jupyter": {
     "outputs_hidden": false
    }
   },
   "outputs": [],
   "source": [
    "feature_id = '2171'\n",
    "pesticide_elucidation({\n",
    "    'feature_id': feature_id,\n",
    "    'spec': {'nan': feat_id_to_specs[feature_id]},\n",
    "    'adduct_to_smiles': {'[M+H]+': cand_smiles},\n",
    "}, True, energy=[20, 35]\n",
    ")"
   ]
  },
  {
   "cell_type": "markdown",
   "metadata": {
    "collapsed": false,
    "jupyter": {
     "outputs_hidden": false
    }
   },
   "source": [
    "# Elucidation on Withanolide data"
   ]
  },
  {
   "cell_type": "code",
   "execution_count": null,
   "metadata": {
    "collapsed": false,
    "jupyter": {
     "outputs_hidden": false
    }
   },
   "outputs": [],
   "source": [
    "def spec_from_csv(csv_paths, precursor, colli_eng='collision 30', ppm=20):\n",
    "    clean_ref_spec = None\n",
    "    for csv_path in csv_paths:\n",
    "        spec_df = pd.read_csv(csv_path, header=2)\n",
    "        ref_spec = common.process_spec_file({'parentmass': precursor}, [(colli_eng, np.array(spec_df))], merge_specs=False)\n",
    "        if clean_ref_spec is None:\n",
    "            clean_ref_spec = ref_spec\n",
    "        else:\n",
    "            new_clean_peaks = []\n",
    "            for mz, inten in clean_ref_spec[colli_eng]:\n",
    "                match = np.abs(mz - ref_spec[colli_eng][:, 0]) / mz < 1e-6 * ppm  # only keep peaks that exist in all replicates\n",
    "                if np.any(match):\n",
    "                    otherinten = ref_spec[colli_eng][np.where(match), 1]\n",
    "                    new_clean_peaks.append((mz, inten + otherinten.item()))\n",
    "            clean_ref_spec = {colli_eng: np.array(new_clean_peaks)}\n",
    "    clean_ref_spec[colli_eng][:, 1] /= np.max(clean_ref_spec[colli_eng][:, 1])\n",
    "    return clean_ref_spec\n",
    "\n",
    "def mol_ok(mol):\n",
    "    try:\n",
    "        Chem.SanitizeMol(mol)\n",
    "        return True\n",
    "    except ValueError:\n",
    "        return False\n",
    "\n",
    "def ring_OK(mol):\n",
    "    if not mol.HasSubstructMatch(Chem.MolFromSmarts(\"[R]\")):\n",
    "        return True\n",
    "\n",
    "    ring_allene = mol.HasSubstructMatch(Chem.MolFromSmarts(\"[R]=[R]=[R]\"))\n",
    "\n",
    "    cycle_list = mol.GetRingInfo().AtomRings()\n",
    "    max_cycle_length = max([len(j) for j in cycle_list])\n",
    "    macro_cycle = max_cycle_length > 6\n",
    "\n",
    "    double_bond_in_small_ring = mol.HasSubstructMatch(\n",
    "        Chem.MolFromSmarts(\"[r3,r4]=[r3,r4]\")\n",
    "    )\n",
    "\n",
    "    return not ring_allene and not macro_cycle and not double_bond_in_small_ring\n",
    "\n",
    "def generate_candidates(base_mols, all_rxn_smarts):\n",
    "    iterable = True\n",
    "    try:\n",
    "        _ = iter(base_mols)\n",
    "    except TypeError as te:\n",
    "        iterable = False\n",
    "\n",
    "    if not iterable:\n",
    "        base_mols = [base_mols]\n",
    "\n",
    "    candidate_pathways = []\n",
    "    all_new_mols = []\n",
    "    for rxn_smarts in all_rxn_smarts:\n",
    "        rxn = AllChem.ReactionFromSmarts(rxn_smarts)\n",
    "        for base_mol in base_mols:\n",
    "            new_mol_trial = rxn.RunReactants((base_mol,))\n",
    "            new_mols = np.array([mol[0] for mol in new_mol_trial if mol_ok(mol[0]) and ring_OK(mol[0])])\n",
    "            new_inchikey = np.array([Chem.MolToInchiKey(mol) for mol in new_mols])\n",
    "            _, indices = np.unique(new_inchikey, return_index=True)\n",
    "            new_mols = new_mols[indices]\n",
    "            candidate_pathways += [(Chem.MolToSmiles(base_mol), Chem.MolToSmiles(m)) for m in new_mols]\n",
    "            all_new_mols += new_mols.tolist()\n",
    "\n",
    "    new_inchikey = np.array([Chem.MolToInchiKey(mol) for mol in all_new_mols])\n",
    "    _, indices = np.unique(new_inchikey, return_index=True)\n",
    "    all_new_mols = np.array(all_new_mols)[indices]\n",
    "    return all_new_mols, candidate_pathways\n",
    "\n",
    "def add_atom(base_mols, new_atom='O'):  # Hydrogen is ignored, new_atom='C' means 'CH2'\n",
    "    all_rxn_smarts = [\n",
    "        \"[*:1]>>[*:1]X\".replace(\"X\", new_atom),  # append\n",
    "        # \"[*:1]-[*:2]>>[*:1]X[*:2]\".replace(\"X\", new_atom),  # insert\n",
    "    ]\n",
    "    if new_atom == 'O':\n",
    "        all_rxn_smarts.append(\n",
    "            \"[*:1]=[*:2]>>[*:1]1X[*:2]1\".replace(\"X\", new_atom),  # double bond -> C-O-C ring\n",
    "        )\n",
    "    return generate_candidates(base_mols, all_rxn_smarts)\n",
    "\n",
    "def add_unsaturation(base_mols):  # add double bond or add one ring\n",
    "    all_rxn_smarts = [\n",
    "        \"[*:1]-[*:2]>>[*:1]=[*:2]\",  # single bond -> double bond\n",
    "        \"[*:1]=[*:2]>>[*:1]#[*:2]\",  # double bond -> triple bond\n",
    "        \"[*;!r;!H0:1]~[*;!r:2]~[*;!r;!H0:3]>>[*:1]1~[*:2]~[*:3]1\",  # rings\n",
    "        \"[*;!r;!H0:1]~[*!r:2]~[*!r:3]~[*;!r;!H0:4]>>[*:1]1~[*:2]~[*:3]~[*:4]1\",\n",
    "        \"[*;!r;!H0:1]~[*!r:2]~[*:3]~[*:4]~[*;!r;!H0:5]>>[*:1]1~[*:2]~[*:3]~[*:4]~[*:5]1\",\n",
    "        \"[*;!r;!H0:1]~[*!r:2]~[*:3]~[*:4]~[*!r:5]~[*;!r;!H0:6]>>[*:1]1~[*:2]~[*:3]~[*:4]~[*:5]~[*:6]1\",\n",
    "    ]\n",
    "    return generate_candidates(base_mols, all_rxn_smarts)\n",
    "\n",
    "def withanolide_elucidation(meta, visual_peaks=False):\n",
    "    withanolide_config = copy.deepcopy(config)\n",
    "    withanolide_config['real_spec_type'] = 'raw'\n",
    "    withanolide_config['adduct'] = meta[\"adduct\"]\n",
    "\n",
    "    # Run ICEBERG to predict spectra\n",
    "    result_path, pmz = iceberg_prediction(meta[\"candidate_smiles\"], [30], **withanolide_config)\n",
    "\n",
    "    # Compare spectrum similarity for elucidation\n",
    "    topk_results = elucidation_over_candidates(result_path, meta[\"ref_spec\"], precursor_mass=pmz, mol_name=meta[\"cmpd_name\"], topk=30, **withanolide_config)\n",
    "\n",
    "    # Plot top results\n",
    "    img = plot_top_mols(topk_results)\n",
    "\n",
    "    # Visualize and explain peaks\n",
    "    if visual_peaks:\n",
    "        if 'real_smi' in meta:\n",
    "            all_smiles = [meta['real_smi']]\n",
    "        else:\n",
    "            all_smiles = meta[\"candidate_smiles\"]\n",
    "        for smi in all_smiles:\n",
    "            explain_peaks(result_path, meta[\"ref_spec\"], pmz, smi, num_peaks=10, **withanolide_config)\n",
    "\n",
    "    return img"
   ]
  },
  {
   "cell_type": "code",
   "execution_count": null,
   "metadata": {
    "collapsed": false,
    "jupyter": {
     "outputs_hidden": false
    }
   },
   "outputs": [],
   "source": [
    "precursor = common.rm_stereo(r'C[C@]12C(C[C@@H](O)CC2)=CC[C@]3([H])[C@]1([H])CC[C@@]4(C)[C@@]3([H])CC[C@@H]4[C@H](C)CC/C(C)=C(C)/C')\n",
    "cmpd1_smi = common.rm_stereo(r'C[C@]12C(C[C@@H](O)CC2)=CC[C@]3([H])[C@]1([H])CC[C@@]4(C)[C@@]3([H])CC[C@@H]4[C@H](C)[C@H](O)C/C(C)=C(C)/C')\n",
    "cmpd5_smi = common.rm_stereo(r'CC(C)=C(C)CC(O)C(C)C1CCC2C3CC=C4CC(O)CC(O)C4(C)C3CCC12C')\n",
    "cmpd35_smi = common.rm_stereo(r'C[C@]12C(C[C@@H](O)C[C@@H]2O)=CCC3C1CC[C@@]4(C)C3CC[C@@H]4[C@H](C)[C@H](O)C/C(C)=C(CO)/C')\n",
    "cmpd36_smi = common.rm_stereo(r'C[C@]12C(C[C@@H](O)CC2O)=CCC3C1CC[C@@]4(C)C3CC[C@@H]4[C@H](C)C5OC(C(C)=C(C)C5)=O')\n",
    "\n",
    "withanolide_meta = {}\n",
    "\n",
    "withanolide_meta['cmpd1'] = {\n",
    "    \"cmpd_name\": \"cmpd1\",\n",
    "    \"precursor\": 397.3465,\n",
    "    \"adduct\": '[M+H-H2O]+',\n",
    "    \"spec_name\": 'cmpd1-ms2',\n",
    "    \"replicate_suffix\": ('1', '2', '3'),\n",
    "    \"start_smi\": precursor,\n",
    "    \"form_change\": '+O',\n",
    "    \"real_smi\": cmpd1_smi,\n",
    "}\n",
    "\n",
    "withanolide_meta['cmpd5'] = {\n",
    "    \"cmpd_name\": \"cmpd5\",\n",
    "    \"precursor\": 413.3415,\n",
    "    \"adduct\": '[M+H-H2O]+',\n",
    "    \"spec_name\": 'cmpd5-ms2',\n",
    "    \"replicate_suffix\": ('1', '2'),\n",
    "    \"start_smi\": cmpd1_smi,\n",
    "    \"form_change\": '+O',\n",
    "    \"real_smi\": cmpd5_smi,\n",
    "}\n",
    "\n",
    "withanolide_meta['cmpd35'] = {\n",
    "    \"cmpd_name\": \"cmpd35\",\n",
    "    \"precursor\": 429.336,\n",
    "    \"adduct\": '[M+H-H2O]+',\n",
    "    \"spec_name\": 'cmpd35-ms2',\n",
    "    \"replicate_suffix\": ('1', '2'),\n",
    "    \"start_smi\": cmpd5_smi,\n",
    "    \"form_change\": '+O',\n",
    "    \"real_smi\": cmpd35_smi,\n",
    "}\n",
    "\n",
    "# update 2024/07/24\n",
    "withanolide_meta['cmpd6'] = {\n",
    "    \"cmpd_name\": \"cmpd6\",\n",
    "    \"precursor\": 413.3415,\n",
    "    \"adduct\": '[M+H-H2O]+',\n",
    "    \"spec_name\": 'cmpd6-ms2',\n",
    "    \"replicate_suffix\": ('1', '2'),\n",
    "    \"start_smi\": cmpd1_smi,\n",
    "    \"form_change\": '+O',\n",
    "}\n",
    "\n",
    "withanolide_meta['cmpd36'] = {\n",
    "    \"cmpd_name\": \"cmpd36\",\n",
    "    \"precursor\": 443.315,\n",
    "    \"adduct\": '[M+H]+',\n",
    "    \"spec_name\": 'cmpd36-ms2',\n",
    "    \"replicate_suffix\": ('1', '2'),\n",
    "    \"candidate_smiles\": [cmpd36_smi],\n",
    "    \"real_smi\": cmpd36_smi,\n",
    "}\n",
    "\n",
    "withanolide_meta['cmpd41'] = {\n",
    "    \"cmpd_name\": \"cmpd41\",\n",
    "    \"precursor\": 441.29959,\n",
    "    \"adduct\": '[M+H]+',\n",
    "    \"spec_name\": 'cmpd41-ms2',\n",
    "    \"replicate_suffix\": ('1', '2'),\n",
    "    \"candidate_smiles\": [\n",
    "        common.rm_stereo(r'C[C@]12C(CC(CC2O)=O)=CCC3C1CC[C@@]4(C)C3CC[C@@H]4[C@H](C)C5OC(C(C)=C(C)C5)=O'),\n",
    "        common.rm_stereo(r'C[C@]12C(C[C@@H](O)CC2=O)=CCC3C1CC[C@@]4(C)C3CC[C@@H]4[C@H](C)C5OC(C(C)=C(C)C5)=O'),\n",
    "]\n",
    "}\n",
    "\n",
    "withanolide_meta['cmpd42'] = {\n",
    "    \"cmpd_name\": \"cmpd42\",\n",
    "    \"precursor\": 521.25675,\n",
    "    \"adduct\": '[M+H]+',\n",
    "    \"spec_name\": 'cmpd42-ms2',\n",
    "    \"replicate_suffix\": ('1', '2'),\n",
    "    \"candidate_smiles\": [\n",
    "        common.rm_stereo(r'C[C@]12C(CC(CC2OS(=O)(O)=O)=O)=CCC3C1CC[C@@]4(C)C3CC[C@@H]4[C@H](C)C5OC(C(C)=C(C)C5)=O'),\n",
    "        common.rm_stereo(r'C[C@]12C(C[C@@H](OS(=O)(O)=O)CC2=O)=CCC3C1CC[C@@]4(C)C3CC[C@@H]4[C@H](C)C5OC(C(C)=C(C)C5)=O'),\n",
    "    ]\n",
    "}\n",
    "\n",
    "withanolide_meta['cmpd42-neg'] = {\n",
    "    \"cmpd_name\": \"cmpd42\",\n",
    "    \"precursor\": 519.2422,\n",
    "    \"adduct\": '[M-H]-',\n",
    "    \"spec_name\": 'cmpd42-ms2-neg',\n",
    "    \"replicate_suffix\": ('1', '2'),\n",
    "    \"candidate_smiles\": [\n",
    "        common.rm_stereo(r'C[C@]12C(C[C@@H](OS(=O)(O)=O)CC2=O)=CCC3C1CC[C@@]4(C)C3CC[C@@H]4[C@H](C)C5OC(C(C)=C(C)C5)=O'),\n",
    "        common.rm_stereo(r'C[C@]12C(CC(CC2OS(=O)(O)=O)=O)=CCC3C1CC[C@@]4(C)C3CC[C@@H]4[C@H](C)C5OC(C(C)=C(C)C5)=O')\n",
    "    ]\n",
    "}\n",
    "\n",
    "\n",
    "# generate candidate smiles\n",
    "for meta in withanolide_meta.values():\n",
    "    if \"start_smi\" in meta:\n",
    "        start_smi = common.rm_stereo(meta[\"start_smi\"])\n",
    "        start_mol = Chem.MolFromSmiles(start_smi)\n",
    "        assert \"+\" == meta[\"form_change\"][0]\n",
    "        mol_candidates, _ = add_atom(start_mol, meta[\"form_change\"][1:])\n",
    "        meta[\"candidate_smiles\"] = [Chem.MolToSmiles(_) for _ in mol_candidates]\n",
    "\n",
    "    # read spec from csv\n",
    "    real_spec_paths = [f'/home/roger/ms_collaborators/Erin-withanolide/20240326_withanolide_intermediates_MS2_centroided/{meta[\"spec_name\"]}-{suffix}.csv' for suffix in meta[\"replicate_suffix\"]]\n",
    "    meta[\"ref_spec\"] = spec_from_csv(real_spec_paths, meta[\"precursor\"])"
   ]
  },
  {
   "cell_type": "code",
   "execution_count": null,
   "metadata": {
    "collapsed": false,
    "jupyter": {
     "outputs_hidden": false
    }
   },
   "outputs": [],
   "source": [
    "withanolide_elucidation(withanolide_meta['cmpd5'], True)"
   ]
  },
  {
   "cell_type": "markdown",
   "metadata": {
    "collapsed": false,
    "jupyter": {
     "outputs_hidden": false
    }
   },
   "source": [
    "# Modifinder"
   ]
  },
  {
   "cell_type": "code",
   "execution_count": null,
   "metadata": {
    "collapsed": false,
    "jupyter": {
     "outputs_hidden": false
    }
   },
   "outputs": [],
   "source": [
    "meta1 = withanolide_meta['cmpd1']\n",
    "meta2 = withanolide_meta['cmpd6']\n",
    "form_diff = '+O'\n",
    "\n",
    "assert meta1['adduct'] == meta2['adduct']\n",
    "withanolide_config = copy.deepcopy(config)\n",
    "withanolide_config['real_spec_type'] = 'raw'\n",
    "withanolide_config['adduct'] = meta1[\"adduct\"]\n",
    "withanolide_config['max_nodes'] = 500\n",
    "withanolide_config['sparse_k'] = 500\n",
    "\n",
    "# Run ICEBERG to predict spectra for mol1\n",
    "result_path, pmz = iceberg_prediction(meta1[\"candidate_smiles\"], [30], **withanolide_config)\n",
    "\n",
    "imgs = modi_finder(\n",
    "    form_diff, result_path, meta1[\"real_smi\"],\n",
    "    meta1[\"cmpd_name\"], meta1[\"precursor\"], meta1[\"ref_spec\"], \"raw\",\n",
    "    meta2[\"cmpd_name\"], meta2[\"precursor\"], meta2[\"ref_spec\"], \"raw\",\n",
    "    topk_peaks=15, return_thresh=0.1\n",
    ")\n",
    "for img in imgs:\n",
    "    plt.figure()\n",
    "    plt.axis('off')\n",
    "    plt.title('Possible modification sites')\n",
    "    plt.imshow(img)"
   ]
  },
  {
   "cell_type": "markdown",
   "metadata": {
    "collapsed": false,
    "jupyter": {
     "outputs_hidden": false
    }
   },
   "source": [
    "# Elucidation on Broad data"
   ]
  },
  {
   "cell_type": "code",
   "execution_count": null,
   "metadata": {
    "collapsed": false,
    "jupyter": {
     "outputs_hidden": false
    }
   },
   "outputs": [],
   "source": [
    "def broad_elucidation(spec_file, formula, real_smi=None, name=\"\", vis_peaks=False, **kwargs):\n",
    "    broad_config = copy.deepcopy(config)\n",
    "    broad_config['nce'] = True # use nce for collision energy\n",
    "    for k, v in kwargs.items():\n",
    "        broad_config[k] = v\n",
    "    exp_spec_path = f'/home/roger/ms_collaborators/broad-Julian/spec_files/{spec_file}.ms'\n",
    "\n",
    "    # Get candidates\n",
    "    smiles = candidates_from_pubchem(formula)\n",
    "\n",
    "    # Run ICEBERG to predict spectra\n",
    "    result_path, pmz = iceberg_prediction(smiles, [10, 20, 30, 40, 50], **broad_config)\n",
    "\n",
    "    # Compare spectrum similarity for elucidation\n",
    "    topk_results = elucidation_over_candidates(result_path, exp_spec_path, precursor_mass=pmz, mol_name=name, real_smiles=real_smi, **broad_config)\n",
    "\n",
    "    # Plot top results\n",
    "    img = plot_top_mols(topk_results)\n",
    "\n",
    "    # Visualize and explain peaks\n",
    "    if vis_peaks:\n",
    "        explain_peaks(result_path, exp_spec_path, pmz, real_smi, num_peaks=10, **broad_config)\n",
    "\n",
    "    return img\n"
   ]
  },
  {
   "cell_type": "markdown",
   "metadata": {
    "collapsed": false,
    "jupyter": {
     "outputs_hidden": false
    }
   },
   "source": [
    "## GABA-Arg isomers elucidation"
   ]
  },
  {
   "cell_type": "code",
   "execution_count": null,
   "metadata": {
    "collapsed": false,
    "jupyter": {
     "outputs_hidden": false
    }
   },
   "outputs": [],
   "source": [
    "broad_elucidation('mxp4308', 'C10H21N5O3', r'C(C[C@@H](C(=O)O)NC(=O)CCCN)CN=C(N)N', 'GABA-Arg', False)"
   ]
  },
  {
   "cell_type": "code",
   "execution_count": null,
   "metadata": {
    "collapsed": false,
    "jupyter": {
     "outputs_hidden": false
    }
   },
   "outputs": [],
   "source": [
    "broad_elucidation('mxp4309', 'C10H21N5O3', r'O=C(NCCCC(O)=O)C(N)CCC/N=C(N)\\N', 'Arg-GABA')"
   ]
  },
  {
   "cell_type": "code",
   "execution_count": null,
   "metadata": {
    "collapsed": false,
    "jupyter": {
     "outputs_hidden": false
    }
   },
   "outputs": [],
   "source": [
    "broad_elucidation('mxp4155', 'C10H21N5O3', r'C[C@@H](C(=O)N[C@@H](CCCCN=C(N)N)C(=O)O)N', 'Alanylhomoaruginine')"
   ]
  },
  {
   "cell_type": "code",
   "execution_count": null,
   "metadata": {
    "collapsed": false,
    "jupyter": {
     "outputs_hidden": false
    }
   },
   "outputs": [],
   "source": [
    "broad_elucidation('mxp4156', 'C10H21N5O3', r'N/C(N)=N\\CCCC(C(O)=O)NC(C(N)CC)=O', '2-(2-aminobutanamido)-5- [(diaminomethylidene)amino]pentanoic acid')"
   ]
  },
  {
   "cell_type": "code",
   "execution_count": null,
   "metadata": {
    "collapsed": false,
    "jupyter": {
     "outputs_hidden": false
    }
   },
   "outputs": [],
   "source": [
    "broad_elucidation('mxp4157', 'C10H21N5O3', r'O=C(O)C(N)CCCNC(CCC/N=C(N)\\N)=O', '2-amino-5-{4 [(diaminomethylidene)amino]butanamido}pentanoic acid')"
   ]
  },
  {
   "cell_type": "markdown",
   "metadata": {
    "collapsed": false,
    "jupyter": {
     "outputs_hidden": false
    }
   },
   "source": [
    "## OH-Tryptopha elucidation"
   ]
  },
  {
   "cell_type": "code",
   "execution_count": null,
   "metadata": {
    "collapsed": false,
    "jupyter": {
     "outputs_hidden": false
    }
   },
   "outputs": [],
   "source": [
    "broad_elucidation('mxp4310', 'C11H12N2O3', 'C1=CC2=C(C(=C1)O)C(=CN2)CC(C(=O)O)N', '4-Hydroxy Tryptophan')"
   ]
  },
  {
   "cell_type": "code",
   "execution_count": null,
   "metadata": {
    "collapsed": false,
    "jupyter": {
     "outputs_hidden": false
    }
   },
   "outputs": [],
   "source": [
    "broad_elucidation('mxp4310_all', 'C11H12N2O3', 'C1=CC2=C(C(=C1)O)C(=CN2)CC(C(=O)O)N', '4-Hydroxy Tryptophan (all peaks)')"
   ]
  },
  {
   "cell_type": "code",
   "execution_count": null,
   "metadata": {
    "collapsed": false,
    "jupyter": {
     "outputs_hidden": false
    }
   },
   "outputs": [],
   "source": [
    "broad_elucidation('mxp0141', 'C11H12N2O3', 'C1=CC2=C(C=C1O)C(=CN2)C[C@@H](C(=O)O)N', '5-Hydroxy Tryptophan')"
   ]
  },
  {
   "cell_type": "code",
   "execution_count": null,
   "metadata": {
    "collapsed": false,
    "jupyter": {
     "outputs_hidden": false
    }
   },
   "outputs": [],
   "source": [
    "broad_elucidation('mxp0141_all', 'C11H12N2O3', 'C1=CC2=C(C=C1O)C(=CN2)C[C@@H](C(=O)O)N', '5-Hydroxy Tryptophan (all peaks)')"
   ]
  },
  {
   "cell_type": "code",
   "execution_count": null,
   "metadata": {
    "collapsed": false,
    "jupyter": {
     "outputs_hidden": false
    }
   },
   "outputs": [],
   "source": [
    "broad_elucidation('mxp4412', 'C11H12N2O3', 'C1=CC2=C(C(=C1)O)NC=C2CC(C(=O)O)N', '7-Hydroxy Tryptophan')"
   ]
  },
  {
   "cell_type": "code",
   "execution_count": null,
   "metadata": {
    "collapsed": false,
    "jupyter": {
     "outputs_hidden": false
    }
   },
   "outputs": [],
   "source": [
    "broad_elucidation('mxp4412_all', 'C11H12N2O3', 'C1=CC2=C(C(=C1)O)NC=C2CC(C(=O)O)N', '7-Hydroxy Tryptophan (all peaks)')"
   ]
  },
  {
   "cell_type": "code",
   "execution_count": null,
   "metadata": {
    "collapsed": false,
    "jupyter": {
     "outputs_hidden": false
    }
   },
   "outputs": [],
   "source": [
    "broad_elucidation('mxp4411', 'C11H12N2O3', 'C1=CC2=C(C=C1O)NC=C2C[C@@H](C(=O)O)N', '6-Hydroxy Tryptophan')"
   ]
  },
  {
   "cell_type": "code",
   "execution_count": null,
   "metadata": {
    "collapsed": false,
    "jupyter": {
     "outputs_hidden": false
    }
   },
   "outputs": [],
   "source": [
    "broad_elucidation('mxp4411_all', 'C11H12N2O3', 'C1=CC2=C(C=C1O)NC=C2C[C@@H](C(=O)O)N', '6-Hydroxy Tryptophan (all peaks)')"
   ]
  },
  {
   "cell_type": "code",
   "execution_count": null,
   "metadata": {
    "collapsed": false,
    "jupyter": {
     "outputs_hidden": false
    }
   },
   "outputs": [],
   "source": [
    "broad_elucidation('QI9873', 'C11H12N2O3', 'C1=CC2=C(C=C1)NC=C2C(O)[C@@H](C(=O)O)N')"
   ]
  },
  {
   "cell_type": "markdown",
   "metadata": {
    "collapsed": false,
    "jupyter": {
     "outputs_hidden": false
    }
   },
   "source": [
    "# Tri peptite elucidation"
   ]
  },
  {
   "cell_type": "code",
   "execution_count": null,
   "metadata": {
    "collapsed": false,
    "jupyter": {
     "outputs_hidden": false
    }
   },
   "outputs": [],
   "source": [
    "broad_elucidation('mxp4039', 'C17H32N4O4', r'CC(C)C[C@@H](C(=O)O)NC(=O)[C@@H]1CCCN1C(=O)[C@H](CCCCN)N', 'Lys-Pro-Leu')"
   ]
  },
  {
   "cell_type": "code",
   "execution_count": null,
   "metadata": {
    "collapsed": false,
    "jupyter": {
     "outputs_hidden": false
    }
   },
   "outputs": [],
   "source": [
    "broad_elucidation('mxp4040', 'C17H32N4O4', r'CC[C@H](C)[C@@H](C(=O)O)NC(=O)[C@@H]1CCCN1C(=O)[C@H](CCCCN)N', 'Lys-Pro-Ile')"
   ]
  },
  {
   "cell_type": "code",
   "execution_count": null,
   "metadata": {
    "collapsed": false,
    "jupyter": {
     "outputs_hidden": false
    }
   },
   "outputs": [],
   "source": [
    "broad_elucidation('mxp4041', 'C17H32N4O4', r'CC(C)C[C@@H](C(=O)N1CCC[C@H]1C(=O)N[C@@H](CCCCN)C(=O)O)N', 'Leu-Pro-Lys')"
   ]
  },
  {
   "cell_type": "code",
   "execution_count": null,
   "metadata": {
    "collapsed": false,
    "jupyter": {
     "outputs_hidden": false
    }
   },
   "outputs": [],
   "source": [
    "broad_elucidation('mxp4042', 'C17H32N4O4', r'CC[C@H](C)[C@@H](C(=O)N1CCC[C@H]1C(=O)N[C@@H](CCCCN)C(=O)O)N', 'Ile-Pro-Lys', True)"
   ]
  },
  {
   "cell_type": "code",
   "execution_count": null,
   "metadata": {
    "collapsed": false,
    "jupyter": {
     "outputs_hidden": false
    }
   },
   "outputs": [],
   "source": [
    "broad_elucidation('QI8422', 'C17H32N4O4', 'CC(C)CC(C(=O)N1CCCC1C(=O)O)NC(=O)C(CCCCN)N', 'Unknown-Lys-Leu-Pro', True)"
   ]
  },
  {
   "cell_type": "markdown",
   "metadata": {
    "collapsed": false
   },
   "source": [
    "Visualize the real spectrum difference (small-scale molecular networking)"
   ]
  },
  {
   "cell_type": "code",
   "execution_count": null,
   "metadata": {
    "collapsed": false
   },
   "outputs": [],
   "source": [
    "import itertools\n",
    "from sklearn.manifold import MDS\n",
    "from ms_pred.retrieval.retrieval_benchmark import entropy_dist_bin\n",
    "\n",
    "broad_config = copy.deepcopy(config)\n",
    "broad_config['nce'] = True # use nce for collision energy\n",
    "\n",
    "num_bins = 15000\n",
    "precursor_mz = 357.249631956\n",
    "isomer_info = [\n",
    "    # (name, filename, smiles)\n",
    "    ('KPL', 'mxp4039', None),\n",
    "    # ('KPI', 'mxp4040', None),\n",
    "    ('LPK', 'mxp4041', None),\n",
    "    # ('IPK', 'mxp4042', None),\n",
    "    ('Unknown', 'QI8422', None),\n",
    "    ('KPL*', None, r'CC(C)C[C@@H](C(=O)O)NC(=O)[C@@H]1CCCN1C(=O)[C@H](CCCCN)N'),\n",
    "    # ('KPI*', None, r'CC[C@H](C)[C@@H](C(=O)O)NC(=O)[C@@H]1CCCN1C(=O)[C@H](CCCCN)N'),\n",
    "    ('LPK*', None, r'CC(C)C[C@@H](C(=O)N1CCC[C@H]1C(=O)N[C@@H](CCCCN)C(=O)O)N'),\n",
    "    # ('IPK*', None, r'CC[C@H](C)[C@@H](C(=O)N1CCC[C@H]1C(=O)N[C@@H](CCCCN)C(=O)O)N'),\n",
    "    ('PLK*', None, r'O=C(NC(C(O)=O)CCCCN)C(NC(C1CCCN1)=O)CC(C)C'),\n",
    "    # ('PIK*', None, r'CCC(C)C(C(=O)NC(CCCCN)C(=O)O)NC(=O)C1CCCN1'),\n",
    "    ('KLP*', None, r'CC(C)CC(C(=O)N1CCCC1C(=O)O)NC(=O)C(CCCCN)N'),\n",
    "    # ('KIP*', None, r'CCC(C)C(C(=O)N1CCCC1C(=O)O)NC(=O)C(CCCCN)N'),\n",
    "    ('PKL*', None, r'CC(C)CC(C(=O)O)NC(=O)C(CCCCN)NC(=O)C1CCCN1'),\n",
    "    # ('PKI*', None, r'CCC(C)C(C(=O)O)NC(=O)C(CCCCN)NC(=O)C1CCCN1'),\n",
    "]\n",
    "\n",
    "def get_spec(name, fname, smi):\n",
    "    if fname is not None:  # real spec\n",
    "        spec = load_real_spec(f'/home/roger/ms_collaborators/broad-Julian/spec_files/{fname}.ms', real_spec_type='ms', nce=True, precursor_mass=precursor_mz)\n",
    "        spec_binned = {k: common.bin_spectra([v], num_bins)[0] for k, v in spec.items()}\n",
    "    elif smi is not None:  # in-silico spec\n",
    "        result_path, pmz = iceberg_prediction([smi], [10, 20, 30, 40, 50], **broad_config)\n",
    "        _, pred_specs, __ = load_pred_spec(result_path, False)\n",
    "        spec_binned = {k: common.bin_spectra([v], num_bins)[0] for k, v in pred_specs[0].items()}\n",
    "    else:\n",
    "        raise ValueError\n",
    "    return spec_binned\n",
    "\n",
    "num_isomers = len(isomer_info)\n",
    "dissim_mat = np.zeros((num_isomers, num_isomers))\n",
    "for (id1, (name1, fname1, smi1)), (id2, (name2, fname2, smi2)) in itertools.combinations(zip(range(num_isomers), isomer_info), 2):\n",
    "    spec1_binned = [get_spec(name1, fname1, smi1)]\n",
    "    spec2_binned = get_spec(name2, fname2, smi2)\n",
    "    dist = entropy_dist_bin(spec1_binned, spec2_binned, ignore_peak=(precursor_mz - 1) * 10, sparse=False)\n",
    "    dissim_mat[id1, id2] = dist[0]\n",
    "    dissim_mat[id2, id1] = dist[0]\n",
    "\n",
    "embedding = MDS(n_components=2, normalized_stress='auto')\n",
    "plot_pos = embedding.fit_transform(dissim_mat)\n",
    "for info, (x, y) in zip(isomer_info, plot_pos):\n",
    "    if info[1] is None:\n",
    "        plt.scatter(x, y, marker='^', c='c')\n",
    "    else:\n",
    "        plt.scatter(x, y, marker='o', c='r')\n",
    "    plt.gca().annotate(info[0], (x + 0.01, y + 0.01))\n",
    "\n",
    "colors = plt.cm.inferno(dissim_mat)\n",
    "for (id1, (x1, y1)), (id2, (x2, y2)) in itertools.combinations(zip(range(num_isomers), plot_pos), 2):\n",
    "    plt.plot((x1, x2), (y1, y2), '--', c=colors[id1, id2], linewidth=0.5)\n",
    "    plt.text((x1 + x2) / 2, (y1 + y2) / 2, f\"{dissim_mat[id1, id2]:.3f}\", fontsize=5)\n",
    "plt.axis('off')"
   ]
  },
  {
   "cell_type": "markdown",
   "metadata": {
    "collapsed": false,
    "jupyter": {
     "outputs_hidden": false
    }
   },
   "source": [
    "## Food biomarkers"
   ]
  },
  {
   "cell_type": "code",
   "execution_count": null,
   "metadata": {
    "collapsed": false,
    "jupyter": {
     "outputs_hidden": false
    }
   },
   "outputs": [],
   "source": [
    "broad_config = copy.deepcopy(config)\n",
    "broad_config['nce'] = True # use nce for collision energy\n",
    "\n",
    "# Get candidates\n",
    "df = pd.read_csv('/home/roger/ms_collaborators/broad-Julian/24_0723_Compounds_to_generate_in_silico_MSMS.csv')\n",
    "out_dir = Path('/home/roger/ms_collaborators/broad-Julian/foodbiomarker')\n",
    "out_dir.mkdir(parents=True, exist_ok=True)\n",
    "\n",
    "# fix formula mismatch\n",
    "for idx, row in df.iterrows():\n",
    "    df.at[idx, 'Chemical Formula'] = common.form_from_smi(row['SMILES'])\n",
    "\n",
    "smiles = []\n",
    "for idx, row in df.iterrows():\n",
    "    smiles.append(common.rm_stereo(row['SMILES']))\n",
    "\n",
    "result_path, pmz = iceberg_prediction(smiles, [10, 20, 30, 40, 50], **broad_config)\n",
    "\n",
    "smiles, pred_specs, pred_frags = load_pred_spec(result_path, False)\n",
    "for smi, pred_spec in zip(smiles, pred_specs):\n",
    "    inchikey = common.inchikey_from_smiles(smi)\n",
    "    out_arr = np.zeros((0, 3))\n",
    "    for ev, spec in pred_spec.items():\n",
    "        spec[:, 1] *= 100\n",
    "        out_arr = np.concatenate(\n",
    "            (out_arr,\n",
    "             np.concatenate((spec, np.ones((spec.shape[0], 1)) * float(ev)), axis=-1)),\n",
    "            axis=0\n",
    "        )\n",
    "    df = pd.DataFrame(data=out_arr, columns=['m/z', 'inten', 'ev'])\n",
    "    df.to_csv(out_dir / f'{inchikey}.csv', index=False)\n"
   ]
  }
 ],
 "metadata": {
  "kernelspec": {
   "display_name": "ms-gen",
   "language": "python",
   "name": "python3"
  },
  "language_info": {
   "codemirror_mode": {
    "name": "ipython",
    "version": 3
   },
   "file_extension": ".py",
   "mimetype": "text/x-python",
   "name": "python",
   "nbconvert_exporter": "python",
   "pygments_lexer": "ipython3",
   "version": "3.8.18"
  }
 },
 "nbformat": 4,
 "nbformat_minor": 4
}
