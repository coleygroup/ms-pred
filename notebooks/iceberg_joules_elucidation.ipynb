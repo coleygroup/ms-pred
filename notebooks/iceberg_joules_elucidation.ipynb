{
 "cells": [
  {
   "cell_type": "code",
   "execution_count": 1,
   "metadata": {},
   "outputs": [],
   "source": [
    "%load_ext autoreload\n",
    "%autoreload 2\n",
    "\n",
    "import copy\n",
    "import os\n",
    "import sys\n",
    "from pathlib import Path\n",
    "import subprocess\n",
    "from platformdirs import user_cache_dir\n",
    "from tqdm import tqdm\n",
    "\n",
    "import pandas as pd\n",
    "import numpy as np\n",
    "import matplotlib.pyplot as plt\n",
    "from rdkit import Chem\n",
    "from rdkit.Chem import Draw, AllChem\n",
    "\n",
    "import ms_pred.common as common\n",
    "from ms_pred.dag_pred.iceberg_elucidation import candidates_from_pubchem, iceberg_prediction, load_real_spec, load_pred_spec, elucidation_over_candidates, plot_top_mols, explain_peaks, modi_finder, generate_buyable_report, form_from_mgf_sirius, form_from_mgf_buddy, load_global_config"
   ]
  },
  {
   "cell_type": "code",
   "execution_count": 2,
   "metadata": {
    "jupyter": {
     "outputs_hidden": false
    }
   },
   "outputs": [
    {
     "name": "stdout",
     "output_type": "stream",
     "text": [
      "/mnt/home/runzhong/ms-pred\n"
     ]
    }
   ],
   "source": [
    "%cd /home/runzhong/ms-pred"
   ]
  },
  {
   "cell_type": "markdown",
   "metadata": {
    "jupyter": {
     "outputs_hidden": false
    }
   },
   "source": [
    "# Global configs\n",
    "Please modify the the configs in `configs/iceberg/iceberg_elucidation.yaml` accordingly; for `python_path` on molgpu, you can either\n",
    "1) set up your own ms-gen environment from source\n",
    "2) use Mrunali's pre-built environment, after telling conda to look in her folder with `conda config --add envs_dirs /home/mrunali/miniconda3/envs`\n",
    "3) Clone Mrunali's pre-built environment into your own environment with `conda --clone` and then source that instead."
   ]
  },
  {
   "cell_type": "code",
   "execution_count": 3,
   "metadata": {
    "jupyter": {
     "outputs_hidden": false
    }
   },
   "outputs": [],
   "source": [
    "config = load_global_config()"
   ]
  },
  {
   "cell_type": "markdown",
   "metadata": {
    "jupyter": {
     "outputs_hidden": false
    }
   },
   "source": [
    "# Elucidation on Pesticide Degradation\n",
    "\n",
    "### Run SIRIUS to assign formula and adduct"
   ]
  },
  {
   "cell_type": "code",
   "execution_count": 5,
   "metadata": {
    "jupyter": {
     "outputs_hidden": false
    }
   },
   "outputs": [
    {
     "name": "stderr",
     "output_type": "stream",
     "text": [
      "2252it [00:00, 25339.49it/s]\n"
     ]
    }
   ],
   "source": [
    "inp_mgf = '/home/roger/ms_collaborators/Joules-Pesticide/sirius_no_int_std.mgf'\n",
    "candidates_csv = '/home/roger/ms_collaborators/Joules-Pesticide/chemical_transformation_predictions.csv'\n",
    "\n",
    "# load mgf and candidates\n",
    "all_specs = common.parse_spectra_mgf(inp_mgf)\n",
    "feat_id_to_specs = {\n",
    "    entry[0]['FEATURE_ID']: entry[1][0][1]\n",
    "    for entry in all_specs if entry[0]['MSLEVEL'] == '2'\n",
    "}\n",
    "feat_id_to_precursor = {\n",
    "    entry[0]['FEATURE_ID']: float(entry[0]['PEPMASS'])\n",
    "    for entry in all_specs if entry[0]['MSLEVEL'] == '2'\n",
    "}\n",
    "all_candidates = pd.read_csv(candidates_csv)"
   ]
  },
  {
   "cell_type": "code",
   "execution_count": 6,
   "metadata": {
    "jupyter": {
     "outputs_hidden": false
    }
   },
   "outputs": [],
   "source": [
    "# Run SIRIUS to explain formula\n",
    "profile = 'orbitrap'\n",
    "ppm_max = 5\n",
    "sirius_path = '/home/roger/miniforge3/condabin/conda run -n ms-main sirius'\n",
    "top_k_preds = 2\n",
    "\n",
    "# Run SIRIUS\n",
    "feature_id_to_form = form_from_mgf_sirius(inp_mgf, top_k_preds, profile, ppm_max, sirius_path, elements_enforced='CHNOP', elements_considered='BrSClF')\n",
    "# feature_id_to_form = form_from_mgf(inp_mgf, top_k_sirius_preds, profile, ppm_max, sirius_path, elements_enforced='CHNOPSClF', elements_considered='')"
   ]
  },
  {
   "cell_type": "code",
   "execution_count": 13,
   "metadata": {},
   "outputs": [
    {
     "name": "stdout",
     "output_type": "stream",
     "text": [
      "msbuddy: molecular formula annotation for MS-based small molecule analysis.\n",
      "563 queries loaded.\n",
      "1 batch in total.\n",
      "Batch 1/1:\n",
      "Candidate space generation: 100%|\u001b[32m██████████\u001b[0m| 563/563 [00:01<00:00, 398.10it/s]\n",
      "Subformula assignment: 100%|\u001b[32m██████████\u001b[0m| 563/563 [00:09<00:00, 60.93it/s] \n",
      "Candidate formula ranking...\n",
      "FDR calculation: 100%|\u001b[32m██████████\u001b[0m| 563/563 [00:00<00:00, 36216.02it/s]\n",
      "Job finished.\n"
     ]
    }
   ],
   "source": [
    "# Run buddy to explain formula\n",
    "feature_id_to_form = form_from_mgf_buddy(inp_mgf, top_k_preds, profile, halogen=True)"
   ]
  },
  {
   "cell_type": "code",
   "execution_count": 168,
   "metadata": {},
   "outputs": [
    {
     "name": "stdout",
     "output_type": "stream",
     "text": [
      "3830 [{'rnk': 1, 'adduct': '[M+H]+', 'form': 'C22H14N2O3'}, {'rnk': 2, 'adduct': '[M+H]+', 'form': 'C20H12N5O2'}, {'rnk': 3, 'adduct': '[M+H]+', 'form': 'C19H15FN2O4'}]\n",
      "1505 [{'rnk': 1, 'adduct': '[M+Na]+', 'form': 'C5H12NO3PS2'}, {'rnk': 2, 'adduct': '[M+H]+', 'form': 'C4H12O6PS2'}]\n",
      "716 [{'rnk': 1, 'adduct': '[M+H]+', 'form': 'C3H4ClN5'}, {'rnk': 2, 'adduct': '[M+Na]+', 'form': 'C3H8ClN2O'}]\n",
      "417 [{'rnk': 1, 'adduct': '[M+Na]+', 'form': 'C4H11O4P'}, {'rnk': 2, 'adduct': '[M+Na]+', 'form': 'C5H11ClO3'}]\n",
      "576 [{'rnk': 1, 'adduct': '[M+H]+', 'form': 'C5H9N5O'}, {'rnk': 2, 'adduct': '[M+Na]+', 'form': 'C5H13N2O2'}]\n",
      "1508 [{'rnk': 1, 'adduct': '[M+Na]+', 'form': 'C8H14O5'}, {'rnk': 2, 'adduct': '[M+Na]+', 'form': 'C7H8N7'}]\n",
      "3351 [{'rnk': 1, 'adduct': '[M+H]+', 'form': 'C4H8N5OP'}, {'rnk': 2, 'adduct': '[M+H]+', 'form': 'C8H5N4O'}, {'rnk': 3, 'adduct': '[M+H]+', 'form': 'C5H8ClN5'}]\n",
      "6842 [{'rnk': 1, 'adduct': '[M+H]+', 'form': 'C6H10O5'}, {'rnk': 2, 'adduct': '[M+H]+', 'form': 'C5H4N7'}]\n",
      "503 [{'rnk': 1, 'adduct': '[M+H]+', 'form': 'C3H4ClN5'}, {'rnk': 2, 'adduct': '[M+Na]+', 'form': 'C3H8ClN2O'}]\n",
      "3225 [{'rnk': 1, 'adduct': '[M+Na]+', 'form': 'C8H15O6PS2'}, {'rnk': 2, 'adduct': '[M+Na]+', 'form': 'C10H10N2O5S2'}]\n",
      "1609 [{'rnk': 1, 'adduct': '[M+H]+', 'form': 'C5H8ClN5'}, {'rnk': 2, 'adduct': '[M+Na]+', 'form': 'C5H12ClN2O'}]\n",
      "2557 [{'rnk': 1, 'adduct': '[M+H]+', 'form': 'C5H8ClN5'}, {'rnk': 2, 'adduct': '[M+H]+', 'form': 'C8H5N4O'}]\n",
      "1996 [{'rnk': 1, 'adduct': '[M+H]+', 'form': 'C6H8N6O2S'}, {'rnk': 2, 'adduct': '[M+H]+', 'form': 'C13H8O4'}, {'rnk': 3, 'adduct': '[M+Na]+', 'form': 'C8H14O4S'}]\n",
      "4820 [{'rnk': 1, 'adduct': '[M+Na]+', 'form': 'C12H14N2O5S2'}, {'rnk': 2, 'adduct': '[M+Na]+', 'form': 'C10H19O6PS2'}]\n",
      "1604 [{'rnk': 1, 'adduct': '[M+H]+', 'form': 'C7H10ClN5O'}, {'rnk': 2, 'adduct': '[M+H]+', 'form': 'C6H10N5O2P'}, {'rnk': 3, 'adduct': '[M+H]+', 'form': 'C12H9NO3'}]\n",
      "3208 [{'rnk': 1, 'adduct': '[M+H]+', 'form': 'C2H7O3PS'}, {'rnk': 2, 'adduct': '[M+H]+', 'form': 'C3H7ClO2S'}]\n",
      "2878 [{'rnk': 1, 'adduct': '[M+H]+', 'form': 'C12H11NO2'}, {'rnk': 2, 'adduct': '[M+H]+', 'form': 'C10H9N4O'}, {'rnk': 3, 'adduct': '[M+H]+', 'form': 'C7H12ClN5'}]\n",
      "295 [{'rnk': 1, 'adduct': '[M+H]+', 'form': 'C5H9N5O'}, {'rnk': 2, 'adduct': '[M+H]+', 'form': 'C2H12ClN6'}]\n",
      "1165 [{'rnk': 1, 'adduct': '[M+H]+', 'form': 'C10H2N2O10'}, {'rnk': 2, 'adduct': '[M+K]+', 'form': 'C6H4N6O7'}, {'rnk': 3, 'adduct': '[M+Na]+', 'form': 'C7H13O6PS2'}]\n",
      "2597 [{'rnk': 1, 'adduct': '[M+Na]+', 'form': 'C12H14N4O4S2'}, {'rnk': 2, 'adduct': '[M+H]+', 'form': 'C9H12N6O6S2'}]\n",
      "2697 [{'rnk': 1, 'adduct': '[M+H]+', 'form': 'C2H7O3PS'}, {'rnk': 2, 'adduct': '[M+K]+', 'form': 'C4H8OS'}]\n",
      "3761 [{'rnk': 1, 'adduct': '[M+Na]+', 'form': 'C11H12N2O5S2'}, {'rnk': 2, 'adduct': '[M+Na]+', 'form': 'C9H17O6PS2'}]\n",
      "3819 [{'rnk': 1, 'adduct': '[M+Na]+', 'form': 'C22H14N2O3'}, {'rnk': 2, 'adduct': '[M+Na]+', 'form': 'C16H15N6O2P'}, {'rnk': 3, 'adduct': '[M+Na]+', 'form': 'C19H15FN2O4'}]\n",
      "6014 [{'rnk': 1, 'adduct': '[M+Na]+', 'form': 'C15H17Cl2N3O2'}, {'rnk': 2, 'adduct': '[M+Na]+', 'form': 'C13H15Cl2N6O'}]\n",
      "5606 [{'rnk': 1, 'adduct': '[M+Na]+', 'form': 'C11H6Cl3N3O3'}, {'rnk': 2, 'adduct': '[M+Na]+', 'form': 'C9H11Cl3NO4P'}]\n",
      "1506 [{'rnk': 1, 'adduct': '[M+H]+', 'form': 'C5H12NO3PS2'}, {'rnk': 2, 'adduct': '[M+H]+', 'form': 'C7H7N3O2S2'}]\n",
      "420 [{'rnk': 1, 'adduct': '[M+H]+', 'form': 'C6H11N5O'}, {'rnk': 2, 'adduct': '[M+H]+', 'form': 'C3H14ClN6'}]\n",
      "427 [{'rnk': 1, 'adduct': '[M+H]+', 'form': 'C4H11O4P'}, {'rnk': 2, 'adduct': '[M+H]+', 'form': 'C5H11ClO3'}]\n",
      "1993 [{'rnk': 1, 'adduct': '[M+H]+', 'form': 'C8H14O4S'}, {'rnk': 2, 'adduct': '[M+H]+', 'form': 'C10H11N2OP'}]\n",
      "1578 [{'rnk': 1, 'adduct': '[M+Na]+', 'form': 'C7H4S'}, {'rnk': 2, 'adduct': '[M+K]+', 'form': 'C4H8OS'}, {'rnk': 3, 'adduct': '[M+H]+', 'form': 'C2H7O3PS'}]\n",
      "5493 [{'rnk': 1, 'adduct': '[M+Na]+', 'form': 'C14H20ClNO2'}, {'rnk': 2, 'adduct': '[M+Na]+', 'form': 'C13H20NO3P'}]\n",
      "4357 [{'rnk': 1, 'adduct': '[M+Na]+', 'form': 'C7H4Cl3NO3'}, {'rnk': 2, 'adduct': '[M+Na]+', 'form': 'C5H10Cl3OS2'}]\n",
      "283 [{'rnk': 1, 'adduct': '[M+K]+', 'form': 'C4H8OS'}, {'rnk': 2, 'adduct': '[M+H]+', 'form': 'C2H7O3PS'}]\n",
      "568 [{'rnk': 1, 'adduct': '[M+Na]+', 'form': 'C4H10NO3PS'}, {'rnk': 2, 'adduct': '[M+Na]+', 'form': 'C5H10ClNO2S'}]\n",
      "5421 [{'rnk': 1, 'adduct': '[M+H]+', 'form': 'C15H18ClN3O2'}, {'rnk': 2, 'adduct': '[M+H]+', 'form': 'C14H18N3O3P'}]\n",
      "3631 [{'rnk': 1, 'adduct': '[M+H]+', 'form': 'C6H8Cl2N2S2'}, {'rnk': 2, 'adduct': '[M+H]+', 'form': 'C6Cl2N6O'}, {'rnk': 3, 'adduct': '[M+Na]+', 'form': 'C8H6Cl2O3'}]\n",
      "3071 [{'rnk': 1, 'adduct': '[M+Na]+', 'form': 'C12H14N2O5S2'}, {'rnk': 2, 'adduct': '[M+Na]+', 'form': 'C10H19O6PS2'}]\n",
      "226 [{'rnk': 1, 'adduct': '[M+H]+', 'form': 'C2H7O3PS'}, {'rnk': 2, 'adduct': '[M+K]+', 'form': 'C4H8OS'}]\n",
      "1670 [{'rnk': 1, 'adduct': '[M+H]+', 'form': 'C6H10ClN5'}, {'rnk': 2, 'adduct': '[M+Na]+', 'form': 'C6H14ClN2O'}]\n",
      "7480 [{'rnk': 1, 'adduct': '[M+Na]+', 'form': 'C11H6Cl3N3O2S'}, {'rnk': 2, 'adduct': '[M+Na]+', 'form': 'C12H7Cl3NO3P'}, {'rnk': 3, 'adduct': '[M+Na]+', 'form': 'C9H11Cl3NO3PS'}]\n",
      "6019 [{'rnk': 1, 'adduct': '[M+H]+', 'form': 'C15H17Cl2N3O2'}, {'rnk': 2, 'adduct': '[M+H]+', 'form': 'C13H15Cl2N6O'}]\n",
      "2890 [{'rnk': 1, 'adduct': '[M+Na]+', 'form': 'C12H11NO2'}, {'rnk': 2, 'adduct': '[M+Na]+', 'form': 'C8H14N2O2P'}, {'rnk': 3, 'adduct': '[M+Na]+', 'form': 'C7H12ClN5'}]\n",
      "713 [{'rnk': 1, 'adduct': '[M+H]+', 'form': 'C5H6ClN5O'}, {'rnk': 2, 'adduct': '[M+H]+', 'form': 'C4H10ClNO5'}]\n",
      "3181 [{'rnk': 1, 'adduct': '[M+H]+', 'form': 'C2H7O2PS2'}, {'rnk': 2, 'adduct': '[M+K]+', 'form': 'C3H4O5'}]\n",
      "3358 [{'rnk': 1, 'adduct': '[M+H]+', 'form': 'C8H14ClN5'}, {'rnk': 2, 'adduct': '[M+H]+', 'form': 'C7H14N5OP'}]\n",
      "7469 [{'rnk': 1, 'adduct': '[M+H]+', 'form': 'C5H2Cl3NO'}, {'rnk': 2, 'adduct': '[M+H]+', 'form': 'C3Cl3N4'}, {'rnk': 3, 'adduct': '[M+Na]+', 'form': 'C9H11Cl3NO3PS'}]\n",
      "4757 [{'rnk': 1, 'adduct': '[M+H]+', 'form': 'C15H18ClN3O2'}, {'rnk': 2, 'adduct': '[M+Na]+', 'form': 'C13H20ClN3O2'}]\n",
      "4847 [{'rnk': 1, 'adduct': '[M-H2O+K]+', 'form': 'C3H6O6'}, {'rnk': 2, 'adduct': '[M-H2O+K]+', 'form': 'C4H10OS2'}, {'rnk': 3, 'adduct': '[M+H]+', 'form': 'C2H7O2PS2'}]\n",
      "2833 [{'rnk': 1, 'adduct': '[M+K]+', 'form': 'C7H15N2O2P'}, {'rnk': 2, 'adduct': '[M+Na]+', 'form': 'C6H12N3O3S'}, {'rnk': 3, 'adduct': '[M+Na]+', 'form': 'C8H14O4S'}]\n",
      "575 [{'rnk': 1, 'adduct': '[M+H]+', 'form': 'C7H11N5O2'}, {'rnk': 2, 'adduct': '[M+Na]+', 'form': 'C7H15N2O3'}]\n",
      "1494 [{'rnk': 1, 'adduct': '[M+H]+', 'form': 'C4H4N2P2'}, {'rnk': 2, 'adduct': '[M+H]+', 'form': 'C8HNP'}, {'rnk': 3, 'adduct': '[M+H]+', 'form': 'C2H7O3PS'}]\n",
      "1677 [{'rnk': 1, 'adduct': '[M+H]+', 'form': 'C3H4ClN5'}, {'rnk': 2, 'adduct': '[M+Na]+', 'form': 'C3H8ClN2O'}]\n",
      "4354 [{'rnk': 1, 'adduct': '[M+H]+', 'form': 'C7H4Cl3NO3'}, {'rnk': 2, 'adduct': '[M+H]+', 'form': 'C4H4NO6P3'}]\n",
      "1181 [{'rnk': 1, 'adduct': '[M+H]+', 'form': 'C5H8ClN5'}, {'rnk': 2, 'adduct': '[M+Na]+', 'form': 'C5H12ClN2O'}]\n",
      "7463 [{'rnk': 1, 'adduct': '[M+H]+', 'form': 'C9H11Cl3NO3PS'}, {'rnk': 2, 'adduct': '[M+H]+', 'form': 'C5H12Cl3N2O5S2'}]\n",
      "2561 [{'rnk': 1, 'adduct': '[M+H]+', 'form': 'C7H12ClN5'}, {'rnk': 2, 'adduct': '[M+H]+', 'form': 'C6H12N5OP'}, {'rnk': 3, 'adduct': '[M+H]+', 'form': 'C12H11NO2'}]\n",
      "572 [{'rnk': 1, 'adduct': '[M+H]+', 'form': 'C4H10NO3PS'}, {'rnk': 2, 'adduct': '[M+K]+', 'form': 'C6H11NOS'}]\n",
      "2892 [{'rnk': 1, 'adduct': '[M+H]+', 'form': 'C10H8O'}, {'rnk': 2, 'adduct': '[M+H]+', 'form': 'C6H11NOP'}]\n",
      "787 [{'rnk': 1, 'adduct': '[M+H]+', 'form': 'C7H13N5O'}, {'rnk': 2, 'adduct': '[M+H]+', 'form': 'C4H16ClN6'}]\n",
      "3930 [{'rnk': 1, 'adduct': '[M+H]+', 'form': 'C10H8N2O10'}, {'rnk': 2, 'adduct': '[M+H]+', 'form': 'C11H4N6O6'}, {'rnk': 3, 'adduct': '[M+H]+', 'form': 'C9H17O6PS2'}]\n",
      "4524 [{'rnk': 1, 'adduct': '[M+Na]+', 'form': 'C7H14FNO3'}, {'rnk': 2, 'adduct': '[M+H]+', 'form': 'C7H11F4NO'}, {'rnk': 3, 'adduct': '[M+H]+', 'form': 'C7H12ClN5'}, {'rnk': 4, 'adduct': '[M+H]+', 'form': 'C12H11NO2'}]\n",
      "4838 [{'rnk': 1, 'adduct': '[M+Na]+', 'form': 'C10H5NO3'}, {'rnk': 2, 'adduct': '[M+K]+', 'form': 'C7H9NO4'}, {'rnk': 3, 'adduct': '[M+Na]+', 'form': 'C5H6ClN5O'}]\n",
      "570 [{'rnk': 1, 'adduct': '[M+H]+', 'form': 'C2H7O3PS'}, {'rnk': 2, 'adduct': '[M+K]+', 'form': 'C4H8OS'}]\n",
      "4821 [{'rnk': 1, 'adduct': '[M+H]+', 'form': 'C12H14N2O5S2'}, {'rnk': 2, 'adduct': '[M+H]+', 'form': 'C13H10N6OS2'}, {'rnk': 3, 'adduct': '[M+H]+', 'form': 'C10H19O6PS2'}]\n",
      "1064 [{'rnk': 1, 'adduct': '[M+H]+', 'form': 'C8H15N5O'}, {'rnk': 2, 'adduct': '[M+H]+', 'form': 'C4H18N6OP'}]\n",
      "755 [{'rnk': 1, 'adduct': '[M+H]+', 'form': 'C8H13N5O2'}, {'rnk': 2, 'adduct': '[M+Na]+', 'form': 'C8H17N2O3'}]\n",
      "5399 [{'rnk': 1, 'adduct': '[M+H]+', 'form': 'C14H20ClNO2'}, {'rnk': 2, 'adduct': '[M+H]+', 'form': 'C13H20NO3P'}]\n",
      "5445 [{'rnk': 1, 'adduct': '[M+H]+', 'form': 'C15H17Cl2N3O2'}, {'rnk': 2, 'adduct': '[M+Na]+', 'form': 'C13H19Cl2N3O2'}]\n",
      "1995 [{'rnk': 1, 'adduct': '[M+Na]+', 'form': 'C7H15N3O5PS2'}, {'rnk': 2, 'adduct': '[M+Na]+', 'form': 'C12H8N6OS2'}, {'rnk': 3, 'adduct': '[M+Na]+', 'form': 'C9H17O6PS2'}]\n",
      "2675 [{'rnk': 1, 'adduct': '[M+H]+', 'form': 'C11H9FN2O2'}, {'rnk': 2, 'adduct': '[M+H]+', 'form': 'C6H8F2N5O2'}]\n",
      "2598 [{'rnk': 1, 'adduct': '[M+H]+', 'form': 'C12H14N4O4S2'}, {'rnk': 2, 'adduct': '[M+H]+', 'form': 'C14H11N6OPS'}]\n",
      "715 [{'rnk': 1, 'adduct': '[M+Na]+', 'form': 'C4H10ClNO5'}, {'rnk': 2, 'adduct': '[M+Na]+', 'form': 'C5H6ClN5O'}]\n",
      "3223 [{'rnk': 1, 'adduct': '[M+H]+', 'form': 'C10H10N2O5S2'}, {'rnk': 2, 'adduct': '[M+H]+', 'form': 'C11H6N6OS2'}, {'rnk': 3, 'adduct': '[M+H]+', 'form': 'C8H15O6PS2'}]\n",
      "1994 [{'rnk': 1, 'adduct': '[M+H]+', 'form': 'C11H12N2O5S2'}, {'rnk': 2, 'adduct': '[M+H]+', 'form': 'C12H8N6OS2'}, {'rnk': 3, 'adduct': '[M+H]+', 'form': 'C9H17O6PS2'}]\n",
      "2229 [{'rnk': 1, 'adduct': '[M-H2O+H]+', 'form': 'C7H16OS2'}, {'rnk': 2, 'adduct': '[M-H2O+H]+', 'form': 'C6H12O6'}, {'rnk': 3, 'adduct': '[M+H]+', 'form': 'C6H10O5'}]\n"
     ]
    }
   ],
   "source": [
    "form_csv = '/home/roger/ms_collaborators/Joules-Pesticide/simple_db_formula_matches.csv'\n",
    "\n",
    "# Augment with formula db match\n",
    "form_df = pd.read_csv(form_csv)\n",
    "form_df['id'] = form_df['id'].astype(str)\n",
    "for feature_id, forms in feature_id_to_form.items():\n",
    "    sub_df = form_df[form_df['id'] == feature_id]\n",
    "    if sub_df.shape[0] > 0:\n",
    "        for _, row in sub_df.iterrows():\n",
    "            if not any([row['mol_formula'] == f['form'] for f in forms]):\n",
    "                new_rnk = max([f['rnk'] for f in forms]) + 1\n",
    "                forms.append({'rnk': new_rnk, 'adduct': row['adduct'], 'form': row['mol_formula']})"
   ]
  },
  {
   "cell_type": "code",
   "execution_count": 15,
   "metadata": {},
   "outputs": [
    {
     "name": "stderr",
     "output_type": "stream",
     "text": [
      "547it [00:00, 44378.59it/s]\n"
     ]
    }
   ],
   "source": [
    "feature_list_csv = '/home/roger/ms_collaborators/Joules-Pesticide/ids_sorted_by_area.csv'\n",
    "feature_list_df = pd.read_csv(feature_list_csv)\n",
    "feature_list_df = feature_list_df[~feature_list_df['sample_groups'].isin(['set()'])]  # remove entries that does not appear in 3 replicates\n",
    "all_dicts = {k: [] for k in feature_list_df.columns}\n",
    "for i in range(1, 6):\n",
    "    all_dicts[f'top{i} adduct'] = []\n",
    "    all_dicts[f'top{i} form'] = []\n",
    "\n",
    "for i, row in tqdm(feature_list_df.iterrows()):\n",
    "    feat_id = str(row['id'])\n",
    "    if not feat_id in feature_id_to_form:\n",
    "        continue\n",
    "    for k in feature_list_df.columns:\n",
    "        all_dicts[k].append(row[k])\n",
    "    forms = feature_id_to_form[feat_id]\n",
    "    for i in range(5):\n",
    "        if len(forms) >= i+1:\n",
    "            form_dic = forms[i]\n",
    "            assert form_dic[\"rnk\"] == i+1\n",
    "            all_dicts[f'top{i+1} adduct'].append(form_dic['adduct'])\n",
    "            all_dicts[f'top{i+1} form'].append(form_dic['form'])\n",
    "        else:\n",
    "            all_dicts[f'top{i+1} adduct'].append(None)\n",
    "            all_dicts[f'top{i+1} form'].append(None)\n",
    "form_df = pd.DataFrame.from_dict(all_dicts)"
   ]
  },
  {
   "cell_type": "code",
   "execution_count": 10,
   "metadata": {},
   "outputs": [
    {
     "name": "stderr",
     "output_type": "stream",
     "text": [
      "100%|██████████| 549/549 [00:01<00:00, 292.78it/s]\n"
     ]
    }
   ],
   "source": [
    "import pickle\n",
    "\n",
    "# prepare entries. The following is time-consuming please switch to run_scripts/dag_model/generate_buyable_report_pesticide.py\n",
    "feature_id_path = 'data/retrieval/pubchem/pesticide_feat_id_to_dict.p'\n",
    "if Path(feature_id_path).exists():\n",
    "    with open(feature_id_path, 'rb') as f:\n",
    "        feat_id_to_dict = pickle.load(f)\n",
    "else:\n",
    "    feat_id_to_dict = {}\n",
    "    for feature_id, all_info in tqdm(feature_id_to_form.items()):\n",
    "        all_info = sorted(all_info, key=lambda x: x['rnk'])\n",
    "        adduct_to_smiles = {}\n",
    "        for info in all_info:\n",
    "            if info['adduct'] not in adduct_to_smiles:\n",
    "                adduct_to_smiles[info['adduct']] = []\n",
    "            adduct_to_smiles[info['adduct']] += candidates_from_pubchem(info['form'])\n",
    "\n",
    "            # get other candidates from EPA enumeration result\n",
    "            for cand_form, cand_smi in zip(all_candidates['formula'], all_candidates['smiles']):\n",
    "                diff = common.formula_difference(info['form'], cand_form)\n",
    "                if len(diff) == 0:  # same formula\n",
    "                    if info['adduct'] in adduct_to_smiles:\n",
    "                        adduct_to_smiles[info['adduct']].append(cand_smi)\n",
    "\n",
    "        if len(adduct_to_smiles) > 0:\n",
    "            # remove duplicate inchikey\n",
    "            for adduct, smiles in adduct_to_smiles.items():\n",
    "                inchikeys = [common.inchikey_from_smiles(smi) for smi in smiles]\n",
    "                _, uniq_idx = np.unique(inchikeys, return_index=True)\n",
    "                adduct_to_smiles[adduct] = np.array(smiles)[uniq_idx].tolist()\n",
    "\n",
    "            feat_id_to_dict[feature_id] = {\n",
    "                'feature_id': feature_id,\n",
    "                'spec': {'nan': feat_id_to_specs[feature_id]},\n",
    "                'adduct_to_smiles': adduct_to_smiles,\n",
    "            }\n",
    "\n",
    "    # with open(feature_id_path, 'wb') as f:\n",
    "    #     pickle.dump(feat_id_to_dict, f)"
   ]
  },
  {
   "cell_type": "code",
   "execution_count": 14,
   "metadata": {
    "jupyter": {
     "outputs_hidden": false
    },
    "scrolled": true
   },
   "outputs": [
    {
     "data": {
      "text/html": [
       "<div>\n",
       "<style scoped>\n",
       "    .dataframe tbody tr th:only-of-type {\n",
       "        vertical-align: middle;\n",
       "    }\n",
       "\n",
       "    .dataframe tbody tr th {\n",
       "        vertical-align: top;\n",
       "    }\n",
       "\n",
       "    .dataframe thead th {\n",
       "        text-align: right;\n",
       "    }\n",
       "</style>\n",
       "<table border=\"1\" class=\"dataframe\">\n",
       "  <thead>\n",
       "    <tr style=\"text-align: right;\">\n",
       "      <th></th>\n",
       "      <th>genKey</th>\n",
       "      <th>routes</th>\n",
       "      <th>smiles</th>\n",
       "      <th>iupac</th>\n",
       "      <th>formula</th>\n",
       "      <th>mass</th>\n",
       "      <th>exactMass</th>\n",
       "      <th>production</th>\n",
       "      <th>accumulation</th>\n",
       "      <th>globalAccumulation</th>\n",
       "      <th>likelihood</th>\n",
       "      <th>matched features</th>\n",
       "    </tr>\n",
       "  </thead>\n",
       "  <tbody>\n",
       "    <tr>\n",
       "      <th>0</th>\n",
       "      <td>molecule 1</td>\n",
       "      <td>NaN</td>\n",
       "      <td>CCNC1=NC(NC(C)C)=NC(Cl)=N1</td>\n",
       "      <td>6-chloro-N2-ethyl-N4-(propan-2-yl)-1,3,5-triaz...</td>\n",
       "      <td>C8H14ClN5</td>\n",
       "      <td>215.690</td>\n",
       "      <td>215.093773</td>\n",
       "      <td>100.00</td>\n",
       "      <td>0.00</td>\n",
       "      <td>0.00</td>\n",
       "      <td>UNLIKELY</td>\n",
       "      <td>NaN</td>\n",
       "    </tr>\n",
       "    <tr>\n",
       "      <th>1</th>\n",
       "      <td>molecule 1.1</td>\n",
       "      <td>Aromatic Halide Photohydrolysis</td>\n",
       "      <td>CCNC1=NC(=O)NC(NC(C)C)=N1</td>\n",
       "      <td>4-(ethylamino)-6-[(propan-2-yl)amino]-1,2-dihy...</td>\n",
       "      <td>C8H15N5O</td>\n",
       "      <td>197.242</td>\n",
       "      <td>197.127660</td>\n",
       "      <td>23.33</td>\n",
       "      <td>0.00</td>\n",
       "      <td>0.00</td>\n",
       "      <td>UNLIKELY</td>\n",
       "      <td>feat_id=1064, [M+H]+</td>\n",
       "    </tr>\n",
       "    <tr>\n",
       "      <th>2</th>\n",
       "      <td>molecule 1.1.1</td>\n",
       "      <td>s-Triazine Side Chain N-alkyl Photooxidation t...</td>\n",
       "      <td>CC(C)NC1=NC(=O)NC(NC(C)=O)=N1</td>\n",
       "      <td>N-{6-oxo-4-[(propan-2-yl)amino]-1,6-dihydro-1,...</td>\n",
       "      <td>C8H13N5O2</td>\n",
       "      <td>211.225</td>\n",
       "      <td>211.106925</td>\n",
       "      <td>7.42</td>\n",
       "      <td>0.00</td>\n",
       "      <td>0.00</td>\n",
       "      <td>UNLIKELY</td>\n",
       "      <td>feat_id=755, [M+H]+</td>\n",
       "    </tr>\n",
       "    <tr>\n",
       "      <th>3</th>\n",
       "      <td>molecule 1.1.2</td>\n",
       "      <td>s-Triazine Side Chain Photochemical N-dealkyla...</td>\n",
       "      <td>CC(C)NC1=NC(N)=NC(=O)N1</td>\n",
       "      <td>4-amino-6-[(propan-2-yl)amino]-1,2-dihydro-1,3...</td>\n",
       "      <td>C6H11N5O</td>\n",
       "      <td>169.188</td>\n",
       "      <td>169.096360</td>\n",
       "      <td>7.42</td>\n",
       "      <td>0.00</td>\n",
       "      <td>0.00</td>\n",
       "      <td>UNLIKELY</td>\n",
       "      <td>feat_id=420, [M+H]+</td>\n",
       "    </tr>\n",
       "    <tr>\n",
       "      <th>4</th>\n",
       "      <td>molecule 1.1.3</td>\n",
       "      <td>s-Triazine Side Chain Photochemical N-dealkyla...</td>\n",
       "      <td>CCNC1=NC(N)=NC(=O)N1</td>\n",
       "      <td>4-amino-6-(ethylamino)-1,2-dihydro-1,3,5-triaz...</td>\n",
       "      <td>C5H9N5O</td>\n",
       "      <td>155.161</td>\n",
       "      <td>155.080710</td>\n",
       "      <td>7.42</td>\n",
       "      <td>0.00</td>\n",
       "      <td>0.00</td>\n",
       "      <td>UNLIKELY</td>\n",
       "      <td>feat_id=295, [M+H]+; feat_id=576, [M+H]+</td>\n",
       "    </tr>\n",
       "    <tr>\n",
       "      <th>...</th>\n",
       "      <td>...</td>\n",
       "      <td>...</td>\n",
       "      <td>...</td>\n",
       "      <td>...</td>\n",
       "      <td>...</td>\n",
       "      <td>...</td>\n",
       "      <td>...</td>\n",
       "      <td>...</td>\n",
       "      <td>...</td>\n",
       "      <td>...</td>\n",
       "      <td>...</td>\n",
       "      <td>...</td>\n",
       "    </tr>\n",
       "    <tr>\n",
       "      <th>343</th>\n",
       "      <td>molecule 12.11.7</td>\n",
       "      <td>Organophosphorus Ester Hydrolysis 1</td>\n",
       "      <td>CCOC(=O)CC(SP(O)(=S)OC)C(O)=O</td>\n",
       "      <td>4-ethoxy-2-{[hydroxy(methoxy)sulfanylidene-lam...</td>\n",
       "      <td>C7H13O6PS2</td>\n",
       "      <td>288.270</td>\n",
       "      <td>287.989118</td>\n",
       "      <td>0.20</td>\n",
       "      <td>0.14</td>\n",
       "      <td>0.00</td>\n",
       "      <td>UNLIKELY</td>\n",
       "      <td>feat_id=1165, [M+Na]+</td>\n",
       "    </tr>\n",
       "    <tr>\n",
       "      <th>344</th>\n",
       "      <td>molecule 12.11.8</td>\n",
       "      <td>Organophosphorus Ester Hydrolysis 1</td>\n",
       "      <td>CO</td>\n",
       "      <td>methanol</td>\n",
       "      <td>CH4O</td>\n",
       "      <td>32.042</td>\n",
       "      <td>32.026215</td>\n",
       "      <td>0.20</td>\n",
       "      <td>0.20</td>\n",
       "      <td>24.14</td>\n",
       "      <td>LIKELY</td>\n",
       "      <td>NaN</td>\n",
       "    </tr>\n",
       "    <tr>\n",
       "      <th>345</th>\n",
       "      <td>molecule 12.11.9</td>\n",
       "      <td>Carboxylic Acid Ester Hydrolysis</td>\n",
       "      <td>COP(=S)(OC)SC(CC(O)=O)C(O)=O</td>\n",
       "      <td>2-{[dimethoxy(sulfanylidene)-lambda5-phosphany...</td>\n",
       "      <td>C6H11O6PS2</td>\n",
       "      <td>274.240</td>\n",
       "      <td>273.973467</td>\n",
       "      <td>0.03</td>\n",
       "      <td>0.00</td>\n",
       "      <td>0.00</td>\n",
       "      <td>UNLIKELY</td>\n",
       "      <td>NaN</td>\n",
       "    </tr>\n",
       "    <tr>\n",
       "      <th>346</th>\n",
       "      <td>molecule 12.11.10</td>\n",
       "      <td>Carboxylic Acid Ester Hydrolysis</td>\n",
       "      <td>CCO</td>\n",
       "      <td>ethanol</td>\n",
       "      <td>C2H6O</td>\n",
       "      <td>46.069</td>\n",
       "      <td>46.041865</td>\n",
       "      <td>0.03</td>\n",
       "      <td>0.03</td>\n",
       "      <td>16.72</td>\n",
       "      <td>LIKELY</td>\n",
       "      <td>NaN</td>\n",
       "    </tr>\n",
       "    <tr>\n",
       "      <th>347</th>\n",
       "      <td>molecule 12.12</td>\n",
       "      <td>Carboxylic Acid Ester Hydrolysis</td>\n",
       "      <td>CCO</td>\n",
       "      <td>ethanol</td>\n",
       "      <td>C2H6O</td>\n",
       "      <td>46.069</td>\n",
       "      <td>46.041865</td>\n",
       "      <td>1.67</td>\n",
       "      <td>1.67</td>\n",
       "      <td>16.72</td>\n",
       "      <td>LIKELY</td>\n",
       "      <td>NaN</td>\n",
       "    </tr>\n",
       "  </tbody>\n",
       "</table>\n",
       "<p>348 rows × 12 columns</p>\n",
       "</div>"
      ],
      "text/plain": [
       "                genKey                                             routes  \\\n",
       "0           molecule 1                                                NaN   \n",
       "1         molecule 1.1                    Aromatic Halide Photohydrolysis   \n",
       "2       molecule 1.1.1  s-Triazine Side Chain N-alkyl Photooxidation t...   \n",
       "3       molecule 1.1.2  s-Triazine Side Chain Photochemical N-dealkyla...   \n",
       "4       molecule 1.1.3  s-Triazine Side Chain Photochemical N-dealkyla...   \n",
       "..                 ...                                                ...   \n",
       "343   molecule 12.11.7                Organophosphorus Ester Hydrolysis 1   \n",
       "344   molecule 12.11.8                Organophosphorus Ester Hydrolysis 1   \n",
       "345   molecule 12.11.9                   Carboxylic Acid Ester Hydrolysis   \n",
       "346  molecule 12.11.10                   Carboxylic Acid Ester Hydrolysis   \n",
       "347     molecule 12.12                   Carboxylic Acid Ester Hydrolysis   \n",
       "\n",
       "                            smiles  \\\n",
       "0       CCNC1=NC(NC(C)C)=NC(Cl)=N1   \n",
       "1        CCNC1=NC(=O)NC(NC(C)C)=N1   \n",
       "2    CC(C)NC1=NC(=O)NC(NC(C)=O)=N1   \n",
       "3          CC(C)NC1=NC(N)=NC(=O)N1   \n",
       "4             CCNC1=NC(N)=NC(=O)N1   \n",
       "..                             ...   \n",
       "343  CCOC(=O)CC(SP(O)(=S)OC)C(O)=O   \n",
       "344                             CO   \n",
       "345   COP(=S)(OC)SC(CC(O)=O)C(O)=O   \n",
       "346                            CCO   \n",
       "347                            CCO   \n",
       "\n",
       "                                                 iupac     formula     mass  \\\n",
       "0    6-chloro-N2-ethyl-N4-(propan-2-yl)-1,3,5-triaz...   C8H14ClN5  215.690   \n",
       "1    4-(ethylamino)-6-[(propan-2-yl)amino]-1,2-dihy...    C8H15N5O  197.242   \n",
       "2    N-{6-oxo-4-[(propan-2-yl)amino]-1,6-dihydro-1,...   C8H13N5O2  211.225   \n",
       "3    4-amino-6-[(propan-2-yl)amino]-1,2-dihydro-1,3...    C6H11N5O  169.188   \n",
       "4    4-amino-6-(ethylamino)-1,2-dihydro-1,3,5-triaz...     C5H9N5O  155.161   \n",
       "..                                                 ...         ...      ...   \n",
       "343  4-ethoxy-2-{[hydroxy(methoxy)sulfanylidene-lam...  C7H13O6PS2  288.270   \n",
       "344                                           methanol        CH4O   32.042   \n",
       "345  2-{[dimethoxy(sulfanylidene)-lambda5-phosphany...  C6H11O6PS2  274.240   \n",
       "346                                            ethanol       C2H6O   46.069   \n",
       "347                                            ethanol       C2H6O   46.069   \n",
       "\n",
       "      exactMass  production  accumulation  globalAccumulation likelihood  \\\n",
       "0    215.093773      100.00          0.00                0.00   UNLIKELY   \n",
       "1    197.127660       23.33          0.00                0.00   UNLIKELY   \n",
       "2    211.106925        7.42          0.00                0.00   UNLIKELY   \n",
       "3    169.096360        7.42          0.00                0.00   UNLIKELY   \n",
       "4    155.080710        7.42          0.00                0.00   UNLIKELY   \n",
       "..          ...         ...           ...                 ...        ...   \n",
       "343  287.989118        0.20          0.14                0.00   UNLIKELY   \n",
       "344   32.026215        0.20          0.20               24.14     LIKELY   \n",
       "345  273.973467        0.03          0.00                0.00   UNLIKELY   \n",
       "346   46.041865        0.03          0.03               16.72     LIKELY   \n",
       "347   46.041865        1.67          1.67               16.72     LIKELY   \n",
       "\n",
       "                             matched features  \n",
       "0                                         NaN  \n",
       "1                        feat_id=1064, [M+H]+  \n",
       "2                         feat_id=755, [M+H]+  \n",
       "3                         feat_id=420, [M+H]+  \n",
       "4    feat_id=295, [M+H]+; feat_id=576, [M+H]+  \n",
       "..                                        ...  \n",
       "343                     feat_id=1165, [M+Na]+  \n",
       "344                                       NaN  \n",
       "345                                       NaN  \n",
       "346                                       NaN  \n",
       "347                                       NaN  \n",
       "\n",
       "[348 rows x 12 columns]"
      ]
     },
     "execution_count": 14,
     "metadata": {},
     "output_type": "execute_result"
    }
   ],
   "source": [
    "# write feature matchings for analysis\n",
    "row_to_match = {}\n",
    "for i in feat_id_to_dict.values():\n",
    "    for adduct, smis in i['adduct_to_smiles'].items():\n",
    "        for smi in smis:\n",
    "            for row_idx in all_candidates.index[all_candidates['smiles'] == smi]:\n",
    "                if row_idx not in row_to_match:\n",
    "                    row_to_match[row_idx] = f\"feat_id={i['feature_id']}, {adduct}\"\n",
    "                else:\n",
    "                    row_to_match[row_idx] += f\"; feat_id={i['feature_id']}, {adduct}\"\n",
    "all_candidates['matched features'] = row_to_match\n",
    "# all_candidates.to_csv(candidates_csv + '2', index=False)\n",
    "all_candidates"
   ]
  },
  {
   "cell_type": "code",
   "execution_count": 20,
   "metadata": {},
   "outputs": [
    {
     "name": "stderr",
     "output_type": "stream",
     "text": [
      "  2%|▏         | 3/175 [00:16<13:22,  4.67s/it]"
     ]
    },
    {
     "name": "stdout",
     "output_type": "stream",
     "text": [
      "Found a non-live entry: CID=137202720\n"
     ]
    },
    {
     "name": "stderr",
     "output_type": "stream",
     "text": [
      "  6%|▌         | 10/175 [00:26<07:38,  2.78s/it]"
     ]
    },
    {
     "name": "stdout",
     "output_type": "stream",
     "text": [
      "Found a non-live entry: CID=86230378\n"
     ]
    },
    {
     "name": "stderr",
     "output_type": "stream",
     "text": [
      " 31%|███       | 54/175 [02:19<06:25,  3.19s/it]"
     ]
    },
    {
     "name": "stdout",
     "output_type": "stream",
     "text": [
      "Found a non-live entry: CID=85546563\n"
     ]
    },
    {
     "name": "stderr",
     "output_type": "stream",
     "text": [
      " 45%|████▌     | 79/175 [03:07<03:52,  2.42s/it]"
     ]
    },
    {
     "name": "stdout",
     "output_type": "stream",
     "text": [
      "Found a non-live entry: CID=85640901\n"
     ]
    },
    {
     "name": "stderr",
     "output_type": "stream",
     "text": [
      " 53%|█████▎    | 93/175 [03:35<02:56,  2.16s/it]"
     ]
    },
    {
     "name": "stdout",
     "output_type": "stream",
     "text": [
      "Found a non-live entry: CID=14604950\n"
     ]
    },
    {
     "name": "stderr",
     "output_type": "stream",
     "text": [
      "100%|██████████| 175/175 [06:54<00:00,  2.37s/it]\n"
     ]
    },
    {
     "data": {
      "text/plain": [
       "101"
      ]
     },
     "execution_count": 20,
     "metadata": {},
     "output_type": "execute_result"
    }
   ],
   "source": [
    "# How many enumeration candidates are in pubchem\n",
    "import pubchempy as pcp\n",
    "\n",
    "def is_in_pubchem(smiles):\n",
    "    inchikey = common.inchikey_from_smiles(common.rm_stereo(smiles))\n",
    "    compounds = pcp.get_compounds(smiles, namespace='smiles')\n",
    "    for cmpd in compounds:\n",
    "        if hasattr(cmpd, 'cid') and cmpd.cid is not None:\n",
    "            cand_smis = candidates_from_pubchem(common.form_from_smi(smiles))\n",
    "            cand_inchikeys = [common.inchikey_from_smiles(common.rm_stereo(smi)) for smi in cand_smis]\n",
    "            if not inchikey in cand_inchikeys:\n",
    "                print(f'Found a non-live entry: CID={cmpd.cid}')\n",
    "            return 1\n",
    "    return 0\n",
    "\n",
    "all_smiles = [row['smiles'] for idx, row in all_candidates.iterrows()]\n",
    "all_smiles = np.unique(all_smiles)\n",
    "in_pubchem = [is_in_pubchem(smi) for smi in tqdm(all_smiles)]\n",
    "sum(in_pubchem)"
   ]
  },
  {
   "cell_type": "markdown",
   "metadata": {
    "jupyter": {
     "outputs_hidden": false
    }
   },
   "source": [
    "### Run ICEBERG prediction"
   ]
  },
  {
   "cell_type": "code",
   "execution_count": 20,
   "metadata": {
    "jupyter": {
     "outputs_hidden": false
    }
   },
   "outputs": [],
   "source": [
    "def pesticide_elucidation(info_dict, vis_peaks=False, energy=[30, 40, 60]):\n",
    "    pesticide_config = copy.deepcopy(config)\n",
    "    pesticide_config['nce'] = True # use nce for collision energy\n",
    "    pesticide_config['step_collision_energy'] = True  # step collision energy i.e. multiple spectrum are obtained then merged\n",
    "    pesticide_config['real_spec_type'] = 'raw'\n",
    "\n",
    "    all_results = []\n",
    "\n",
    "    for adduct, smiles in info_dict['adduct_to_smiles'].items():\n",
    "        pesticide_config['adduct'] = adduct\n",
    "\n",
    "        # Run ICEBERG to predict spectra\n",
    "        result_path, pmz = iceberg_prediction(smiles, energy, **pesticide_config)\n",
    "\n",
    "        # Compare spectrum similarity for elucidation\n",
    "        topk_results = elucidation_over_candidates(result_path, info_dict[\"spec\"], precursor_mass=pmz, mol_name=info_dict[\"feature_id\"], topk=10, **pesticide_config)\n",
    "        all_results += [list(res) + [result_path, pmz] for res in topk_results]\n",
    "\n",
    "    # Plot top results\n",
    "    all_results = sorted(all_results, key=lambda x: x[1])[:10]\n",
    "    img = plot_top_mols([res[:3] for res in all_results])\n",
    "\n",
    "    # Visualize and explain peaks\n",
    "    if vis_peaks:\n",
    "        for smi, _, __, result_path, pmz in all_results:\n",
    "            explain_peaks(result_path, info_dict[\"spec\"], pmz, smi, num_peaks=10, **pesticide_config)\n",
    "\n",
    "    return img, all_results[0][1]"
   ]
  },
  {
   "cell_type": "code",
   "execution_count": 13,
   "metadata": {},
   "outputs": [
    {
     "data": {
      "text/plain": [
       "dict_keys(['1285'])"
      ]
     },
     "execution_count": 13,
     "metadata": {},
     "output_type": "execute_result"
    }
   ],
   "source": [
    "feat_id_to_dict.keys()"
   ]
  },
  {
   "cell_type": "code",
   "execution_count": 14,
   "metadata": {},
   "outputs": [
    {
     "name": "stdout",
     "output_type": "stream",
     "text": [
      "dict_keys(['[M+H]+'])\n"
     ]
    },
    {
     "data": {
      "text/plain": [
       "array(['C4H11NO3P', 'C8H8O3'], dtype='<U9')"
      ]
     },
     "execution_count": 14,
     "metadata": {},
     "output_type": "execute_result"
    }
   ],
   "source": [
    "fid = '1285'\n",
    "print(feat_id_to_dict[fid]['adduct_to_smiles'].keys())\n",
    "np.unique([common.form_from_smi(i) for v in feat_id_to_dict[fid]['adduct_to_smiles'].values() for i in v])"
   ]
  },
  {
   "cell_type": "code",
   "execution_count": 1,
   "metadata": {
    "jupyter": {
     "outputs_hidden": false
    },
    "scrolled": true
   },
   "outputs": [
    {
     "ename": "NameError",
     "evalue": "name 'pesticide_elucidation' is not defined",
     "output_type": "error",
     "traceback": [
      "\u001b[0;31m---------------------------------------------------------------------------\u001b[0m",
      "\u001b[0;31mNameError\u001b[0m                                 Traceback (most recent call last)",
      "\u001b[0;32m/tmp/ipykernel_445/38127493.py\u001b[0m in \u001b[0;36m<cell line: 1>\u001b[0;34m()\u001b[0m\n\u001b[0;32m----> 1\u001b[0;31m \u001b[0mpesticide_elucidation\u001b[0m\u001b[0;34m(\u001b[0m\u001b[0mfeat_id_to_dict\u001b[0m\u001b[0;34m[\u001b[0m\u001b[0;34m'1285'\u001b[0m\u001b[0;34m]\u001b[0m\u001b[0;34m,\u001b[0m \u001b[0;32mTrue\u001b[0m\u001b[0;34m)\u001b[0m\u001b[0;34m[\u001b[0m\u001b[0;36m0\u001b[0m\u001b[0;34m]\u001b[0m\u001b[0;34m\u001b[0m\u001b[0;34m\u001b[0m\u001b[0m\n\u001b[0m",
      "\u001b[0;31mNameError\u001b[0m: name 'pesticide_elucidation' is not defined"
     ]
    }
   ],
   "source": [
    "pesticide_elucidation(feat_id_to_dict['1285'], True)[0]"
   ]
  },
  {
   "cell_type": "markdown",
   "metadata": {},
   "source": [
    "## Generate Buyable Report"
   ]
  },
  {
   "cell_type": "code",
   "execution_count": 37,
   "metadata": {},
   "outputs": [
    {
     "name": "stdout",
     "output_type": "stream",
     "text": [
      "CUDA_VISIBLE_DEVICES=0 /home/roger/miniforge3/envs/ms-main/bin/python src/ms_pred/dag_pred/predict_smis.py \\\n",
      "               --batch-size 8 \\\n",
      "               --num-workers 6 \\\n",
      "               --dataset-labels /home/roger/.cache/ms-pred/iceberg-elucidation/8701ce71111ff4d5f77c21c7690b2756/cands_df_iceberg_elucidation.tsv \\\n",
      "               --sparse-out \\\n",
      "               --sparse-k 100 \\\n",
      "               --max-nodes 100 \\\n",
      "               --threshold 0.0 \\\n",
      "               --gen-checkpoint /home/roger/ms-models/iceberg_results_20240630/dag_nist20/split_1_rnd1/version_0/best.ckpt \\\n",
      "               --inten-checkpoint /home/roger/ms-models/iceberg_results_20240630/dag_inten_nist20/split_1_rnd1/version_0/best.ckpt \\\n",
      "               --save-dir /home/roger/.cache/ms-pred/iceberg-elucidation/8701ce71111ff4d5f77c21c7690b2756 \\\n",
      "               --gpu \\\n",
      "               --adduct-shift\n"
     ]
    },
    {
     "name": "stderr",
     "output_type": "stream",
     "text": [
      "Global seed set to 42\n"
     ]
    },
    {
     "name": "stdout",
     "output_type": "stream",
     "text": [
      "2024-09-13 17:50:00,981 INFO: \n",
      "adduct_shift: true\n",
      "batch_size: 8\n",
      "binned_out: false\n",
      "dataset_labels: /home/roger/.cache/ms-pred/iceberg-elucidation/8701ce71111ff4d5f77c21c7690b2756/cands_df_iceberg_elucidation.tsv\n",
      "dataset_name: null\n",
      "debug: false\n",
      "gen_checkpoint: /home/roger/ms-models/iceberg_results_20240630/dag_nist20/split_1_rnd1/version_0/best.ckpt\n",
      "gpu: true\n",
      "inten_checkpoint: /home/roger/ms-models/iceberg_results_20240630/dag_inten_nist20/split_1_rnd1/version_0/best.ckpt\n",
      "max_nodes: 100\n",
      "num_bins: 15000\n",
      "num_workers: 6\n",
      "save_dir: /home/roger/.cache/ms-pred/iceberg-elucidation/8701ce71111ff4d5f77c21c7690b2756\n",
      "seed: 42\n",
      "sparse_k: 100\n",
      "sparse_out: true\n",
      "split_name: split_22.tsv\n",
      "subset_datasets: none\n",
      "threshold: 0.0\n",
      "upper_limit: 1500\n",
      "\n",
      "2024-09-13 17:50:02,935 INFO: Loaded gen / inten models from /home/roger/ms-models/iceberg_results_20240630/dag_nist20/split_1_rnd1/version_0/best.ckpt & /home/roger/ms-models/iceberg_results_20240630/dag_inten_nist20/split_1_rnd1/version_0/best.ckpt\n",
      "2024-09-13 17:50:02,937 INFO: Preparing entries\n"
     ]
    },
    {
     "name": "stderr",
     "output_type": "stream",
     "text": [
      "100%|██████████| 37/37 [00:04<00:00,  8.75it/s]\n",
      "  0%|          | 0/14 [00:00<?, ?it/s]"
     ]
    },
    {
     "name": "stdout",
     "output_type": "stream",
     "text": [
      "2024-09-13 17:50:07,258 INFO: There are 111 entries to process\n"
     ]
    },
    {
     "name": "stderr",
     "output_type": "stream",
     "text": [
      "100%|██████████| 14/14 [00:05<00:00,  2.50it/s]\n"
     ]
    },
    {
     "name": "stdout",
     "output_type": "stream",
     "text": [
      "2024-09-13 17:50:12,859 INFO: Program finished in: 11.88442873954773 seconds\n",
      "CUDA_VISIBLE_DEVICES=0 /home/roger/miniforge3/envs/ms-main/bin/python src/ms_pred/dag_pred/predict_smis.py \\\n",
      "               --batch-size 8 \\\n",
      "               --num-workers 6 \\\n",
      "               --dataset-labels /home/roger/.cache/ms-pred/iceberg-elucidation/00b5bf80ebe48effd746175a9bd4e170/cands_df_iceberg_elucidation.tsv \\\n",
      "               --sparse-out \\\n",
      "               --sparse-k 100 \\\n",
      "               --max-nodes 100 \\\n",
      "               --threshold 0.0 \\\n",
      "               --gen-checkpoint /home/roger/ms-models/iceberg_results_20240630/dag_nist20/split_1_rnd1/version_0/best.ckpt \\\n",
      "               --inten-checkpoint /home/roger/ms-models/iceberg_results_20240630/dag_inten_nist20/split_1_rnd1/version_0/best.ckpt \\\n",
      "               --save-dir /home/roger/.cache/ms-pred/iceberg-elucidation/00b5bf80ebe48effd746175a9bd4e170 \\\n",
      "               --gpu \\\n",
      "               --adduct-shift\n"
     ]
    },
    {
     "name": "stderr",
     "output_type": "stream",
     "text": [
      "Global seed set to 42\n"
     ]
    },
    {
     "name": "stdout",
     "output_type": "stream",
     "text": [
      "2024-09-13 17:50:16,631 INFO: \n",
      "adduct_shift: true\n",
      "batch_size: 8\n",
      "binned_out: false\n",
      "dataset_labels: /home/roger/.cache/ms-pred/iceberg-elucidation/00b5bf80ebe48effd746175a9bd4e170/cands_df_iceberg_elucidation.tsv\n",
      "dataset_name: null\n",
      "debug: false\n",
      "gen_checkpoint: /home/roger/ms-models/iceberg_results_20240630/dag_nist20/split_1_rnd1/version_0/best.ckpt\n",
      "gpu: true\n",
      "inten_checkpoint: /home/roger/ms-models/iceberg_results_20240630/dag_inten_nist20/split_1_rnd1/version_0/best.ckpt\n",
      "max_nodes: 100\n",
      "num_bins: 15000\n",
      "num_workers: 6\n",
      "save_dir: /home/roger/.cache/ms-pred/iceberg-elucidation/00b5bf80ebe48effd746175a9bd4e170\n",
      "seed: 42\n",
      "sparse_k: 100\n",
      "sparse_out: true\n",
      "split_name: split_22.tsv\n",
      "subset_datasets: none\n",
      "threshold: 0.0\n",
      "upper_limit: 1500\n",
      "\n",
      "2024-09-13 17:50:17,404 INFO: Loaded gen / inten models from /home/roger/ms-models/iceberg_results_20240630/dag_nist20/split_1_rnd1/version_0/best.ckpt & /home/roger/ms-models/iceberg_results_20240630/dag_inten_nist20/split_1_rnd1/version_0/best.ckpt\n",
      "2024-09-13 17:50:17,406 INFO: Preparing entries\n"
     ]
    },
    {
     "name": "stderr",
     "output_type": "stream",
     "text": [
      "100%|██████████| 3/3 [00:04<00:00,  1.51s/it]\n",
      "  0%|          | 0/2 [00:00<?, ?it/s]"
     ]
    },
    {
     "name": "stdout",
     "output_type": "stream",
     "text": [
      "2024-09-13 17:50:22,086 INFO: There are 9 entries to process\n"
     ]
    },
    {
     "name": "stderr",
     "output_type": "stream",
     "text": [
      "100%|██████████| 2/2 [00:01<00:00,  1.08it/s]\n"
     ]
    },
    {
     "name": "stdout",
     "output_type": "stream",
     "text": [
      "2024-09-13 17:50:23,945 INFO: Program finished in: 7.319716453552246 seconds\n",
      "CUDA_VISIBLE_DEVICES=0 /home/roger/miniforge3/envs/ms-main/bin/python src/ms_pred/dag_pred/predict_smis.py \\\n",
      "               --batch-size 8 \\\n",
      "               --num-workers 6 \\\n",
      "               --dataset-labels /home/roger/.cache/ms-pred/iceberg-elucidation/faee0e2d072e979ba5651707947d9efd/cands_df_iceberg_elucidation.tsv \\\n",
      "               --sparse-out \\\n",
      "               --sparse-k 100 \\\n",
      "               --max-nodes 100 \\\n",
      "               --threshold 0.0 \\\n",
      "               --gen-checkpoint /home/roger/ms-models/iceberg_results_20240630/dag_nist20/split_1_rnd1/version_0/best.ckpt \\\n",
      "               --inten-checkpoint /home/roger/ms-models/iceberg_results_20240630/dag_inten_nist20/split_1_rnd1/version_0/best.ckpt \\\n",
      "               --save-dir /home/roger/.cache/ms-pred/iceberg-elucidation/faee0e2d072e979ba5651707947d9efd \\\n",
      "               --gpu \\\n",
      "               --adduct-shift\n"
     ]
    },
    {
     "name": "stderr",
     "output_type": "stream",
     "text": [
      "Global seed set to 42\n"
     ]
    },
    {
     "name": "stdout",
     "output_type": "stream",
     "text": [
      "2024-09-13 17:50:30,235 INFO: \n",
      "adduct_shift: true\n",
      "batch_size: 8\n",
      "binned_out: false\n",
      "dataset_labels: /home/roger/.cache/ms-pred/iceberg-elucidation/faee0e2d072e979ba5651707947d9efd/cands_df_iceberg_elucidation.tsv\n",
      "dataset_name: null\n",
      "debug: false\n",
      "gen_checkpoint: /home/roger/ms-models/iceberg_results_20240630/dag_nist20/split_1_rnd1/version_0/best.ckpt\n",
      "gpu: true\n",
      "inten_checkpoint: /home/roger/ms-models/iceberg_results_20240630/dag_inten_nist20/split_1_rnd1/version_0/best.ckpt\n",
      "max_nodes: 100\n",
      "num_bins: 15000\n",
      "num_workers: 6\n",
      "save_dir: /home/roger/.cache/ms-pred/iceberg-elucidation/faee0e2d072e979ba5651707947d9efd\n",
      "seed: 42\n",
      "sparse_k: 100\n",
      "sparse_out: true\n",
      "split_name: split_22.tsv\n",
      "subset_datasets: none\n",
      "threshold: 0.0\n",
      "upper_limit: 1500\n",
      "\n",
      "2024-09-13 17:50:30,974 INFO: Loaded gen / inten models from /home/roger/ms-models/iceberg_results_20240630/dag_nist20/split_1_rnd1/version_0/best.ckpt & /home/roger/ms-models/iceberg_results_20240630/dag_inten_nist20/split_1_rnd1/version_0/best.ckpt\n",
      "2024-09-13 17:50:30,992 INFO: Preparing entries\n"
     ]
    },
    {
     "name": "stderr",
     "output_type": "stream",
     "text": [
      "100%|██████████| 1149/1149 [00:05<00:00, 196.35it/s]\n",
      "  0%|          | 0/431 [00:00<?, ?it/s]"
     ]
    },
    {
     "name": "stdout",
     "output_type": "stream",
     "text": [
      "2024-09-13 17:50:36,926 INFO: There are 3447 entries to process\n"
     ]
    },
    {
     "name": "stderr",
     "output_type": "stream",
     "text": [
      "100%|██████████| 431/431 [01:42<00:00,  4.20it/s]\n"
     ]
    },
    {
     "name": "stdout",
     "output_type": "stream",
     "text": [
      "2024-09-13 17:52:19,626 INFO: Program finished in: 109.39596557617188 seconds\n",
      "CUDA_VISIBLE_DEVICES=0 /home/roger/miniforge3/envs/ms-main/bin/python src/ms_pred/dag_pred/predict_smis.py \\\n",
      "               --batch-size 8 \\\n",
      "               --num-workers 6 \\\n",
      "               --dataset-labels /home/roger/.cache/ms-pred/iceberg-elucidation/094732e7126e09cedbeb68e32ad91f07/cands_df_iceberg_elucidation.tsv \\\n",
      "               --sparse-out \\\n",
      "               --sparse-k 100 \\\n",
      "               --max-nodes 100 \\\n",
      "               --threshold 0.0 \\\n",
      "               --gen-checkpoint /home/roger/ms-models/iceberg_results_20240630/dag_nist20/split_1_rnd1/version_0/best.ckpt \\\n",
      "               --inten-checkpoint /home/roger/ms-models/iceberg_results_20240630/dag_inten_nist20/split_1_rnd1/version_0/best.ckpt \\\n",
      "               --save-dir /home/roger/.cache/ms-pred/iceberg-elucidation/094732e7126e09cedbeb68e32ad91f07 \\\n",
      "               --gpu \\\n",
      "               --adduct-shift\n"
     ]
    },
    {
     "name": "stderr",
     "output_type": "stream",
     "text": [
      "Global seed set to 42\n"
     ]
    },
    {
     "name": "stdout",
     "output_type": "stream",
     "text": [
      "2024-09-13 17:52:26,812 INFO: \n",
      "adduct_shift: true\n",
      "batch_size: 8\n",
      "binned_out: false\n",
      "dataset_labels: /home/roger/.cache/ms-pred/iceberg-elucidation/094732e7126e09cedbeb68e32ad91f07/cands_df_iceberg_elucidation.tsv\n",
      "dataset_name: null\n",
      "debug: false\n",
      "gen_checkpoint: /home/roger/ms-models/iceberg_results_20240630/dag_nist20/split_1_rnd1/version_0/best.ckpt\n",
      "gpu: true\n",
      "inten_checkpoint: /home/roger/ms-models/iceberg_results_20240630/dag_inten_nist20/split_1_rnd1/version_0/best.ckpt\n",
      "max_nodes: 100\n",
      "num_bins: 15000\n",
      "num_workers: 6\n",
      "save_dir: /home/roger/.cache/ms-pred/iceberg-elucidation/094732e7126e09cedbeb68e32ad91f07\n",
      "seed: 42\n",
      "sparse_k: 100\n",
      "sparse_out: true\n",
      "split_name: split_22.tsv\n",
      "subset_datasets: none\n",
      "threshold: 0.0\n",
      "upper_limit: 1500\n",
      "\n",
      "2024-09-13 17:52:27,568 INFO: Loaded gen / inten models from /home/roger/ms-models/iceberg_results_20240630/dag_nist20/split_1_rnd1/version_0/best.ckpt & /home/roger/ms-models/iceberg_results_20240630/dag_inten_nist20/split_1_rnd1/version_0/best.ckpt\n",
      "2024-09-13 17:52:27,570 INFO: Preparing entries\n"
     ]
    },
    {
     "name": "stderr",
     "output_type": "stream",
     "text": [
      "100%|██████████| 40/40 [00:04<00:00,  8.25it/s]\n",
      "  0%|          | 0/15 [00:00<?, ?it/s]"
     ]
    },
    {
     "name": "stdout",
     "output_type": "stream",
     "text": [
      "2024-09-13 17:52:32,505 INFO: There are 120 entries to process\n"
     ]
    },
    {
     "name": "stderr",
     "output_type": "stream",
     "text": [
      "100%|██████████| 15/15 [00:04<00:00,  3.61it/s]\n"
     ]
    },
    {
     "name": "stdout",
     "output_type": "stream",
     "text": [
      "2024-09-13 17:52:36,673 INFO: Program finished in: 9.866114616394043 seconds\n",
      "CUDA_VISIBLE_DEVICES=0 /home/roger/miniforge3/envs/ms-main/bin/python src/ms_pred/dag_pred/predict_smis.py \\\n",
      "               --batch-size 8 \\\n",
      "               --num-workers 6 \\\n",
      "               --dataset-labels /home/roger/.cache/ms-pred/iceberg-elucidation/df9a724849a77b284d1dd4de630b2f1c/cands_df_iceberg_elucidation.tsv \\\n",
      "               --sparse-out \\\n",
      "               --sparse-k 100 \\\n",
      "               --max-nodes 100 \\\n",
      "               --threshold 0.0 \\\n",
      "               --gen-checkpoint /home/roger/ms-models/iceberg_results_20240630/dag_nist20/split_1_rnd1/version_0/best.ckpt \\\n",
      "               --inten-checkpoint /home/roger/ms-models/iceberg_results_20240630/dag_inten_nist20/split_1_rnd1/version_0/best.ckpt \\\n",
      "               --save-dir /home/roger/.cache/ms-pred/iceberg-elucidation/df9a724849a77b284d1dd4de630b2f1c \\\n",
      "               --gpu \\\n",
      "               --adduct-shift\n"
     ]
    },
    {
     "name": "stderr",
     "output_type": "stream",
     "text": [
      "Global seed set to 42\n"
     ]
    },
    {
     "name": "stdout",
     "output_type": "stream",
     "text": [
      "2024-09-13 17:52:42,473 INFO: \n",
      "adduct_shift: true\n",
      "batch_size: 8\n",
      "binned_out: false\n",
      "dataset_labels: /home/roger/.cache/ms-pred/iceberg-elucidation/df9a724849a77b284d1dd4de630b2f1c/cands_df_iceberg_elucidation.tsv\n",
      "dataset_name: null\n",
      "debug: false\n",
      "gen_checkpoint: /home/roger/ms-models/iceberg_results_20240630/dag_nist20/split_1_rnd1/version_0/best.ckpt\n",
      "gpu: true\n",
      "inten_checkpoint: /home/roger/ms-models/iceberg_results_20240630/dag_inten_nist20/split_1_rnd1/version_0/best.ckpt\n",
      "max_nodes: 100\n",
      "num_bins: 15000\n",
      "num_workers: 6\n",
      "save_dir: /home/roger/.cache/ms-pred/iceberg-elucidation/df9a724849a77b284d1dd4de630b2f1c\n",
      "seed: 42\n",
      "sparse_k: 100\n",
      "sparse_out: true\n",
      "split_name: split_22.tsv\n",
      "subset_datasets: none\n",
      "threshold: 0.0\n",
      "upper_limit: 1500\n",
      "\n",
      "2024-09-13 17:52:43,221 INFO: Loaded gen / inten models from /home/roger/ms-models/iceberg_results_20240630/dag_nist20/split_1_rnd1/version_0/best.ckpt & /home/roger/ms-models/iceberg_results_20240630/dag_inten_nist20/split_1_rnd1/version_0/best.ckpt\n",
      "2024-09-13 17:52:43,229 INFO: Preparing entries\n"
     ]
    },
    {
     "name": "stderr",
     "output_type": "stream",
     "text": [
      "100%|██████████| 501/501 [00:04<00:00, 101.88it/s]\n",
      "  0%|          | 0/188 [00:00<?, ?it/s]"
     ]
    },
    {
     "name": "stdout",
     "output_type": "stream",
     "text": [
      "2024-09-13 17:52:48,230 INFO: There are 1503 entries to process\n"
     ]
    },
    {
     "name": "stderr",
     "output_type": "stream",
     "text": [
      "100%|██████████| 188/188 [00:25<00:00,  7.43it/s]\n"
     ]
    },
    {
     "name": "stdout",
     "output_type": "stream",
     "text": [
      "2024-09-13 17:53:13,563 INFO: Program finished in: 31.09615445137024 seconds\n",
      "CUDA_VISIBLE_DEVICES=0 /home/roger/miniforge3/envs/ms-main/bin/python src/ms_pred/dag_pred/predict_smis.py \\\n",
      "               --batch-size 8 \\\n",
      "               --num-workers 6 \\\n",
      "               --dataset-labels /home/roger/.cache/ms-pred/iceberg-elucidation/4a2a4e47f1c69a862807e480b8acff29/cands_df_iceberg_elucidation.tsv \\\n",
      "               --sparse-out \\\n",
      "               --sparse-k 100 \\\n",
      "               --max-nodes 100 \\\n",
      "               --threshold 0.0 \\\n",
      "               --gen-checkpoint /home/roger/ms-models/iceberg_results_20240630/dag_nist20/split_1_rnd1/version_0/best.ckpt \\\n",
      "               --inten-checkpoint /home/roger/ms-models/iceberg_results_20240630/dag_inten_nist20/split_1_rnd1/version_0/best.ckpt \\\n",
      "               --save-dir /home/roger/.cache/ms-pred/iceberg-elucidation/4a2a4e47f1c69a862807e480b8acff29 \\\n",
      "               --gpu \\\n",
      "               --adduct-shift\n"
     ]
    },
    {
     "name": "stderr",
     "output_type": "stream",
     "text": [
      "Global seed set to 42\n"
     ]
    },
    {
     "name": "stdout",
     "output_type": "stream",
     "text": [
      "2024-09-13 17:53:18,673 INFO: \n",
      "adduct_shift: true\n",
      "batch_size: 8\n",
      "binned_out: false\n",
      "dataset_labels: /home/roger/.cache/ms-pred/iceberg-elucidation/4a2a4e47f1c69a862807e480b8acff29/cands_df_iceberg_elucidation.tsv\n",
      "dataset_name: null\n",
      "debug: false\n",
      "gen_checkpoint: /home/roger/ms-models/iceberg_results_20240630/dag_nist20/split_1_rnd1/version_0/best.ckpt\n",
      "gpu: true\n",
      "inten_checkpoint: /home/roger/ms-models/iceberg_results_20240630/dag_inten_nist20/split_1_rnd1/version_0/best.ckpt\n",
      "max_nodes: 100\n",
      "num_bins: 15000\n",
      "num_workers: 6\n",
      "save_dir: /home/roger/.cache/ms-pred/iceberg-elucidation/4a2a4e47f1c69a862807e480b8acff29\n",
      "seed: 42\n",
      "sparse_k: 100\n",
      "sparse_out: true\n",
      "split_name: split_22.tsv\n",
      "subset_datasets: none\n",
      "threshold: 0.0\n",
      "upper_limit: 1500\n",
      "\n",
      "2024-09-13 17:53:19,435 INFO: Loaded gen / inten models from /home/roger/ms-models/iceberg_results_20240630/dag_nist20/split_1_rnd1/version_0/best.ckpt & /home/roger/ms-models/iceberg_results_20240630/dag_inten_nist20/split_1_rnd1/version_0/best.ckpt\n",
      "2024-09-13 17:53:19,437 INFO: Preparing entries\n"
     ]
    },
    {
     "name": "stderr",
     "output_type": "stream",
     "text": [
      "100%|██████████| 18/18 [00:04<00:00,  3.70it/s]\n",
      "  0%|          | 0/7 [00:00<?, ?it/s]"
     ]
    },
    {
     "name": "stdout",
     "output_type": "stream",
     "text": [
      "2024-09-13 17:53:24,399 INFO: There are 54 entries to process\n"
     ]
    },
    {
     "name": "stderr",
     "output_type": "stream",
     "text": [
      " 29%|██▊       | 2/7 [00:02<00:05,  1.17s/it]\n",
      "multiprocess.pool.RemoteTraceback: \n",
      "\"\"\"\n",
      "Traceback (most recent call last):\n",
      "  File \"/home/roger/miniforge3/envs/ms-main/lib/python3.9/site-packages/multiprocess/pool.py\", line 125, in worker\n",
      "    result = (True, func(*args, **kwds))\n",
      "  File \"/home/roger/miniforge3/envs/ms-main/lib/python3.9/site-packages/pathos/helpers/mp_helper.py\", line 15, in <lambda>\n",
      "    func = lambda args: f(*args)\n",
      "  File \"/mnt/c/Users/runzh/OneDrive/Documents/2023/ms-pred/src/ms_pred/common/parallel_utils.py\", line 76, in batch_func\n",
      "    outputs.append(function(i))\n",
      "  File \"/mnt/c/Users/runzh/OneDrive/Documents/2023/ms-pred/src/ms_pred/dag_pred/predict_smis.py\", line 200, in producer_func\n",
      "    full_outputs = model.predict_mol(\n",
      "  File \"/mnt/c/Users/runzh/OneDrive/Documents/2023/ms-pred/src/ms_pred/dag_pred/joint_model.py\", line 102, in predict_mol\n",
      "    frag_tree = self.gen_model_obj.predict_mol(\n",
      "  File \"/mnt/c/Users/runzh/OneDrive/Documents/2023/ms-pred/src/ms_pred/dag_pred/gen_model.py\", line 469, in predict_mol\n",
      "    engine = [fragmentation.FragmentEngine(rsmi) for rsmi in root_smi]\n",
      "  File \"/mnt/c/Users/runzh/OneDrive/Documents/2023/ms-pred/src/ms_pred/dag_pred/gen_model.py\", line 469, in <listcomp>\n",
      "    engine = [fragmentation.FragmentEngine(rsmi) for rsmi in root_smi]\n",
      "  File \"/mnt/c/Users/runzh/OneDrive/Documents/2023/ms-pred/src/ms_pred/magma/fragmentation.py\", line 65, in __init__\n",
      "    raise RuntimeError(f\"Invalid molecule encountered. SMILES: {self.smiles}, InChI: {self.inchi}\")\n",
      "RuntimeError: Invalid molecule encountered. SMILES: Cl[C]c1ccc(Cl)cc1, InChI: InChI=1S/C7H4Cl2/c8-5-6-1-3-7(9)4-2-6/h1-4H\n",
      "\"\"\"\n",
      "\n",
      "The above exception was the direct cause of the following exception:\n",
      "\n",
      "Traceback (most recent call last):\n",
      "  File \"/mnt/c/Users/runzh/OneDrive/Documents/2023/ms-pred/src/ms_pred/dag_pred/predict_smis.py\", line 266, in <module>\n",
      "    predict()\n",
      "  File \"/mnt/c/Users/runzh/OneDrive/Documents/2023/ms-pred/src/ms_pred/dag_pred/predict_smis.py\", line 258, in predict\n",
      "    common.chunked_parallel(all_batched_entries, producer_func, output_func=write_h5_func,\n",
      "  File \"/mnt/c/Users/runzh/OneDrive/Documents/2023/ms-pred/src/ms_pred/common/parallel_utils.py\", line 99, in chunked_parallel\n",
      "    output_func(itertools.chain.from_iterable(iter_outputs))\n",
      "  File \"/mnt/c/Users/runzh/OneDrive/Documents/2023/ms-pred/src/ms_pred/dag_pred/predict_smis.py\", line 245, in write_h5_func\n",
      "    for out_batch in out_entries:\n",
      "  File \"/home/roger/miniforge3/envs/ms-main/lib/python3.9/site-packages/tqdm/std.py\", line 1181, in __iter__\n",
      "    for obj in iterable:\n",
      "  File \"/home/roger/miniforge3/envs/ms-main/lib/python3.9/site-packages/multiprocess/pool.py\", line 870, in next\n",
      "    raise value\n",
      "RuntimeError: Invalid molecule encountered. SMILES: Cl[C]c1ccc(Cl)cc1, InChI: InChI=1S/C7H4Cl2/c8-5-6-1-3-7(9)4-2-6/h1-4H\n"
     ]
    },
    {
     "name": "stdout",
     "output_type": "stream",
     "text": [
      "CUDA_VISIBLE_DEVICES=0 /home/roger/miniforge3/envs/ms-main/bin/python src/ms_pred/dag_pred/predict_smis.py \\\n",
      "               --batch-size 8 \\\n",
      "               --num-workers 6 \\\n",
      "               --dataset-labels /home/roger/.cache/ms-pred/iceberg-elucidation/52d396b5b3c864e0a6780b747b60e36b/cands_df_iceberg_elucidation.tsv \\\n",
      "               --sparse-out \\\n",
      "               --sparse-k 100 \\\n",
      "               --max-nodes 100 \\\n",
      "               --threshold 0.0 \\\n",
      "               --gen-checkpoint /home/roger/ms-models/iceberg_results_20240630/dag_nist20/split_1_rnd1/version_0/best.ckpt \\\n",
      "               --inten-checkpoint /home/roger/ms-models/iceberg_results_20240630/dag_inten_nist20/split_1_rnd1/version_0/best.ckpt \\\n",
      "               --save-dir /home/roger/.cache/ms-pred/iceberg-elucidation/52d396b5b3c864e0a6780b747b60e36b \\\n",
      "               --gpu \\\n",
      "               --adduct-shift\n"
     ]
    },
    {
     "name": "stderr",
     "output_type": "stream",
     "text": [
      "Global seed set to 42\n"
     ]
    },
    {
     "name": "stdout",
     "output_type": "stream",
     "text": [
      "2024-09-13 17:53:33,067 INFO: \n",
      "adduct_shift: true\n",
      "batch_size: 8\n",
      "binned_out: false\n",
      "dataset_labels: /home/roger/.cache/ms-pred/iceberg-elucidation/52d396b5b3c864e0a6780b747b60e36b/cands_df_iceberg_elucidation.tsv\n",
      "dataset_name: null\n",
      "debug: false\n",
      "gen_checkpoint: /home/roger/ms-models/iceberg_results_20240630/dag_nist20/split_1_rnd1/version_0/best.ckpt\n",
      "gpu: true\n",
      "inten_checkpoint: /home/roger/ms-models/iceberg_results_20240630/dag_inten_nist20/split_1_rnd1/version_0/best.ckpt\n",
      "max_nodes: 100\n",
      "num_bins: 15000\n",
      "num_workers: 6\n",
      "save_dir: /home/roger/.cache/ms-pred/iceberg-elucidation/52d396b5b3c864e0a6780b747b60e36b\n",
      "seed: 42\n",
      "sparse_k: 100\n",
      "sparse_out: true\n",
      "split_name: split_22.tsv\n",
      "subset_datasets: none\n",
      "threshold: 0.0\n",
      "upper_limit: 1500\n",
      "\n",
      "2024-09-13 17:53:33,303 INFO: Loaded gen / inten models from /home/roger/ms-models/iceberg_results_20240630/dag_nist20/split_1_rnd1/version_0/best.ckpt & /home/roger/ms-models/iceberg_results_20240630/dag_inten_nist20/split_1_rnd1/version_0/best.ckpt\n",
      "2024-09-13 17:53:33,344 INFO: Preparing entries\n"
     ]
    },
    {
     "name": "stderr",
     "output_type": "stream",
     "text": [
      "100%|██████████| 987/987 [00:05<00:00, 171.63it/s]\n"
     ]
    },
    {
     "name": "stdout",
     "output_type": "stream",
     "text": [
      "2024-09-13 17:53:39,229 INFO: There are 2961 entries to process\n"
     ]
    },
    {
     "name": "stderr",
     "output_type": "stream",
     "text": [
      "100%|██████████| 371/371 [01:10<00:00,  5.24it/s]\n"
     ]
    },
    {
     "name": "stdout",
     "output_type": "stream",
     "text": [
      "2024-09-13 17:54:50,092 INFO: Program finished in: 77.03100967407227 seconds\n",
      "CUDA_VISIBLE_DEVICES=0 /home/roger/miniforge3/envs/ms-main/bin/python src/ms_pred/dag_pred/predict_smis.py \\\n",
      "               --batch-size 8 \\\n",
      "               --num-workers 6 \\\n",
      "               --dataset-labels /home/roger/.cache/ms-pred/iceberg-elucidation/c48a08e62389d785272c62b1ff5b9c6f/cands_df_iceberg_elucidation.tsv \\\n",
      "               --sparse-out \\\n",
      "               --sparse-k 100 \\\n",
      "               --max-nodes 100 \\\n",
      "               --threshold 0.0 \\\n",
      "               --gen-checkpoint /home/roger/ms-models/iceberg_results_20240630/dag_nist20/split_1_rnd1/version_0/best.ckpt \\\n",
      "               --inten-checkpoint /home/roger/ms-models/iceberg_results_20240630/dag_inten_nist20/split_1_rnd1/version_0/best.ckpt \\\n",
      "               --save-dir /home/roger/.cache/ms-pred/iceberg-elucidation/c48a08e62389d785272c62b1ff5b9c6f \\\n",
      "               --gpu \\\n",
      "               --adduct-shift\n"
     ]
    },
    {
     "name": "stderr",
     "output_type": "stream",
     "text": [
      "Global seed set to 42\n"
     ]
    },
    {
     "name": "stdout",
     "output_type": "stream",
     "text": [
      "2024-09-13 17:54:58,782 INFO: \n",
      "adduct_shift: true\n",
      "batch_size: 8\n",
      "binned_out: false\n",
      "dataset_labels: /home/roger/.cache/ms-pred/iceberg-elucidation/c48a08e62389d785272c62b1ff5b9c6f/cands_df_iceberg_elucidation.tsv\n",
      "dataset_name: null\n",
      "debug: false\n",
      "gen_checkpoint: /home/roger/ms-models/iceberg_results_20240630/dag_nist20/split_1_rnd1/version_0/best.ckpt\n",
      "gpu: true\n",
      "inten_checkpoint: /home/roger/ms-models/iceberg_results_20240630/dag_inten_nist20/split_1_rnd1/version_0/best.ckpt\n",
      "max_nodes: 100\n",
      "num_bins: 15000\n",
      "num_workers: 6\n",
      "save_dir: /home/roger/.cache/ms-pred/iceberg-elucidation/c48a08e62389d785272c62b1ff5b9c6f\n",
      "seed: 42\n",
      "sparse_k: 100\n",
      "sparse_out: true\n",
      "split_name: split_22.tsv\n",
      "subset_datasets: none\n",
      "threshold: 0.0\n",
      "upper_limit: 1500\n",
      "\n",
      "2024-09-13 17:54:59,569 INFO: Loaded gen / inten models from /home/roger/ms-models/iceberg_results_20240630/dag_nist20/split_1_rnd1/version_0/best.ckpt & /home/roger/ms-models/iceberg_results_20240630/dag_inten_nist20/split_1_rnd1/version_0/best.ckpt\n",
      "2024-09-13 17:54:59,581 INFO: Preparing entries\n"
     ]
    },
    {
     "name": "stderr",
     "output_type": "stream",
     "text": [
      "100%|██████████| 736/736 [00:05<00:00, 139.49it/s]\n",
      "  0%|          | 0/276 [00:00<?, ?it/s]"
     ]
    },
    {
     "name": "stdout",
     "output_type": "stream",
     "text": [
      "2024-09-13 17:55:04,947 INFO: There are 2208 entries to process\n"
     ]
    },
    {
     "name": "stderr",
     "output_type": "stream",
     "text": [
      "100%|██████████| 276/276 [01:08<00:00,  4.00it/s]\n"
     ]
    },
    {
     "name": "stdout",
     "output_type": "stream",
     "text": [
      "2024-09-13 17:56:13,927 INFO: Program finished in: 75.14925050735474 seconds\n",
      "CUDA_VISIBLE_DEVICES=0 /home/roger/miniforge3/envs/ms-main/bin/python src/ms_pred/dag_pred/predict_smis.py \\\n",
      "               --batch-size 8 \\\n",
      "               --num-workers 6 \\\n",
      "               --dataset-labels /home/roger/.cache/ms-pred/iceberg-elucidation/86e8bcbad1ef0fed41babf01fba94c42/cands_df_iceberg_elucidation.tsv \\\n",
      "               --sparse-out \\\n",
      "               --sparse-k 100 \\\n",
      "               --max-nodes 100 \\\n",
      "               --threshold 0.0 \\\n",
      "               --gen-checkpoint /home/roger/ms-models/iceberg_results_20240630/dag_nist20/split_1_rnd1/version_0/best.ckpt \\\n",
      "               --inten-checkpoint /home/roger/ms-models/iceberg_results_20240630/dag_inten_nist20/split_1_rnd1/version_0/best.ckpt \\\n",
      "               --save-dir /home/roger/.cache/ms-pred/iceberg-elucidation/86e8bcbad1ef0fed41babf01fba94c42 \\\n",
      "               --gpu \\\n",
      "               --adduct-shift\n"
     ]
    },
    {
     "name": "stderr",
     "output_type": "stream",
     "text": [
      "Global seed set to 42\n"
     ]
    },
    {
     "name": "stdout",
     "output_type": "stream",
     "text": [
      "2024-09-13 17:56:21,270 INFO: \n",
      "adduct_shift: true\n",
      "batch_size: 8\n",
      "binned_out: false\n",
      "dataset_labels: /home/roger/.cache/ms-pred/iceberg-elucidation/86e8bcbad1ef0fed41babf01fba94c42/cands_df_iceberg_elucidation.tsv\n",
      "dataset_name: null\n",
      "debug: false\n",
      "gen_checkpoint: /home/roger/ms-models/iceberg_results_20240630/dag_nist20/split_1_rnd1/version_0/best.ckpt\n",
      "gpu: true\n",
      "inten_checkpoint: /home/roger/ms-models/iceberg_results_20240630/dag_inten_nist20/split_1_rnd1/version_0/best.ckpt\n",
      "max_nodes: 100\n",
      "num_bins: 15000\n",
      "num_workers: 6\n",
      "save_dir: /home/roger/.cache/ms-pred/iceberg-elucidation/86e8bcbad1ef0fed41babf01fba94c42\n",
      "seed: 42\n",
      "sparse_k: 100\n",
      "sparse_out: true\n",
      "split_name: split_22.tsv\n",
      "subset_datasets: none\n",
      "threshold: 0.0\n",
      "upper_limit: 1500\n",
      "\n",
      "2024-09-13 17:56:22,010 INFO: Loaded gen / inten models from /home/roger/ms-models/iceberg_results_20240630/dag_nist20/split_1_rnd1/version_0/best.ckpt & /home/roger/ms-models/iceberg_results_20240630/dag_inten_nist20/split_1_rnd1/version_0/best.ckpt\n",
      "2024-09-13 17:56:22,013 INFO: Preparing entries\n"
     ]
    },
    {
     "name": "stderr",
     "output_type": "stream",
     "text": [
      "100%|██████████| 62/62 [00:02<00:00, 21.19it/s]\n",
      "  0%|          | 0/24 [00:00<?, ?it/s]"
     ]
    },
    {
     "name": "stdout",
     "output_type": "stream",
     "text": [
      "2024-09-13 17:56:25,041 INFO: There are 186 entries to process\n"
     ]
    },
    {
     "name": "stderr",
     "output_type": "stream",
     "text": [
      "100%|██████████| 24/24 [00:06<00:00,  3.76it/s]\n"
     ]
    },
    {
     "name": "stdout",
     "output_type": "stream",
     "text": [
      "2024-09-13 17:56:31,437 INFO: Program finished in: 10.172414064407349 seconds\n",
      "CUDA_VISIBLE_DEVICES=0 /home/roger/miniforge3/envs/ms-main/bin/python src/ms_pred/dag_pred/predict_smis.py \\\n",
      "               --batch-size 8 \\\n",
      "               --num-workers 6 \\\n",
      "               --dataset-labels /home/roger/.cache/ms-pred/iceberg-elucidation/ba2569a97002a0337ad57fc7b1c4deb5/cands_df_iceberg_elucidation.tsv \\\n",
      "               --sparse-out \\\n",
      "               --sparse-k 100 \\\n",
      "               --max-nodes 100 \\\n",
      "               --threshold 0.0 \\\n",
      "               --gen-checkpoint /home/roger/ms-models/iceberg_results_20240630/dag_nist20/split_1_rnd1/version_0/best.ckpt \\\n",
      "               --inten-checkpoint /home/roger/ms-models/iceberg_results_20240630/dag_inten_nist20/split_1_rnd1/version_0/best.ckpt \\\n",
      "               --save-dir /home/roger/.cache/ms-pred/iceberg-elucidation/ba2569a97002a0337ad57fc7b1c4deb5 \\\n",
      "               --gpu \\\n",
      "               --adduct-shift\n"
     ]
    },
    {
     "name": "stderr",
     "output_type": "stream",
     "text": [
      "Global seed set to 42\n"
     ]
    },
    {
     "name": "stdout",
     "output_type": "stream",
     "text": [
      "2024-09-13 17:56:37,223 INFO: \n",
      "adduct_shift: true\n",
      "batch_size: 8\n",
      "binned_out: false\n",
      "dataset_labels: /home/roger/.cache/ms-pred/iceberg-elucidation/ba2569a97002a0337ad57fc7b1c4deb5/cands_df_iceberg_elucidation.tsv\n",
      "dataset_name: null\n",
      "debug: false\n",
      "gen_checkpoint: /home/roger/ms-models/iceberg_results_20240630/dag_nist20/split_1_rnd1/version_0/best.ckpt\n",
      "gpu: true\n",
      "inten_checkpoint: /home/roger/ms-models/iceberg_results_20240630/dag_inten_nist20/split_1_rnd1/version_0/best.ckpt\n",
      "max_nodes: 100\n",
      "num_bins: 15000\n",
      "num_workers: 6\n",
      "save_dir: /home/roger/.cache/ms-pred/iceberg-elucidation/ba2569a97002a0337ad57fc7b1c4deb5\n",
      "seed: 42\n",
      "sparse_k: 100\n",
      "sparse_out: true\n",
      "split_name: split_22.tsv\n",
      "subset_datasets: none\n",
      "threshold: 0.0\n",
      "upper_limit: 1500\n",
      "\n",
      "2024-09-13 17:56:37,997 INFO: Loaded gen / inten models from /home/roger/ms-models/iceberg_results_20240630/dag_nist20/split_1_rnd1/version_0/best.ckpt & /home/roger/ms-models/iceberg_results_20240630/dag_inten_nist20/split_1_rnd1/version_0/best.ckpt\n",
      "2024-09-13 17:56:38,003 INFO: Preparing entries\n"
     ]
    },
    {
     "name": "stderr",
     "output_type": "stream",
     "text": [
      "100%|██████████| 327/327 [00:05<00:00, 64.99it/s]\n",
      "  0%|          | 0/123 [00:00<?, ?it/s]"
     ]
    },
    {
     "name": "stdout",
     "output_type": "stream",
     "text": [
      "2024-09-13 17:56:43,117 INFO: There are 981 entries to process\n"
     ]
    },
    {
     "name": "stderr",
     "output_type": "stream",
     "text": [
      "100%|██████████| 123/123 [00:18<00:00,  6.75it/s]\n"
     ]
    },
    {
     "name": "stdout",
     "output_type": "stream",
     "text": [
      "2024-09-13 17:57:01,370 INFO: Program finished in: 24.153339862823486 seconds\n",
      "CUDA_VISIBLE_DEVICES=0 /home/roger/miniforge3/envs/ms-main/bin/python src/ms_pred/dag_pred/predict_smis.py \\\n",
      "               --batch-size 8 \\\n",
      "               --num-workers 6 \\\n",
      "               --dataset-labels /home/roger/.cache/ms-pred/iceberg-elucidation/813fb3835405bf15861afce1b36b0410/cands_df_iceberg_elucidation.tsv \\\n",
      "               --sparse-out \\\n",
      "               --sparse-k 100 \\\n",
      "               --max-nodes 100 \\\n",
      "               --threshold 0.0 \\\n",
      "               --gen-checkpoint /home/roger/ms-models/iceberg_results_20240630/dag_nist20/split_1_rnd1/version_0/best.ckpt \\\n",
      "               --inten-checkpoint /home/roger/ms-models/iceberg_results_20240630/dag_inten_nist20/split_1_rnd1/version_0/best.ckpt \\\n",
      "               --save-dir /home/roger/.cache/ms-pred/iceberg-elucidation/813fb3835405bf15861afce1b36b0410 \\\n",
      "               --gpu \\\n",
      "               --adduct-shift\n"
     ]
    },
    {
     "name": "stderr",
     "output_type": "stream",
     "text": [
      "Global seed set to 42\n"
     ]
    },
    {
     "name": "stdout",
     "output_type": "stream",
     "text": [
      "2024-09-13 17:57:24,169 INFO: \n",
      "adduct_shift: true\n",
      "batch_size: 8\n",
      "binned_out: false\n",
      "dataset_labels: /home/roger/.cache/ms-pred/iceberg-elucidation/813fb3835405bf15861afce1b36b0410/cands_df_iceberg_elucidation.tsv\n",
      "dataset_name: null\n",
      "debug: false\n",
      "gen_checkpoint: /home/roger/ms-models/iceberg_results_20240630/dag_nist20/split_1_rnd1/version_0/best.ckpt\n",
      "gpu: true\n",
      "inten_checkpoint: /home/roger/ms-models/iceberg_results_20240630/dag_inten_nist20/split_1_rnd1/version_0/best.ckpt\n",
      "max_nodes: 100\n",
      "num_bins: 15000\n",
      "num_workers: 6\n",
      "save_dir: /home/roger/.cache/ms-pred/iceberg-elucidation/813fb3835405bf15861afce1b36b0410\n",
      "seed: 42\n",
      "sparse_k: 100\n",
      "sparse_out: true\n",
      "split_name: split_22.tsv\n",
      "subset_datasets: none\n",
      "threshold: 0.0\n",
      "upper_limit: 1500\n",
      "\n",
      "2024-09-13 17:57:26,106 INFO: Loaded gen / inten models from /home/roger/ms-models/iceberg_results_20240630/dag_nist20/split_1_rnd1/version_0/best.ckpt & /home/roger/ms-models/iceberg_results_20240630/dag_inten_nist20/split_1_rnd1/version_0/best.ckpt\n",
      "2024-09-13 17:57:27,288 INFO: Preparing entries\n"
     ]
    },
    {
     "name": "stderr",
     "output_type": "stream",
     "text": [
      "100%|██████████| 1016/1016 [00:10<00:00, 94.28it/s] \n"
     ]
    },
    {
     "name": "stdout",
     "output_type": "stream",
     "text": [
      "2024-09-13 17:57:38,216 INFO: There are 97449 entries to process\n"
     ]
    },
    {
     "name": "stderr",
     "output_type": "stream",
     "text": [
      " 35%|███▍      | 355/1016 [14:32<25:32,  2.32s/it]  Process SpawnPoolWorker-5:\n",
      "Process SpawnPoolWorker-6:\n",
      "Process SpawnPoolWorker-4:\n",
      "Process SpawnPoolWorker-2:\n",
      "Process SpawnPoolWorker-1:\n",
      "Process SpawnPoolWorker-3:\n",
      " 35%|███▍      | 355/1016 [14:34<27:09,  2.46s/it]\n",
      "Traceback (most recent call last):\n",
      "  File \"/home/roger/miniforge3/envs/ms-main/lib/python3.9/site-packages/multiprocess/pool.py\", line 853, in next\n",
      "    item = self._items.popleft()\n",
      "IndexError: pop from an empty deque\n",
      "\n",
      "During handling of the above exception, another exception occurred:\n",
      "\n",
      "Traceback (most recent call last):\n",
      "  File \"/mnt/c/Users/runzh/OneDrive/Documents/2023/ms-pred/src/ms_pred/dag_pred/predict_smis.py\", line 266, in <module>\n",
      "    predict()\n",
      "  File \"/mnt/c/Users/runzh/OneDrive/Documents/2023/ms-pred/src/ms_pred/dag_pred/predict_smis.py\", line 258, in predict\n",
      "    common.chunked_parallel(all_batched_entries, producer_func, output_func=write_h5_func,\n",
      "  File \"/mnt/c/Users/runzh/OneDrive/Documents/2023/ms-pred/src/ms_pred/common/parallel_utils.py\", line 99, in chunked_parallel\n",
      "    output_func(itertools.chain.from_iterable(iter_outputs))\n",
      "  File \"/mnt/c/Users/runzh/OneDrive/Documents/2023/ms-pred/src/ms_pred/dag_pred/predict_smis.py\", line 245, in write_h5_func\n",
      "Traceback (most recent call last):\n",
      "  File \"/home/roger/miniforge3/envs/ms-main/lib/python3.9/site-packages/multiprocess/process.py\", line 315, in _bootstrap\n",
      "    self.run()\n",
      "  File \"/home/roger/miniforge3/envs/ms-main/lib/python3.9/site-packages/multiprocess/process.py\", line 108, in run\n",
      "    self._target(*self._args, **self._kwargs)\n",
      "  File \"/home/roger/miniforge3/envs/ms-main/lib/python3.9/site-packages/multiprocess/pool.py\", line 125, in worker\n",
      "    result = (True, func(*args, **kwds))\n",
      "  File \"/home/roger/miniforge3/envs/ms-main/lib/python3.9/site-packages/pathos/helpers/mp_helper.py\", line 15, in <lambda>\n",
      "    func = lambda args: f(*args)\n",
      "  File \"/mnt/c/Users/runzh/OneDrive/Documents/2023/ms-pred/src/ms_pred/common/parallel_utils.py\", line 76, in batch_func\n",
      "    outputs.append(function(i))\n",
      "  File \"/mnt/c/Users/runzh/OneDrive/Documents/2023/ms-pred/src/ms_pred/dag_pred/predict_smis.py\", line 200, in producer_func\n",
      "    full_outputs = model.predict_mol(\n",
      "  File \"/mnt/c/Users/runzh/OneDrive/Documents/2023/ms-pred/src/ms_pred/dag_pred/joint_model.py\", line 116, in predict_mol\n",
      "    processed_tree = self.inten_tp.process_tree_inten_pred(tree)\n",
      "  File \"/mnt/c/Users/runzh/OneDrive/Documents/2023/ms-pred/src/ms_pred/dag_pred/dag_data.py\", line 335, in process_tree_inten_pred\n",
      "    proc_out = self._process_tree(\n",
      "  File \"/mnt/c/Users/runzh/OneDrive/Documents/2023/ms-pred/src/ms_pred/dag_pred/dag_data.py\", line 265, in _process_tree\n",
      "    out_dict = self._convert_to_dgl(tree, include_targets, last_row)\n",
      "  File \"/mnt/c/Users/runzh/OneDrive/Documents/2023/ms-pred/src/ms_pred/dag_pred/dag_data.py\", line 190, in _convert_to_dgl\n",
      "    frag_dict = self.featurize_frag(\n",
      "  File \"/mnt/c/Users/runzh/OneDrive/Documents/2023/ms-pred/src/ms_pred/dag_pred/dag_data.py\", line 113, in featurize_frag\n",
      "    graph = self.dgl_featurize(\n",
      "  File \"/mnt/c/Users/runzh/OneDrive/Documents/2023/ms-pred/src/ms_pred/dag_pred/dag_data.py\", line 371, in dgl_featurize\n",
      "    node_types = [common.element_to_position[el] for el in atom_symbols]\n",
      "  File \"/mnt/c/Users/runzh/OneDrive/Documents/2023/ms-pred/src/ms_pred/dag_pred/dag_data.py\", line 371, in <listcomp>\n",
      "    node_types = [common.element_to_position[el] for el in atom_symbols]\n",
      "KeyboardInterrupt\n",
      "Traceback (most recent call last):\n",
      "  File \"/home/roger/miniforge3/envs/ms-main/lib/python3.9/site-packages/multiprocess/process.py\", line 315, in _bootstrap\n",
      "    self.run()\n",
      "  File \"/home/roger/miniforge3/envs/ms-main/lib/python3.9/site-packages/multiprocess/process.py\", line 108, in run\n",
      "    self._target(*self._args, **self._kwargs)\n",
      "  File \"/home/roger/miniforge3/envs/ms-main/lib/python3.9/site-packages/multiprocess/pool.py\", line 125, in worker\n",
      "    result = (True, func(*args, **kwds))\n",
      "  File \"/home/roger/miniforge3/envs/ms-main/lib/python3.9/site-packages/pathos/helpers/mp_helper.py\", line 15, in <lambda>\n",
      "    func = lambda args: f(*args)\n",
      "  File \"/mnt/c/Users/runzh/OneDrive/Documents/2023/ms-pred/src/ms_pred/common/parallel_utils.py\", line 76, in batch_func\n",
      "    outputs.append(function(i))\n",
      "  File \"/mnt/c/Users/runzh/OneDrive/Documents/2023/ms-pred/src/ms_pred/dag_pred/predict_smis.py\", line 200, in producer_func\n",
      "    full_outputs = model.predict_mol(\n",
      "  File \"/mnt/c/Users/runzh/OneDrive/Documents/2023/ms-pred/src/ms_pred/dag_pred/joint_model.py\", line 102, in predict_mol\n",
      "    frag_tree = self.gen_model_obj.predict_mol(\n",
      "  File \"/mnt/c/Users/runzh/OneDrive/Documents/2023/ms-pred/src/ms_pred/dag_pred/gen_model.py\", line 624, in predict_mol\n",
      "    zip(pred_vals_f, parent_prob * pred_vals_f)\n",
      "  File \"/home/roger/miniforge3/envs/ms-main/lib/python3.9/site-packages/torch/_tensor.py\", line 1000, in __iter__\n",
      "    return iter(self.unbind(0))\n",
      "KeyboardInterrupt\n",
      "    for out_batch in out_entries:\n",
      "  File \"/home/roger/miniforge3/envs/ms-main/lib/python3.9/site-packages/tqdm/std.py\", line 1181, in __iter__\n",
      "Traceback (most recent call last):\n",
      "  File \"/home/roger/miniforge3/envs/ms-main/lib/python3.9/site-packages/multiprocess/process.py\", line 315, in _bootstrap\n",
      "    self.run()\n",
      "  File \"/home/roger/miniforge3/envs/ms-main/lib/python3.9/site-packages/multiprocess/process.py\", line 108, in run\n",
      "    self._target(*self._args, **self._kwargs)\n",
      "  File \"/home/roger/miniforge3/envs/ms-main/lib/python3.9/site-packages/multiprocess/pool.py\", line 125, in worker\n",
      "    result = (True, func(*args, **kwds))\n",
      "  File \"/home/roger/miniforge3/envs/ms-main/lib/python3.9/site-packages/pathos/helpers/mp_helper.py\", line 15, in <lambda>\n",
      "    func = lambda args: f(*args)\n",
      "  File \"/mnt/c/Users/runzh/OneDrive/Documents/2023/ms-pred/src/ms_pred/common/parallel_utils.py\", line 76, in batch_func\n",
      "    outputs.append(function(i))\n",
      "  File \"/mnt/c/Users/runzh/OneDrive/Documents/2023/ms-pred/src/ms_pred/dag_pred/predict_smis.py\", line 200, in producer_func\n",
      "    full_outputs = model.predict_mol(\n",
      "  File \"/mnt/c/Users/runzh/OneDrive/Documents/2023/ms-pred/src/ms_pred/dag_pred/joint_model.py\", line 102, in predict_mol\n",
      "    frag_tree = self.gen_model_obj.predict_mol(\n",
      "  File \"/mnt/c/Users/runzh/OneDrive/Documents/2023/ms-pred/src/ms_pred/dag_pred/gen_model.py\", line 624, in predict_mol\n",
      "    zip(pred_vals_f, parent_prob * pred_vals_f)\n",
      "  File \"/home/roger/miniforge3/envs/ms-main/lib/python3.9/site-packages/torch/_tensor.py\", line 1000, in __iter__\n",
      "    return iter(self.unbind(0))\n",
      "KeyboardInterrupt\n",
      "    for obj in iterable:\n",
      "  File \"/home/roger/miniforge3/envs/ms-main/lib/python3.9/site-packages/multiprocess/pool.py\", line 858, in next\n",
      "    self._cond.wait(timeout)\n",
      "  File \"/home/roger/miniforge3/envs/ms-main/lib/python3.9/threading.py\", line 312, in wait\n",
      "    waiter.acquire()\n",
      "KeyboardInterrupt\n",
      "Traceback (most recent call last):\n",
      "  File \"/home/roger/miniforge3/envs/ms-main/lib/python3.9/site-packages/multiprocess/process.py\", line 315, in _bootstrap\n",
      "    self.run()\n",
      "  File \"/home/roger/miniforge3/envs/ms-main/lib/python3.9/site-packages/multiprocess/process.py\", line 108, in run\n",
      "    self._target(*self._args, **self._kwargs)\n",
      "  File \"/home/roger/miniforge3/envs/ms-main/lib/python3.9/site-packages/multiprocess/pool.py\", line 125, in worker\n",
      "    result = (True, func(*args, **kwds))\n",
      "  File \"/home/roger/miniforge3/envs/ms-main/lib/python3.9/site-packages/pathos/helpers/mp_helper.py\", line 15, in <lambda>\n",
      "    func = lambda args: f(*args)\n",
      "  File \"/mnt/c/Users/runzh/OneDrive/Documents/2023/ms-pred/src/ms_pred/common/parallel_utils.py\", line 76, in batch_func\n",
      "    outputs.append(function(i))\n",
      "  File \"/mnt/c/Users/runzh/OneDrive/Documents/2023/ms-pred/src/ms_pred/dag_pred/predict_smis.py\", line 200, in producer_func\n",
      "    full_outputs = model.predict_mol(\n",
      "  File \"/mnt/c/Users/runzh/OneDrive/Documents/2023/ms-pred/src/ms_pred/dag_pred/joint_model.py\", line 102, in predict_mol\n",
      "    frag_tree = self.gen_model_obj.predict_mol(\n",
      "  File \"/mnt/c/Users/runzh/OneDrive/Documents/2023/ms-pred/src/ms_pred/dag_pred/gen_model.py\", line 656, in predict_mol\n",
      "    new_vals = [decoder_wrapper(b) for b in batch_to_process]\n",
      "  File \"/mnt/c/Users/runzh/OneDrive/Documents/2023/ms-pred/src/ms_pred/dag_pred/gen_model.py\", line 656, in <listcomp>\n",
      "    new_vals = [decoder_wrapper(b) for b in batch_to_process]\n",
      "  File \"/mnt/c/Users/runzh/OneDrive/Documents/2023/ms-pred/src/ms_pred/dag_pred/gen_model.py\", line 731, in decoder_wrapper\n",
      "    return auto_regressive_decode(**param_dic)\n",
      "  File \"/mnt/c/Users/runzh/OneDrive/Documents/2023/ms-pred/src/ms_pred/dag_pred/gen_model.py\", line 757, in auto_regressive_decode\n",
      "    out_dicts = engine.remove_atom(frag_int, int(atom))\n",
      "  File \"/mnt/c/Users/runzh/OneDrive/Documents/2023/ms-pred/src/ms_pred/magma/fragmentation.py\", line 560, in remove_atom\n",
      "    new_frag_hash = self.wl_hash(new_fragment)\n",
      "  File \"/mnt/c/Users/runzh/OneDrive/Documents/2023/ms-pred/src/ms_pred/magma/fragmentation.py\", line 313, in wl_hash\n",
      "    new_graph_hash = get_graph_hash(new_hashes)\n",
      "  File \"/mnt/c/Users/runzh/OneDrive/Documents/2023/ms-pred/src/ms_pred/magma/fragmentation.py\", line 268, in get_graph_hash\n",
      "    counter_str = str(tuple(sorted(counter.items(), key=lambda x: x[0])))\n",
      "  File \"/mnt/c/Users/runzh/OneDrive/Documents/2023/ms-pred/src/ms_pred/magma/fragmentation.py\", line 268, in <lambda>\n",
      "    counter_str = str(tuple(sorted(counter.items(), key=lambda x: x[0])))\n",
      "KeyboardInterrupt\n",
      "Traceback (most recent call last):\n",
      "  File \"/home/roger/miniforge3/envs/ms-main/lib/python3.9/site-packages/multiprocess/process.py\", line 315, in _bootstrap\n",
      "    self.run()\n",
      "  File \"/home/roger/miniforge3/envs/ms-main/lib/python3.9/site-packages/multiprocess/process.py\", line 108, in run\n",
      "    self._target(*self._args, **self._kwargs)\n",
      "  File \"/home/roger/miniforge3/envs/ms-main/lib/python3.9/site-packages/multiprocess/pool.py\", line 125, in worker\n",
      "    result = (True, func(*args, **kwds))\n",
      "  File \"/home/roger/miniforge3/envs/ms-main/lib/python3.9/site-packages/pathos/helpers/mp_helper.py\", line 15, in <lambda>\n",
      "    func = lambda args: f(*args)\n",
      "  File \"/mnt/c/Users/runzh/OneDrive/Documents/2023/ms-pred/src/ms_pred/common/parallel_utils.py\", line 76, in batch_func\n",
      "    outputs.append(function(i))\n",
      "  File \"/mnt/c/Users/runzh/OneDrive/Documents/2023/ms-pred/src/ms_pred/dag_pred/predict_smis.py\", line 200, in producer_func\n",
      "    full_outputs = model.predict_mol(\n",
      "  File \"/mnt/c/Users/runzh/OneDrive/Documents/2023/ms-pred/src/ms_pred/dag_pred/joint_model.py\", line 116, in predict_mol\n",
      "    processed_tree = self.inten_tp.process_tree_inten_pred(tree)\n",
      "  File \"/mnt/c/Users/runzh/OneDrive/Documents/2023/ms-pred/src/ms_pred/dag_pred/dag_data.py\", line 335, in process_tree_inten_pred\n",
      "    proc_out = self._process_tree(\n",
      "  File \"/mnt/c/Users/runzh/OneDrive/Documents/2023/ms-pred/src/ms_pred/dag_pred/dag_data.py\", line 265, in _process_tree\n",
      "    out_dict = self._convert_to_dgl(tree, include_targets, last_row)\n",
      "  File \"/mnt/c/Users/runzh/OneDrive/Documents/2023/ms-pred/src/ms_pred/dag_pred/dag_data.py\", line 190, in _convert_to_dgl\n",
      "    frag_dict = self.featurize_frag(\n",
      "  File \"/mnt/c/Users/runzh/OneDrive/Documents/2023/ms-pred/src/ms_pred/dag_pred/dag_data.py\", line 99, in featurize_frag\n",
      "    info = self.get_frag_info(frag, engine)\n",
      "  File \"/mnt/c/Users/runzh/OneDrive/Documents/2023/ms-pred/src/ms_pred/dag_pred/dag_data.py\", line 63, in get_frag_info\n",
      "    form = engine.formula_from_kept_inds(kept_atom_inds)\n",
      "  File \"/mnt/c/Users/runzh/OneDrive/Documents/2023/ms-pred/src/ms_pred/magma/fragmentation.py\", line 199, in formula_from_kept_inds\n",
      "    atom_cts = Counter(self.atom_symbols_ar[kept_inds])\n",
      "  File \"/home/roger/miniforge3/envs/ms-main/lib/python3.9/collections/__init__.py\", line 593, in __init__\n",
      "    self.update(iterable, **kwds)\n",
      "KeyboardInterrupt\n",
      "Traceback (most recent call last):\n",
      "  File \"/home/roger/miniforge3/envs/ms-main/lib/python3.9/site-packages/multiprocess/process.py\", line 315, in _bootstrap\n",
      "    self.run()\n",
      "  File \"/home/roger/miniforge3/envs/ms-main/lib/python3.9/site-packages/multiprocess/process.py\", line 108, in run\n",
      "    self._target(*self._args, **self._kwargs)\n",
      "  File \"/home/roger/miniforge3/envs/ms-main/lib/python3.9/site-packages/multiprocess/pool.py\", line 125, in worker\n",
      "    result = (True, func(*args, **kwds))\n",
      "  File \"/home/roger/miniforge3/envs/ms-main/lib/python3.9/site-packages/pathos/helpers/mp_helper.py\", line 15, in <lambda>\n",
      "    func = lambda args: f(*args)\n",
      "  File \"/mnt/c/Users/runzh/OneDrive/Documents/2023/ms-pred/src/ms_pred/common/parallel_utils.py\", line 76, in batch_func\n",
      "    outputs.append(function(i))\n",
      "  File \"/mnt/c/Users/runzh/OneDrive/Documents/2023/ms-pred/src/ms_pred/dag_pred/predict_smis.py\", line 200, in producer_func\n",
      "    full_outputs = model.predict_mol(\n",
      "  File \"/mnt/c/Users/runzh/OneDrive/Documents/2023/ms-pred/src/ms_pred/dag_pred/joint_model.py\", line 102, in predict_mol\n",
      "    frag_tree = self.gen_model_obj.predict_mol(\n",
      "  File \"/mnt/c/Users/runzh/OneDrive/Documents/2023/ms-pred/src/ms_pred/dag_pred/gen_model.py\", line 581, in predict_mol\n",
      "    pred_leaving = self.forward(\n",
      "  File \"/mnt/c/Users/runzh/OneDrive/Documents/2023/ms-pred/src/ms_pred/dag_pred/gen_model.py\", line 280, in forward\n",
      "    root_embeddings = self.root_module(root_repr)\n",
      "  File \"/home/roger/miniforge3/envs/ms-main/lib/python3.9/site-packages/torch/nn/modules/module.py\", line 1518, in _wrapped_call_impl\n",
      "    return self._call_impl(*args, **kwargs)\n",
      "  File \"/home/roger/miniforge3/envs/ms-main/lib/python3.9/site-packages/torch/nn/modules/module.py\", line 1527, in _call_impl\n",
      "    return forward_call(*args, **kwargs)\n",
      "  File \"/mnt/c/Users/runzh/OneDrive/Documents/2023/ms-pred/src/ms_pred/nn_utils/nn_utils.py\", line 137, in forward\n",
      "    output = self.gnn(g, \"_h\", \"_e\")\n",
      "  File \"/home/roger/miniforge3/envs/ms-main/lib/python3.9/site-packages/torch/nn/modules/module.py\", line 1518, in _wrapped_call_impl\n",
      "    return self._call_impl(*args, **kwargs)\n",
      "  File \"/home/roger/miniforge3/envs/ms-main/lib/python3.9/site-packages/torch/nn/modules/module.py\", line 1527, in _call_impl\n",
      "    return forward_call(*args, **kwargs)\n",
      "  File \"/mnt/c/Users/runzh/OneDrive/Documents/2023/ms-pred/src/ms_pred/nn_utils/nn_utils.py\", line 252, in forward\n",
      "    return self.model(graph, graph.ndata[nfeat_name], etypes=etypes)\n",
      "  File \"/home/roger/miniforge3/envs/ms-main/lib/python3.9/site-packages/torch/nn/modules/module.py\", line 1518, in _wrapped_call_impl\n",
      "    return self._call_impl(*args, **kwargs)\n",
      "  File \"/home/roger/miniforge3/envs/ms-main/lib/python3.9/site-packages/torch/nn/modules/module.py\", line 1527, in _call_impl\n",
      "    return forward_call(*args, **kwargs)\n",
      "  File \"/mnt/c/Users/runzh/OneDrive/Documents/2023/ms-pred/src/ms_pred/nn_utils/dgl_modules.py\", line 174, in forward\n",
      "    graph.update_all(fn.copy_e(\"W_e*h\", \"m\"), fn.sum(\"m\", \"a\"))\n",
      "  File \"/home/roger/miniforge3/envs/ms-main/lib/python3.9/site-packages/dgl/heterograph.py\", line 5123, in update_all\n",
      "    self._set_n_repr(dtid, ALL, ndata)\n",
      "  File \"/home/roger/miniforge3/envs/ms-main/lib/python3.9/site-packages/dgl/heterograph.py\", line 4371, in _set_n_repr\n",
      "    self._node_frames[ntid].update(data)\n",
      "  File \"/home/roger/miniforge3/envs/ms-main/lib/python3.9/_collections_abc.py\", line 941, in update\n",
      "    self[key] = other[key]\n",
      "  File \"/home/roger/miniforge3/envs/ms-main/lib/python3.9/site-packages/dgl/frame.py\", line 700, in __setitem__\n",
      "    self.update_column(name, data)\n",
      "  File \"/home/roger/miniforge3/envs/ms-main/lib/python3.9/site-packages/dgl/frame.py\", line 772, in update_column\n",
      "    def update_column(self, name, data):\n",
      "KeyboardInterrupt\n"
     ]
    },
    {
     "ename": "KeyboardInterrupt",
     "evalue": "",
     "output_type": "error",
     "traceback": [
      "\u001b[0;31m---------------------------------------------------------------------------\u001b[0m",
      "\u001b[0;31mKeyboardInterrupt\u001b[0m                         Traceback (most recent call last)",
      "\u001b[0;32m/tmp/ipykernel_4293/444065892.py\u001b[0m in \u001b[0;36m<cell line: 9>\u001b[0;34m()\u001b[0m\n\u001b[1;32m      8\u001b[0m \u001b[0minterested_dicts\u001b[0m \u001b[0;34m=\u001b[0m \u001b[0;34m[\u001b[0m\u001b[0;34m]\u001b[0m\u001b[0;34m\u001b[0m\u001b[0;34m\u001b[0m\u001b[0m\n\u001b[1;32m      9\u001b[0m \u001b[0;32mfor\u001b[0m \u001b[0mfeat_id\u001b[0m\u001b[0;34m,\u001b[0m \u001b[0minfo\u001b[0m \u001b[0;32min\u001b[0m \u001b[0mfeat_id_to_dict\u001b[0m\u001b[0;34m.\u001b[0m\u001b[0mitems\u001b[0m\u001b[0;34m(\u001b[0m\u001b[0;34m)\u001b[0m\u001b[0;34m:\u001b[0m\u001b[0;34m\u001b[0m\u001b[0;34m\u001b[0m\u001b[0m\n\u001b[0;32m---> 10\u001b[0;31m     \u001b[0mimg\u001b[0m\u001b[0;34m,\u001b[0m \u001b[0mbest_dist\u001b[0m \u001b[0;34m=\u001b[0m \u001b[0mpesticide_elucidation\u001b[0m\u001b[0;34m(\u001b[0m\u001b[0minfo\u001b[0m\u001b[0;34m,\u001b[0m \u001b[0;32mFalse\u001b[0m\u001b[0;34m)\u001b[0m\u001b[0;34m\u001b[0m\u001b[0;34m\u001b[0m\u001b[0m\n\u001b[0m\u001b[1;32m     11\u001b[0m     \u001b[0;32mif\u001b[0m \u001b[0mbest_dist\u001b[0m \u001b[0;34m<\u001b[0m \u001b[0;36m0.6\u001b[0m\u001b[0;34m:\u001b[0m\u001b[0;34m\u001b[0m\u001b[0;34m\u001b[0m\u001b[0m\n\u001b[1;32m     12\u001b[0m         \u001b[0minterested_dicts\u001b[0m\u001b[0;34m.\u001b[0m\u001b[0mappend\u001b[0m\u001b[0;34m(\u001b[0m\u001b[0;34m(\u001b[0m\u001b[0mbest_dist\u001b[0m\u001b[0;34m,\u001b[0m \u001b[0mfeat_id\u001b[0m\u001b[0;34m,\u001b[0m \u001b[0minfo\u001b[0m\u001b[0;34m)\u001b[0m\u001b[0;34m)\u001b[0m\u001b[0;34m\u001b[0m\u001b[0;34m\u001b[0m\u001b[0m\n",
      "\u001b[0;32m/tmp/ipykernel_4293/2996135349.py\u001b[0m in \u001b[0;36mpesticide_elucidation\u001b[0;34m(info_dict, vis_peaks, energy)\u001b[0m\n\u001b[1;32m      9\u001b[0m \u001b[0;34m\u001b[0m\u001b[0m\n\u001b[1;32m     10\u001b[0m         \u001b[0;31m# Run ICEBERG to predict spectra\u001b[0m\u001b[0;34m\u001b[0m\u001b[0;34m\u001b[0m\u001b[0m\n\u001b[0;32m---> 11\u001b[0;31m         \u001b[0mresult_path\u001b[0m\u001b[0;34m,\u001b[0m \u001b[0mpmz\u001b[0m \u001b[0;34m=\u001b[0m \u001b[0miceberg_prediction\u001b[0m\u001b[0;34m(\u001b[0m\u001b[0msmiles\u001b[0m\u001b[0;34m,\u001b[0m \u001b[0menergy\u001b[0m\u001b[0;34m,\u001b[0m \u001b[0;34m**\u001b[0m\u001b[0mpesticide_config\u001b[0m\u001b[0;34m)\u001b[0m\u001b[0;34m\u001b[0m\u001b[0;34m\u001b[0m\u001b[0m\n\u001b[0m\u001b[1;32m     12\u001b[0m \u001b[0;34m\u001b[0m\u001b[0m\n\u001b[1;32m     13\u001b[0m         \u001b[0;31m# Compare spectrum similarity for elucidation\u001b[0m\u001b[0;34m\u001b[0m\u001b[0;34m\u001b[0m\u001b[0m\n",
      "\u001b[0;32m/mnt/c/Users/runzh/OneDrive/Documents/2023/ms-pred/src/ms_pred/dag_pred/iceberg_elucidation.py\u001b[0m in \u001b[0;36miceberg_prediction\u001b[0;34m(candidate_smiles, collision_energies, nce, adduct, exp_name, python_path, gen_ckpt, inten_ckpt, cuda_devices, batch_size, num_workers, sparse_k, max_nodes, threshold, binned_out, ppm, **kwargs)\u001b[0m\n\u001b[1;32m    228\u001b[0m             \u001b[0mcmd\u001b[0m \u001b[0;34m+=\u001b[0m \u001b[0;34m' \\\\           --binned_out'\u001b[0m\u001b[0;34m\u001b[0m\u001b[0;34m\u001b[0m\u001b[0m\n\u001b[1;32m    229\u001b[0m         \u001b[0mprint\u001b[0m\u001b[0;34m(\u001b[0m\u001b[0mcmd\u001b[0m\u001b[0;34m)\u001b[0m\u001b[0;34m\u001b[0m\u001b[0;34m\u001b[0m\u001b[0m\n\u001b[0;32m--> 230\u001b[0;31m         \u001b[0mrun_result\u001b[0m \u001b[0;34m=\u001b[0m \u001b[0msubprocess\u001b[0m\u001b[0;34m.\u001b[0m\u001b[0mrun\u001b[0m\u001b[0;34m(\u001b[0m\u001b[0mcmd\u001b[0m\u001b[0;34m,\u001b[0m \u001b[0mshell\u001b[0m\u001b[0;34m=\u001b[0m\u001b[0;32mTrue\u001b[0m\u001b[0;34m)\u001b[0m\u001b[0;34m\u001b[0m\u001b[0;34m\u001b[0m\u001b[0m\n\u001b[0m\u001b[1;32m    231\u001b[0m         \u001b[0;32mif\u001b[0m \u001b[0mrun_result\u001b[0m\u001b[0;34m.\u001b[0m\u001b[0mreturncode\u001b[0m \u001b[0;34m==\u001b[0m \u001b[0;36m0\u001b[0m\u001b[0;34m:\u001b[0m  \u001b[0;31m# successful\u001b[0m\u001b[0;34m\u001b[0m\u001b[0;34m\u001b[0m\u001b[0m\n\u001b[1;32m    232\u001b[0m             \u001b[0;34m(\u001b[0m\u001b[0msave_dir\u001b[0m \u001b[0;34m/\u001b[0m \u001b[0;34m'iceberg_run_successful'\u001b[0m\u001b[0;34m)\u001b[0m\u001b[0;34m.\u001b[0m\u001b[0mtouch\u001b[0m\u001b[0;34m(\u001b[0m\u001b[0;34m)\u001b[0m\u001b[0;34m\u001b[0m\u001b[0;34m\u001b[0m\u001b[0m\n",
      "\u001b[0;32m~/miniforge3/envs/ms-main/lib/python3.9/subprocess.py\u001b[0m in \u001b[0;36mrun\u001b[0;34m(input, capture_output, timeout, check, *popenargs, **kwargs)\u001b[0m\n\u001b[1;32m    505\u001b[0m     \u001b[0;32mwith\u001b[0m \u001b[0mPopen\u001b[0m\u001b[0;34m(\u001b[0m\u001b[0;34m*\u001b[0m\u001b[0mpopenargs\u001b[0m\u001b[0;34m,\u001b[0m \u001b[0;34m**\u001b[0m\u001b[0mkwargs\u001b[0m\u001b[0;34m)\u001b[0m \u001b[0;32mas\u001b[0m \u001b[0mprocess\u001b[0m\u001b[0;34m:\u001b[0m\u001b[0;34m\u001b[0m\u001b[0;34m\u001b[0m\u001b[0m\n\u001b[1;32m    506\u001b[0m         \u001b[0;32mtry\u001b[0m\u001b[0;34m:\u001b[0m\u001b[0;34m\u001b[0m\u001b[0;34m\u001b[0m\u001b[0m\n\u001b[0;32m--> 507\u001b[0;31m             \u001b[0mstdout\u001b[0m\u001b[0;34m,\u001b[0m \u001b[0mstderr\u001b[0m \u001b[0;34m=\u001b[0m \u001b[0mprocess\u001b[0m\u001b[0;34m.\u001b[0m\u001b[0mcommunicate\u001b[0m\u001b[0;34m(\u001b[0m\u001b[0minput\u001b[0m\u001b[0;34m,\u001b[0m \u001b[0mtimeout\u001b[0m\u001b[0;34m=\u001b[0m\u001b[0mtimeout\u001b[0m\u001b[0;34m)\u001b[0m\u001b[0;34m\u001b[0m\u001b[0;34m\u001b[0m\u001b[0m\n\u001b[0m\u001b[1;32m    508\u001b[0m         \u001b[0;32mexcept\u001b[0m \u001b[0mTimeoutExpired\u001b[0m \u001b[0;32mas\u001b[0m \u001b[0mexc\u001b[0m\u001b[0;34m:\u001b[0m\u001b[0;34m\u001b[0m\u001b[0;34m\u001b[0m\u001b[0m\n\u001b[1;32m    509\u001b[0m             \u001b[0mprocess\u001b[0m\u001b[0;34m.\u001b[0m\u001b[0mkill\u001b[0m\u001b[0;34m(\u001b[0m\u001b[0;34m)\u001b[0m\u001b[0;34m\u001b[0m\u001b[0;34m\u001b[0m\u001b[0m\n",
      "\u001b[0;32m~/miniforge3/envs/ms-main/lib/python3.9/subprocess.py\u001b[0m in \u001b[0;36mcommunicate\u001b[0;34m(self, input, timeout)\u001b[0m\n\u001b[1;32m   1124\u001b[0m                 \u001b[0mstderr\u001b[0m \u001b[0;34m=\u001b[0m \u001b[0mself\u001b[0m\u001b[0;34m.\u001b[0m\u001b[0mstderr\u001b[0m\u001b[0;34m.\u001b[0m\u001b[0mread\u001b[0m\u001b[0;34m(\u001b[0m\u001b[0;34m)\u001b[0m\u001b[0;34m\u001b[0m\u001b[0;34m\u001b[0m\u001b[0m\n\u001b[1;32m   1125\u001b[0m                 \u001b[0mself\u001b[0m\u001b[0;34m.\u001b[0m\u001b[0mstderr\u001b[0m\u001b[0;34m.\u001b[0m\u001b[0mclose\u001b[0m\u001b[0;34m(\u001b[0m\u001b[0;34m)\u001b[0m\u001b[0;34m\u001b[0m\u001b[0;34m\u001b[0m\u001b[0m\n\u001b[0;32m-> 1126\u001b[0;31m             \u001b[0mself\u001b[0m\u001b[0;34m.\u001b[0m\u001b[0mwait\u001b[0m\u001b[0;34m(\u001b[0m\u001b[0;34m)\u001b[0m\u001b[0;34m\u001b[0m\u001b[0;34m\u001b[0m\u001b[0m\n\u001b[0m\u001b[1;32m   1127\u001b[0m         \u001b[0;32melse\u001b[0m\u001b[0;34m:\u001b[0m\u001b[0;34m\u001b[0m\u001b[0;34m\u001b[0m\u001b[0m\n\u001b[1;32m   1128\u001b[0m             \u001b[0;32mif\u001b[0m \u001b[0mtimeout\u001b[0m \u001b[0;32mis\u001b[0m \u001b[0;32mnot\u001b[0m \u001b[0;32mNone\u001b[0m\u001b[0;34m:\u001b[0m\u001b[0;34m\u001b[0m\u001b[0;34m\u001b[0m\u001b[0m\n",
      "\u001b[0;32m~/miniforge3/envs/ms-main/lib/python3.9/subprocess.py\u001b[0m in \u001b[0;36mwait\u001b[0;34m(self, timeout)\u001b[0m\n\u001b[1;32m   1187\u001b[0m             \u001b[0mendtime\u001b[0m \u001b[0;34m=\u001b[0m \u001b[0m_time\u001b[0m\u001b[0;34m(\u001b[0m\u001b[0;34m)\u001b[0m \u001b[0;34m+\u001b[0m \u001b[0mtimeout\u001b[0m\u001b[0;34m\u001b[0m\u001b[0;34m\u001b[0m\u001b[0m\n\u001b[1;32m   1188\u001b[0m         \u001b[0;32mtry\u001b[0m\u001b[0;34m:\u001b[0m\u001b[0;34m\u001b[0m\u001b[0;34m\u001b[0m\u001b[0m\n\u001b[0;32m-> 1189\u001b[0;31m             \u001b[0;32mreturn\u001b[0m \u001b[0mself\u001b[0m\u001b[0;34m.\u001b[0m\u001b[0m_wait\u001b[0m\u001b[0;34m(\u001b[0m\u001b[0mtimeout\u001b[0m\u001b[0;34m=\u001b[0m\u001b[0mtimeout\u001b[0m\u001b[0;34m)\u001b[0m\u001b[0;34m\u001b[0m\u001b[0;34m\u001b[0m\u001b[0m\n\u001b[0m\u001b[1;32m   1190\u001b[0m         \u001b[0;32mexcept\u001b[0m \u001b[0mKeyboardInterrupt\u001b[0m\u001b[0;34m:\u001b[0m\u001b[0;34m\u001b[0m\u001b[0;34m\u001b[0m\u001b[0m\n\u001b[1;32m   1191\u001b[0m             \u001b[0;31m# https://bugs.python.org/issue25942\u001b[0m\u001b[0;34m\u001b[0m\u001b[0;34m\u001b[0m\u001b[0m\n",
      "\u001b[0;32m~/miniforge3/envs/ms-main/lib/python3.9/subprocess.py\u001b[0m in \u001b[0;36m_wait\u001b[0;34m(self, timeout)\u001b[0m\n\u001b[1;32m   1931\u001b[0m                         \u001b[0;32mif\u001b[0m \u001b[0mself\u001b[0m\u001b[0;34m.\u001b[0m\u001b[0mreturncode\u001b[0m \u001b[0;32mis\u001b[0m \u001b[0;32mnot\u001b[0m \u001b[0;32mNone\u001b[0m\u001b[0;34m:\u001b[0m\u001b[0;34m\u001b[0m\u001b[0;34m\u001b[0m\u001b[0m\n\u001b[1;32m   1932\u001b[0m                             \u001b[0;32mbreak\u001b[0m  \u001b[0;31m# Another thread waited.\u001b[0m\u001b[0;34m\u001b[0m\u001b[0;34m\u001b[0m\u001b[0m\n\u001b[0;32m-> 1933\u001b[0;31m                         \u001b[0;34m(\u001b[0m\u001b[0mpid\u001b[0m\u001b[0;34m,\u001b[0m \u001b[0msts\u001b[0m\u001b[0;34m)\u001b[0m \u001b[0;34m=\u001b[0m \u001b[0mself\u001b[0m\u001b[0;34m.\u001b[0m\u001b[0m_try_wait\u001b[0m\u001b[0;34m(\u001b[0m\u001b[0;36m0\u001b[0m\u001b[0;34m)\u001b[0m\u001b[0;34m\u001b[0m\u001b[0;34m\u001b[0m\u001b[0m\n\u001b[0m\u001b[1;32m   1934\u001b[0m                         \u001b[0;31m# Check the pid and loop as waitpid has been known to\u001b[0m\u001b[0;34m\u001b[0m\u001b[0;34m\u001b[0m\u001b[0m\n\u001b[1;32m   1935\u001b[0m                         \u001b[0;31m# return 0 even without WNOHANG in odd situations.\u001b[0m\u001b[0;34m\u001b[0m\u001b[0;34m\u001b[0m\u001b[0m\n",
      "\u001b[0;32m~/miniforge3/envs/ms-main/lib/python3.9/subprocess.py\u001b[0m in \u001b[0;36m_try_wait\u001b[0;34m(self, wait_flags)\u001b[0m\n\u001b[1;32m   1889\u001b[0m             \u001b[0;34m\"\"\"All callers to this function MUST hold self._waitpid_lock.\"\"\"\u001b[0m\u001b[0;34m\u001b[0m\u001b[0;34m\u001b[0m\u001b[0m\n\u001b[1;32m   1890\u001b[0m             \u001b[0;32mtry\u001b[0m\u001b[0;34m:\u001b[0m\u001b[0;34m\u001b[0m\u001b[0;34m\u001b[0m\u001b[0m\n\u001b[0;32m-> 1891\u001b[0;31m                 \u001b[0;34m(\u001b[0m\u001b[0mpid\u001b[0m\u001b[0;34m,\u001b[0m \u001b[0msts\u001b[0m\u001b[0;34m)\u001b[0m \u001b[0;34m=\u001b[0m \u001b[0mos\u001b[0m\u001b[0;34m.\u001b[0m\u001b[0mwaitpid\u001b[0m\u001b[0;34m(\u001b[0m\u001b[0mself\u001b[0m\u001b[0;34m.\u001b[0m\u001b[0mpid\u001b[0m\u001b[0;34m,\u001b[0m \u001b[0mwait_flags\u001b[0m\u001b[0;34m)\u001b[0m\u001b[0;34m\u001b[0m\u001b[0;34m\u001b[0m\u001b[0m\n\u001b[0m\u001b[1;32m   1892\u001b[0m             \u001b[0;32mexcept\u001b[0m \u001b[0mChildProcessError\u001b[0m\u001b[0;34m:\u001b[0m\u001b[0;34m\u001b[0m\u001b[0;34m\u001b[0m\u001b[0m\n\u001b[1;32m   1893\u001b[0m                 \u001b[0;31m# This happens if SIGCLD is set to be ignored or waiting\u001b[0m\u001b[0;34m\u001b[0m\u001b[0;34m\u001b[0m\u001b[0m\n",
      "\u001b[0;31mKeyboardInterrupt\u001b[0m: "
     ]
    }
   ],
   "source": [
    "energy = [30, 40, 60]\n",
    "pesticide_config = copy.deepcopy(config)\n",
    "pesticide_config['nce'] = True # use nce for collision energy\n",
    "pesticide_config['step_collision_energy'] = True # step collision energy i.e. multiple spectrum are obtained then merged\n",
    "pesticide_config['real_spec_type'] = 'raw'\n",
    "\n",
    "# only plot features with entropy distance < 0.6\n",
    "interested_dicts = []\n",
    "for feat_id, info in feat_id_to_dict.items():\n",
    "    img, best_dist = pesticide_elucidation(info, False)\n",
    "    if best_dist < 0.6:\n",
    "        interested_dicts.append((best_dist, feat_id, info))\n",
    "interested_dicts = sorted(interested_dicts)\n",
    "\n",
    "feat_ids, exp_specs, adduct_to_smiles = [], [], []\n",
    "for best_dist, feat_id, info in interested_dicts:\n",
    "    feat_ids.append(feat_id)\n",
    "    exp_specs.append(info['spec'])\n",
    "    adduct_to_smiles.append(info['adduct_to_smiles'])\n",
    "\n",
    "generate_buyable_report(feat_ids, exp_specs, adduct_to_smiles, pesticide_config, energy, output_name='pesticide_buyable_report')"
   ]
  },
  {
   "cell_type": "markdown",
   "metadata": {},
   "source": [
    "# Make plots on FEATURE_ID=919"
   ]
  },
  {
   "cell_type": "code",
   "execution_count": 119,
   "metadata": {},
   "outputs": [],
   "source": [
    "from ms_pred.common.plot_utils import set_style\n",
    "\n",
    "set_style()\n",
    "\n",
    "kinetics_df = pd.read_csv('/home/runzhong/ms_collaborators/Joules-Pesticide/peak_area_table_pos_919_sample_info.csv')\n",
    "\n",
    "days = kinetics_df['Time (days)'].unique()\n",
    "days.sort()"
   ]
  },
  {
   "cell_type": "code",
   "execution_count": 120,
   "metadata": {
    "scrolled": true
   },
   "outputs": [],
   "source": [
    "t0_df = kinetics_df[kinetics_df['Time (days)'] == 0]\n",
    "t0_mean, t0_std = np.mean(t0_df['Normalized Peak Area']), np.std(t0_df['Normalized Peak Area'])"
   ]
  },
  {
   "cell_type": "code",
   "execution_count": 121,
   "metadata": {},
   "outputs": [],
   "source": [
    "light_data = [[t0_mean], [t0_std]]\n",
    "dark_data = [[t0_mean], [t0_std]]\n",
    "for day in days[1:]:\n",
    "    tmp_df = kinetics_df[kinetics_df['Time (days)'] == day]\n",
    "    light_df = tmp_df[tmp_df['Conditions'] == 'Light']\n",
    "    light_np = light_df['Normalized Peak Area'].to_numpy()\n",
    "    if len(light_np) < 3:\n",
    "        light_np = np.concatenate((light_np, np.zeros(3 - len(light_np))))\n",
    "    light_data[0].append(np.mean(light_np))\n",
    "    light_data[1].append(np.std(light_np))\n",
    "\n",
    "    dark_df = tmp_df[tmp_df['Conditions'] == 'Dark']\n",
    "    dark_np = dark_df['Normalized Peak Area'].to_numpy()\n",
    "    dark_np = np.concatenate((dark_np, np.zeros(3 - len(dark_np))))\n",
    "    dark_data[0].append(np.mean(dark_np))\n",
    "    dark_data[1].append(np.std(dark_np))\n",
    "light_data = np.array(light_data)\n",
    "dark_data = np.array(dark_data)"
   ]
  },
  {
   "cell_type": "code",
   "execution_count": 174,
   "metadata": {},
   "outputs": [
    {
     "data": {
      "image/png": "[encoded data removed]",
      "text/plain": [
       "<Figure size 520x240 with 1 Axes>"
      ]
     },
     "metadata": {},
     "output_type": "display_data"
    }
   ],
   "source": [
    "plt.figure(figsize=(1.3, 0.6), dpi=400)\n",
    "_, caps, _ = plt.errorbar(\n",
    "    days + 1, light_data[0] / t0_mean, yerr=light_data[1] / t0_mean, \n",
    "    fmt='-o', markersize=0.8, capsize=1.5, color='#7B94CC', linewidth=0.5\n",
    ")\n",
    "for cap in caps:\n",
    "    cap.set_markeredgewidth(0.5)\n",
    "\n",
    "# set axis ticks and labels\n",
    "ax = plt.gca()\n",
    "ax.set_xscale('log')\n",
    "ax.xaxis.set_ticks(np.array([0, 1, 3, 7, 15, 35, 70]) +1)\n",
    "ax.set_xticklabels([0, 1, 3, 7, 15, 35, 70])\n",
    "ax.xaxis.set_ticks([], minor=True)\n",
    "plt.ylabel('area (norm.)')\n",
    "ax.yaxis.set_label_coords(-0.08, 0.5)\n",
    "plt.xlabel(\"days\")\n",
    "ax.xaxis.set_label_coords(0.5, -0.25)\n",
    "ax.set_ylim(-0.5, 7)\n",
    "\n",
    "# remove box\n",
    "ax.spines['top'].set_visible(False)\n",
    "ax.spines['right'].set_visible(False)\n",
    "\n",
    "plt.savefig(\"results/figs_iceberg/919_light_kinetics.pdf\", bbox_inches=\"tight\", transparent=True)"
   ]
  },
  {
   "cell_type": "code",
   "execution_count": 176,
   "metadata": {},
   "outputs": [
    {
     "data": {
      "image/png": "[encoded data removed]",
      "text/plain": [
       "<Figure size 520x240 with 1 Axes>"
      ]
     },
     "metadata": {},
     "output_type": "display_data"
    }
   ],
   "source": [
    "plt.figure(figsize=(1.3, 0.6), dpi=400)\n",
    "_, caps, _ = plt.errorbar(\n",
    "    days + 1, dark_data[0] / t0_mean, yerr=dark_data[1] / t0_mean,\n",
    "    fmt='-o', markersize=0.8, capsize=1.5, color='#7B94CC', linewidth=0.5\n",
    ")\n",
    "for cap in caps:\n",
    "    cap.set_markeredgewidth(0.5)\n",
    "\n",
    "# set axis ticks and labels\n",
    "ax = plt.gca()\n",
    "ax.set_xscale('log')\n",
    "ax.xaxis.set_ticks(np.array([0, 1, 3, 7, 15, 35, 70]) +1)\n",
    "ax.set_xticklabels([0, 1, 3, 7, 15, 35, 70])\n",
    "ax.xaxis.set_ticks([], minor=True)\n",
    "plt.ylabel('area (norm.)')\n",
    "ax.yaxis.set_label_coords(-0.1, 0.5)\n",
    "plt.xlabel(\"days\")\n",
    "ax.xaxis.set_label_coords(0.5, -0.25)\n",
    "ax.set_ylim(-0.5, 11)\n",
    "\n",
    "# remove box\n",
    "ax.spines['top'].set_visible(False)\n",
    "ax.spines['right'].set_visible(False)\n",
    "\n",
    "plt.savefig(\"results/figs_iceberg/919_dark_kinetics.pdf\", bbox_inches=\"tight\", transparent=True)"
   ]
  }
 ],
 "metadata": {
  "kernelspec": {
   "display_name": "Python (ms-main)",
   "language": "python",
   "name": "ms-main"
  },
  "language_info": {
   "codemirror_mode": {
    "name": "ipython",
    "version": 3
   },
   "file_extension": ".py",
   "mimetype": "text/x-python",
   "name": "python",
   "nbconvert_exporter": "python",
   "pygments_lexer": "ipython3",
   "version": "3.8.18"
  }
 },
 "nbformat": 4,
 "nbformat_minor": 4
}
