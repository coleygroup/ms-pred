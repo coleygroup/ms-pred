{
 "cells": [
  {
   "cell_type": "code",
   "execution_count": 2,
   "metadata": {},
   "outputs": [
    {
     "name": "stderr",
     "output_type": "stream",
     "text": [
      "/home/samlg/.conda/envs/ms-gen/lib/python3.8/site-packages/tqdm/auto.py:22: TqdmWarning: IProgress not found. Please update jupyter and ipywidgets. See https://ipywidgets.readthedocs.io/en/stable/user_install.html\n",
      "  from .autonotebook import tqdm as notebook_tqdm\n"
     ]
    }
   ],
   "source": [
    "from pathlib import Path\n",
    "import pandas as pd\n",
    "import numpy as np\n",
    "from pathlib import Path\n",
    "from ms_pred.common.plot_utils import *\n",
    "set_style()"
   ]
  },
  {
   "cell_type": "code",
   "execution_count": 8,
   "metadata": {},
   "outputs": [
    {
     "name": "stdout",
     "output_type": "stream",
     "text": [
      "Len of nist20: 35,129\n",
      "Len of nist20 after inchikey grouping: 24,403\n",
      "Len of nist20 after formula grouping: 12,975\n",
      "Len of nist20 after ionization grouping: 6\n",
      "Index(['[M+H-2H2O]+', '[M+H-H2O]+', '[M+H]+', '[M+K]+', '[M+NH4]+', '[M+Na]+'], dtype='object', name='ionization')\n",
      "Split details for nist20 split_1.tsv\n",
      "         spec\n",
      "Fold_0       \n",
      "test     3544\n",
      "train   28420\n",
      "val      3165\n",
      "Split details for nist20 scaffold_1.tsv\n",
      "         spec\n",
      "Fold_0       \n",
      "test     3512\n",
      "train   28105\n",
      "val      3512\n",
      "Len of canopus_train_public: 10,709\n",
      "Len of canopus_train_public after inchikey grouping: 8,553\n",
      "Len of canopus_train_public after formula grouping: 5,433\n",
      "Len of canopus_train_public after ionization grouping: 7\n",
      "Index(['[M+H3N+H]+', '[M+H]+', '[M+K]+', '[M+Na]+', '[M-H2O+H]+',\n",
      "       '[M-H4O2+H]+', '[M]+'],\n",
      "      dtype='object', name='ionization')\n",
      "Split details for canopus_train_public split_1.tsv\n",
      "        spec\n",
      "Fold_0      \n",
      "test    1040\n",
      "train   8680\n",
      "val      989\n"
     ]
    }
   ],
   "source": [
    "dataset_names = [\"nist20\", \"canopus_train_public\"]\n",
    "split_names = [\"split_1.tsv\", \"scaffold_1.tsv\"]\n",
    "name_to_df = {}\n",
    "for dataset_name in dataset_names:\n",
    "    data_folder = Path(f\"../data/spec_datasets/{dataset_name}/\")\n",
    "    labels = data_folder / \"labels.tsv\"\n",
    "    df = pd.read_csv(labels, sep=\"\\t\")\n",
    "    name_to_df[dataset_name] = df\n",
    "    # print len of df  in nice f string\n",
    "    print(f\"Len of {dataset_name}: {df.shape[0]:,}\")\n",
    "\n",
    "    # get the intersection of the inchikeys\n",
    "    grouped_ikeys = df.groupby(\"inchikey\").count()\n",
    "    # Print shape\n",
    "    print(f\"Len of {dataset_name} after inchikey grouping: {grouped_ikeys.shape[0]:,}\")\n",
    "    # Get intersection of formula\n",
    "    grouped_formula = df.groupby(\"formula\").count()\n",
    "    # Print shape\n",
    "    print(f\"Len of {dataset_name} after formula grouping: {grouped_formula.shape[0]:,}\")\n",
    "    \n",
    "    # Get intersection of ionization\n",
    "    grouped_ions = df.groupby(\"ionization\").count()\n",
    "    # Print shape\n",
    "    print(f\"Len of {dataset_name} after ionization grouping: {grouped_ions.shape[0]:,}\")\n",
    "    print(f\"{grouped_ions.index}\")\n",
    "\n",
    "    # Print split details\n",
    "    for split_name in split_names:\n",
    "        split = data_folder / f\"splits/{split_name}\"\n",
    "        if split.exists():\n",
    "            split_df = pd.read_csv(split, sep=\"\\t\")\n",
    "            split_ct = split_df.groupby(\"Fold_0\").count()\n",
    "            # Pretty print  the full ct df\n",
    "            print(f\"Split details for {dataset_name} {split_name}\")\n",
    "\n",
    "            print(split_ct)\n"
   ]
  },
  {
   "attachments": {},
   "cell_type": "markdown",
   "metadata": {},
   "source": [
    "Saved output:\n",
    "\n",
    "```\n",
    "Len of nist20: 35,129\n",
    "Len of nist20 after inchikey grouping: 24,403\n",
    "Len of nist20 after formula grouping: 12,975\n",
    "Len of nist20 after ionization grouping: 6\n",
    "Index(['[M+H-2H2O]+', '[M+H-H2O]+', '[M+H]+', '[M+K]+', '[M+NH4]+', '[M+Na]+'], dtype='object', name='ionization')\n",
    "Split details for nist20 split_1.tsv\n",
    "         spec\n",
    "Fold_0       \n",
    "test     3544\n",
    "train   28420\n",
    "val      3165\n",
    "Split details for nist20 scaffold_1.tsv\n",
    "         spec\n",
    "Fold_0       \n",
    "test     3512\n",
    "train   28105\n",
    "val      3512\n",
    "Len of canopus_train_public: 10,709\n",
    "Len of canopus_train_public after inchikey grouping: 8,553\n",
    "Len of canopus_train_public after formula grouping: 5,433\n",
    "Len of canopus_train_public after ionization grouping: 7\n",
    "Index(['[M+H3N+H]+', '[M+H]+', '[M+K]+', '[M+Na]+', '[M-H2O+H]+',\n",
    "       '[M-H4O2+H]+', '[M]+'],\n",
    "      dtype='object', name='ionization')\n",
    "Split details for canopus_train_public split_1.tsv\n",
    "        spec\n",
    "Fold_0      \n",
    "test    1040\n",
    "train   8680\n",
    "val      989\n",
    "```\n"
   ]
  }
 ],
 "metadata": {
  "kernelspec": {
   "display_name": "ms-gen",
   "language": "python",
   "name": "python3"
  },
  "language_info": {
   "codemirror_mode": {
    "name": "ipython",
    "version": 3
   },
   "file_extension": ".py",
   "mimetype": "text/x-python",
   "name": "python",
   "nbconvert_exporter": "python",
   "pygments_lexer": "ipython3",
   "version": "3.8.13"
  },
  "orig_nbformat": 4,
  "vscode": {
   "interpreter": {
    "hash": "0104df62c80ee1845876b5ec5b2a8b2e89ea0f28159e1f86b83bf27a253591c7"
   }
  }
 },
 "nbformat": 4,
 "nbformat_minor": 2
}
